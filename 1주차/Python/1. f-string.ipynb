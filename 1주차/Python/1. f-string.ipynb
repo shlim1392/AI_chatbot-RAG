{
 "cells": [
  {
   "cell_type": "markdown",
   "id": "c6f75f04",
   "metadata": {},
   "source": [
    "## 1️⃣ f-string이란?\n",
    "\n",
    "f-string은 파이썬 3.6 이후 지원되는 **문자열 포맷팅의 표준 방식**입니다.\n",
    "\n",
    "문자열 앞에 `f`를 붙이고,\n",
    "\n",
    "**중괄호 `{}`** 안에 변수를 넣으면 자동으로 값이 출력됩니다.  \n",
    "\n",
    "\n",
    "## 2️⃣ 기존 방식과의 비교\n",
    "\n",
    "| 방식 | 코드 | 결과 |\n",
    "| --- | --- | --- |\n",
    "| `%` 포맷팅 | `\"이름: %s, 나이: %d\" % (name, age)` | 이름: 홍길동, 나이: 25 |\n",
    "| `.format()` | `\"이름: {}, 나이: {}\".format(name, age)` | 이름: 홍길동, 나이: 25 |\n",
    "| ✅ `f-string` | `f\"이름: {name}, 나이: {age}\"` | 이름: 홍길동, 나이: 25 |\n",
    "\n",
    "> ✅ f-string은 “읽히는 그대로 출력되는” 가장 직관적인 방식입니다.\n",
    "\n",
    "## 3️⃣ f-string에서 가능한 표현식들\n",
    "\n",
    "| 표현식 | 설명 | 예시 코드 | 출력 |\n",
    "| --- | --- | --- | --- |\n",
    "| 변수 | 변수 값 출력 | `f\"{name}\"` | 홍길동 |\n",
    "| 수식 | 계산 결과 | `f\"{age + 1}\"` | 26 |\n",
    "| 함수 | 함수 반환값 | `f\"{len(name)}\"` | 3 |\n",
    "| 포맷팅 | 소수점 자릿수 조정 | `f\"{3.14159:.2f}\"` | 3.14 |\n",
    "| 문자열 꾸미기 | 정렬·공백 지정 | `f\"{'Python':>10}\"` | `\"    Python\"` |\n"
   ]
  },
  {
   "cell_type": "markdown",
   "id": "aa8a1394",
   "metadata": {},
   "source": [
    "## 4️⃣ f-string 실습 ① — 자기소개 출력\n",
    "\n",
    "> 목표: 입력값을 받아 한 문장으로 표현하기"
   ]
  },
  {
   "cell_type": "code",
   "execution_count": 1,
   "id": "ed4a129a",
   "metadata": {},
   "outputs": [
    {
     "name": "stdout",
     "output_type": "stream",
     "text": [
      "안녕하세요! 저는 김철수입니다. 나이는 24살이고, 취미는 그림입니다.\n"
     ]
    }
   ],
   "source": [
    "name = input(\"이름: \")\n",
    "age = int(input(\"나이: \"))\n",
    "hobby = input(\"취미: \")\n",
    "\n",
    "print(f\"안녕하세요! 저는 {name}입니다. 나이는 {age}살이고, 취미는 {hobby}입니다.\")\n"
   ]
  },
  {
   "cell_type": "markdown",
   "id": "0a503abf",
   "metadata": {},
   "source": [
    "## 5️⃣ f-string 실습 ② — 계산기 만들기\n",
    "\n",
    "> 목표: 연산 결과를 깔끔하게 출력하기\n",
    ">"
   ]
  },
  {
   "cell_type": "code",
   "execution_count": null,
   "id": "ef180cac",
   "metadata": {},
   "outputs": [
    {
     "name": "stdout",
     "output_type": "stream",
     "text": [
      "2 + 3 = 5\n",
      "2 - 3 = -1\n",
      "2 * 3 = 6\n",
      "2 / 3 = 0.67\n"
     ]
    }
   ],
   "source": [
    "a = int(input(\"첫 번째 숫자: \"))\n",
    "b = int(input(\"두 번째 숫자: \"))\n",
    "\n",
    "print(f\"{a} + {b} = {a + b}\")\n",
    "print(f\"{a} - {b} = {a - b}\")\n",
    "print(f\"{a} * {b} = {a * b}\")\n",
    "# 소수점 : .2f -> 소수점 둘째자리까지 표현\n",
    "print(f\"{a} / {b} = {a / b:.2f}\")\n"
   ]
  },
  {
   "cell_type": "markdown",
   "id": "cde644c8",
   "metadata": {},
   "source": [
    "## 6️⃣ f-string 실습 ③ — 문자열 꾸미기 (정렬·패딩)\n",
    "\n",
    "| 코드 | 설명 | 출력 |\n",
    "| --- | --- | --- |\n",
    "| `f\"{'Python':>10}\"` | 오른쪽 정렬 | `'    Python'` |\n",
    "| `f\"{'Python':<10}\"` | 왼쪽 정렬 | `'Python    '` |\n",
    "| `f\"{'Python':^10}\"` | 가운데 정렬 | `'  Python  '` |\n",
    "| `f\"{3.14159:.3f}\"` | 소수점 3자리 | `'3.142'` |\n",
    "| `f\"{42:05}\"` | 0으로 채워 5자리 표시 | `'00042'` |"
   ]
  },
  {
   "cell_type": "code",
   "execution_count": 7,
   "id": "e5f51131",
   "metadata": {},
   "outputs": [
    {
     "name": "stdout",
     "output_type": "stream",
     "text": [
      "  과목    |   점수   \n",
      "------------------\n",
      " Python  |  95.68  \n"
     ]
    }
   ],
   "source": [
    "title = \"Python\"\n",
    "score = 95.678\n",
    "\n",
    "print(f\"{'과목':^7} | {'점수':^7}\")\n",
    "print(\"-\" * 18)\n",
    "print(f\"{title:^8} | {score:^8.2f}\")\n"
   ]
  },
  {
   "cell_type": "markdown",
   "id": "34f6e6ed",
   "metadata": {},
   "source": [
    "## 7️⃣ f-string 실습 ④ — 다중줄 문자열 (\"\"\" \"\"\")\n",
    "\n",
    "> 목표: 여러 줄에 걸친 문장을 한 번에 출력\n",
    ">"
   ]
  },
  {
   "cell_type": "code",
   "execution_count": 8,
   "id": "48e275b6",
   "metadata": {},
   "outputs": [
    {
     "name": "stdout",
     "output_type": "stream",
     "text": [
      "\n",
      "==============================\n",
      "👋 안녕하세요, 김철수님!\n",
      "직업: AI 개발자\n",
      "목표: LLM 기반 실습 커리큘럼 완성\n",
      "==============================\n",
      "\n"
     ]
    }
   ],
   "source": [
    "name = \"김철수\"\n",
    "job = \"AI 개발자\"\n",
    "goal = \"LLM 기반 실습 커리큘럼 완성\"\n",
    "\n",
    "print(f\"\"\"\n",
    "==============================\n",
    "👋 안녕하세요, {name}님!\n",
    "직업: {job}\n",
    "목표: {goal}\n",
    "==============================\n",
    "\"\"\")"
   ]
  },
  {
   "cell_type": "markdown",
   "id": "65cc5c79",
   "metadata": {},
   "source": [
    "## 8️⃣ 실무 응용 패턴 3가지 💼\n",
    "\n",
    "| 패턴 | 예시 | 설명 |\n",
    "| --- | --- | --- |\n",
    "| ✅ **로그 기록 포맷** | `f\"[INFO] {time} - {message}\"` | 콘솔 로그 자동화 |\n",
    "| ✅ **파일명 생성** | `f\"report_{date}.csv\"` | 날짜별 저장 |\n",
    "| ✅ **SQL 쿼리 구성** | `f\"SELECT * FROM users WHERE age > {age}\"` | 동적 쿼리 생성 |"
   ]
  },
  {
   "cell_type": "markdown",
   "id": "cdcd24e3",
   "metadata": {},
   "source": []
  }
 ],
 "metadata": {
  "kernelspec": {
   "display_name": "base",
   "language": "python",
   "name": "python3"
  },
  "language_info": {
   "codemirror_mode": {
    "name": "ipython",
    "version": 3
   },
   "file_extension": ".py",
   "mimetype": "text/x-python",
   "name": "python",
   "nbconvert_exporter": "python",
   "pygments_lexer": "ipython3",
   "version": "3.13.5"
  }
 },
 "nbformat": 4,
 "nbformat_minor": 5
}
