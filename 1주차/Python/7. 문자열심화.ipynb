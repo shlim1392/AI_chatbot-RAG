{
 "cells": [
  {
   "cell_type": "markdown",
   "id": "56fe8ad8",
   "metadata": {},
   "source": [
    "## 1️⃣ 문자열의 특징\n",
    "\n",
    "> 문자열(String)은 순서가 있는 문자들의 나열입니다.\n",
    "> \n",
    "> \n",
    "> 하지만 한 번 만들어지면 **수정할 수 없는(immutable)** 자료형입니다.\n",
    ">"
   ]
  },
  {
   "cell_type": "code",
   "execution_count": 7,
   "id": "8cb418bf",
   "metadata": {},
   "outputs": [
    {
     "name": "stdout",
     "output_type": "stream",
     "text": [
      "D\n",
      "e\n",
      "Data\n"
     ]
    }
   ],
   "source": [
    "# 문자열 - 인덱스/시퀀스 자료형. 순서를 가지고 있음\n",
    "word = \"Datasience\"\n",
    "# text[0] = \"J\"  ← 오류 발생 (수정 불가)\n",
    "\n",
    "print(word[0])     # 첫 글자\n",
    "print(word[-1])    # 마지막 글자\n",
    "print(word[0:4])"
   ]
  },
  {
   "cell_type": "markdown",
   "id": "9dda3cd1",
   "metadata": {},
   "source": [
    "## 3️⃣ 문자열 메서드 총정리 🔧\n",
    "\n",
    "아래 표는 실무 데이터 전처리에서 자주 쓰이는 문자열 메서드 목록입니다.\n",
    "\n",
    "각 그룹별로 실습을 함께 진행합니다.\n",
    "\n",
    "---\n",
    "\n",
    "### 🔹 (1) **대소문자 변환**\n",
    "\n",
    "| 메서드 | 설명 | 예시 |\n",
    "| --- | --- | --- |\n",
    "| `.upper()` | 모든 문자를 대문자로 | `\"python\".upper()` → `\"PYTHON\"` |\n",
    "| `.lower()` | 모든 문자를 소문자로 | `\"Python\".lower()` → `\"python\"` |\n",
    "| `.title()` | 단어 첫 글자만 대문자 | `\"data science\".title()` → `\"Data Science\"` |\n",
    "| `.capitalize()` | 문장의 첫 글자만 대문자 | `\"python programming\".capitalize()` → `\"Python programming\"` |\n",
    "| `.swapcase()` | 대↔소문자 변환 | `\"PyThOn\".swapcase()` → `\"pYtHoN\"` |"
   ]
  },
  {
   "cell_type": "code",
   "execution_count": 8,
   "id": "c925a3b6",
   "metadata": {},
   "outputs": [
    {
     "name": "stdout",
     "output_type": "stream",
     "text": [
      "DATASIENCE\n",
      "datasience\n",
      "Datasience\n",
      "Datasience\n",
      "dATASIENCE\n"
     ]
    }
   ],
   "source": [
    "# 문자열 매서드 -1\n",
    "print(word.upper()) # 모두 대문자\n",
    "print(word.lower()) # 모두 소문자\n",
    "print(word.title()) # 각 단어의 첫 글자만 대문자\n",
    "print(word.capitalize()) # 문장의 첫 글자만 대문자\n",
    "print(word.swapcase()) # 대문자는 소문자로, 소문자는 대문자로 변환\n"
   ]
  },
  {
   "cell_type": "markdown",
   "id": "9de943e2",
   "metadata": {},
   "source": [
    "### 🔹 (2) **공백 및 문자 제거**\n",
    "\n",
    "| 메서드 | 설명 | 예시 |\n",
    "| --- | --- | --- |\n",
    "| `.strip()`⭐ | 양쪽 공백 제거 | `\"   hello   \".strip()` → `\"hello\"` |\n",
    "| `.lstrip()` | 왼쪽 공백 제거 | `\"   hello\".lstrip()` → `\"hello\"` |\n",
    "| `.rstrip()` | 오른쪽 공백 제거 | `\"hello   \".rstrip()` → `\"hello\"` |\n",
    "| `.replace(a, b)`⭐ | a를 b로 치환 | `\"I love Java\".replace(\"Java\",\"Python\")` |\n",
    "| `.zfill(n)`⭐ | 자릿수 맞춰 0 채우기 | `\"42\".zfill(5)` → `\"00042\"` |"
   ]
  },
  {
   "cell_type": "code",
   "execution_count": 15,
   "id": "3d455255",
   "metadata": {},
   "outputs": [
    {
     "name": "stdout",
     "output_type": "stream",
     "text": [
      "hello, world!\n",
      "    hello, Python!    \n",
      "00042\n"
     ]
    }
   ],
   "source": [
    "# method 체이닝 -> .메서드.메서드.메서드() -> 메서드를 연결해서 쓰는 방법\n",
    "sentence = \"    hello, world!    \"\n",
    "\n",
    "# ✨strip✨ \n",
    "cleaned = sentence.strip()\n",
    "\n",
    "# ✨replace✨\n",
    "rerocate = sentence.replace(\"world\", \"Python\")\n",
    "\n",
    "# ✨zfill✨\n",
    "zero_filled = '42'.zfill(5)  # '00042'\n",
    "\n",
    "print(cleaned)\n",
    "print(rerocate)\n",
    "print(zero_filled)"
   ]
  },
  {
   "cell_type": "markdown",
   "id": "adf1a661",
   "metadata": {},
   "source": [
    "\n",
    "### 🔹 (3) **문자열 탐색**\n",
    "\n",
    "| 메서드 | 설명 | 예시 |\n",
    "| --- | --- | --- |\n",
    "| `.find(sub)`⭐ | 부분 문자열의 시작 인덱스 반환 (없으면 -1) | `\"python\".find(\"th\")` → `2` |\n",
    "| `.rfind(sub)` | 뒤에서부터 찾기 | `\"banana\".rfind(\"a\")` → `5` |\n",
    "| `.index(sub)`⭐ | find와 유사하지만 없으면 오류 발생 | `\"python\".index(\"t\")` → `2` |\n",
    "| `.count(sub)`⭐ | 특정 문자의 등장 횟수 | `\"banana\".count(\"a\")` → `3` |\n",
    "| `.startswith(prefix)` | 특정 접두사로 시작 여부 확인 | 파일명, url 컬럼명 등 패턴검사를 할 때 사용 |\n",
    "| `.endswith(suffix)` | 특정 접미사로 끝나는지 | `\"python\".endswith(\"on\")` → `True` |"
   ]
  },
  {
   "cell_type": "code",
   "execution_count": 16,
   "id": "fac75f03",
   "metadata": {},
   "outputs": [],
   "source": [
    "text = \"banana and pineapple\""
   ]
  },
  {
   "cell_type": "code",
   "execution_count": 17,
   "id": "8b834f6d",
   "metadata": {},
   "outputs": [
    {
     "name": "stdout",
     "output_type": "stream",
     "text": [
      "1\n",
      "15\n",
      "2\n",
      "5\n",
      "True\n",
      "True\n"
     ]
    }
   ],
   "source": [
    "print(text.find(\"ana\"))  # 1\n",
    "print(text.rfind(\"a\"))   # 17\n",
    "print(text.index(\"n\"))   # 2\n",
    "print(text.count(\"a\"))   # 5\n",
    "print(text.startswith(\"ban\"))  # True\n",
    "print(text.endswith(\"apple\"))  # True"
   ]
  },
  {
   "cell_type": "markdown",
   "id": "a9a7a461",
   "metadata": {},
   "source": [
    "### 🔹 (4) **문자열 구성 확인**\n",
    "\n",
    "| 메서드 | 설명 | 예시 |\n",
    "| --- | --- | --- |\n",
    "| `.isalpha()` | 알파벳만으로 구성? | `\"abc\".isalpha()` → True |\n",
    "| `.isdigit()` | 숫자로만 구성? | `\"123\".isdigit()` → True |\n",
    "| `.isalnum()` | 문자+숫자 조합? | `\"abc123\".isalnum()` → True |\n",
    "| `.islower()` | 모두 소문자? | `\"python\".islower()` → True |\n",
    "| `.isupper()` | 모두 대문자? | `\"PYTHON\".isupper()` → True |\n",
    "| `.isspace()` | 공백으로만 구성? | `\"   \".isspace()` → True |"
   ]
  },
  {
   "cell_type": "markdown",
   "id": "eb3b2674",
   "metadata": {},
   "source": [
    "### 🔹 (5) **문자열 분리·결합**\n",
    "\n",
    "| 메서드 | 설명 | 예시 |\n",
    "| --- | --- | --- |\n",
    "| `.split(sep)` ⭐| 구분자 기준으로 분리 (리스트 반환) | `\"a,b,c\".split(\",\")` → `['a','b','c']` |\n",
    "| `.splitlines()` | 줄바꿈 기준 분리 | `\"A\\nB\\nC\".splitlines()` → `['A','B','C']` |\n",
    "| `.join(list)`⭐ | 리스트를 문자열로 결합 | `\",\".join(['a','b','c'])` → `\"a,b,c\"` |\n",
    "| `.center(width)` | 문자열을 중앙 정렬 | `\"Hi\".center(10,\"-\")` → `'----Hi----'` |"
   ]
  },
  {
   "cell_type": "code",
   "execution_count": 18,
   "id": "3eae7cce",
   "metadata": {},
   "outputs": [],
   "source": [
    "sentence = \"Python,Data,AI,Machine\""
   ]
  },
  {
   "cell_type": "code",
   "execution_count": null,
   "id": "aad3bbf1",
   "metadata": {},
   "outputs": [
    {
     "name": "stdout",
     "output_type": "stream",
     "text": [
      "['Python', 'Data', 'AI', 'Machine']\n",
      "Python@Data@AI@Machine\n"
     ]
    }
   ],
   "source": [
    "# split\n",
    "words = sentence.split(\",\")\n",
    "print(words)  # ['Python', 'Data', 'AI', 'Machine']\n",
    "\n",
    "# join \n",
    "Joined = \"@\".join(words)\n",
    "print(Joined)  # Python@Data@AI@Machine\n",
    "\n"
   ]
  },
  {
   "cell_type": "markdown",
   "id": "728acb4c",
   "metadata": {},
   "source": [
    "### 🔹 (6) **문자열 정렬 / 채우기**\n",
    "\n",
    "| 메서드 | 설명 | 예시 |\n",
    "| --- | --- | --- |\n",
    "| `.center(n, char)` | 가운데 정렬 | `\"Hi\".center(10, \"-\")` → `'----Hi----'` |\n",
    "| `.ljust(n)` | 왼쪽 정렬 | `\"Hi\".ljust(10)` → `'Hi        '` |\n",
    "| `.rjust(n)` | 오른쪽 정렬 | `\"Hi\".rjust(10)` → `'        Hi'` |"
   ]
  },
  {
   "cell_type": "markdown",
   "id": "b49571fe",
   "metadata": {},
   "source": [
    "## 🧩 종합 실습 — 문자열 정제 프로그램"
   ]
  },
  {
   "cell_type": "code",
   "execution_count": 22,
   "id": "cfe82e59",
   "metadata": {},
   "outputs": [
    {
     "name": "stdout",
     "output_type": "stream",
     "text": [
      "\n",
      "[문자열 처리 결과]\n",
      "원본 : data 사이언스 python\n",
      "정제: data 사이언스 python\n",
      "'a' 문자의 개수: 2\n",
      "데이터 관련 문자열이네요!\n"
     ]
    }
   ],
   "source": [
    "test = input(\"문자열을 입력하세요: \")\n",
    "\n",
    "cleaned = test.strip().lower()\n",
    "count_a = cleaned.count('a')\n",
    "\n",
    "print(\"\\n[문자열 처리 결과]\")\n",
    "print(\"원본 :\", test)\n",
    "print(\"정제:\" , cleaned)\n",
    "print(f\"'a' 문자의 개수:\", count_a)\n",
    "\n",
    "if cleaned.startswith(\"data\"):\n",
    "    print(\"데이터 관련 문자열이네요!\")\n",
    "elif cleaned.endswith(\"python\"):\n",
    "    print(\"파이썬으로 끝납니다\")\n",
    "else :\n",
    "    print(\"데이터도 아니고 파이썬도 아니네요\")"
   ]
  },
  {
   "cell_type": "markdown",
   "id": "37dcee37",
   "metadata": {},
   "source": []
  }
 ],
 "metadata": {
  "kernelspec": {
   "display_name": "base",
   "language": "python",
   "name": "python3"
  },
  "language_info": {
   "codemirror_mode": {
    "name": "ipython",
    "version": 3
   },
   "file_extension": ".py",
   "mimetype": "text/x-python",
   "name": "python",
   "nbconvert_exporter": "python",
   "pygments_lexer": "ipython3",
   "version": "3.13.5"
  }
 },
 "nbformat": 4,
 "nbformat_minor": 5
}
