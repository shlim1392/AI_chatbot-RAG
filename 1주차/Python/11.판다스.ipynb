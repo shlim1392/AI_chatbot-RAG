{
 "cells": [
  {
   "cell_type": "markdown",
   "id": "6617e957",
   "metadata": {},
   "source": [
    "## 1️⃣ 판다스(Pandas)가 필요한 이유\n",
    "\n",
    "> NumPy는 빠르지만 “행과 열의 의미”가 없습니다.\n",
    "> \n",
    "> \n",
    "> 즉, 숫자는 처리할 수 있어도 “데이터의 이름, 컬럼, 인덱스”를 모릅니다.\n",
    "> \n",
    "\n",
    "**Pandas는 그 한계를 극복한 데이터 분석용 라이브러리입니다.**\n",
    "\n",
    "---\n",
    "\n",
    "### 💡 판다스의 주요 특징\n",
    "\n",
    "| 항목 | 설명 |\n",
    "| --- | --- |\n",
    "| 구조화된 데이터 | 행(Row) + 열(Column) 형태 |\n",
    "| 레이블 기반(변수이름 기반) 접근 | 숫자가 아닌 “이름”으로 데이터 접근 |\n",
    "| 다양한 입출력 지원 | CSV, Excel, JSON, SQL, HTML 등 |\n",
    "| NumPy 기반 | 내부적으로 NumPy 배열을 사용 (고속 연산) |\n",
    "| 분석 친화적 | 그룹, 피벗, 통계, 결측치 처리 등 내장 |\n",
    "\n",
    "---\n",
    "\n",
    "### 📊 실무 예시\n",
    "\n",
    "| 사례 | 활용 예 |\n",
    "| --- | --- |\n",
    "| 매출 데이터 분석 | `read_csv()`로 불러와 `groupby()`로 합계 계산 |\n",
    "| 고객 데이터 관리 | 고객 등급, 구매 패턴 집계 |\n",
    "| 텍스트 데이터 분석 | 댓글, 리뷰 데이터 전처리 |\n",
    "| AI 학습 데이터 준비 | CSV → DataFrame 변환 후 모델 학습용 구조화 |\n",
    "\n",
    "---\n",
    "\n",
    "## 2️⃣ Series와 DataFrame\n",
    "\n",
    "> Pandas의 기본 데이터 단위는 두 가지입니다.\n",
    "> \n",
    "\n",
    "---\n",
    "\n",
    "### 🔹 Series (1차원)\n",
    "\n",
    "> “하나의 열(column)”을 표현하는 1차원 구조\n",
    "> \n",
    "> \n",
    "> (인덱스와 값으로 구성)\n",
    ">"
   ]
  },
  {
   "cell_type": "code",
   "execution_count": 5,
   "id": "4f93598c",
   "metadata": {},
   "outputs": [
    {
     "name": "stdout",
     "output_type": "stream",
     "text": [
      "0    100\n",
      "1    200\n",
      "2    300\n",
      "3    400\n",
      "dtype: int64\n"
     ]
    }
   ],
   "source": [
    "# 1차원 자료 생성\n",
    "import pandas as pd\n",
    "\n",
    "s = pd.Series([100, 200, 300, 400])\n",
    "print(s)"
   ]
  },
  {
   "cell_type": "code",
   "execution_count": 9,
   "id": "5dc27b95",
   "metadata": {},
   "outputs": [
    {
     "data": {
      "text/html": [
       "<div>\n",
       "<style scoped>\n",
       "    .dataframe tbody tr th:only-of-type {\n",
       "        vertical-align: middle;\n",
       "    }\n",
       "\n",
       "    .dataframe tbody tr th {\n",
       "        vertical-align: top;\n",
       "    }\n",
       "\n",
       "    .dataframe thead th {\n",
       "        text-align: right;\n",
       "    }\n",
       "</style>\n",
       "<table border=\"1\" class=\"dataframe\">\n",
       "  <thead>\n",
       "    <tr style=\"text-align: right;\">\n",
       "      <th></th>\n",
       "      <th>이름</th>\n",
       "      <th>나이</th>\n",
       "      <th>직업</th>\n",
       "    </tr>\n",
       "  </thead>\n",
       "  <tbody>\n",
       "    <tr>\n",
       "      <th>0</th>\n",
       "      <td>홍길동</td>\n",
       "      <td>30</td>\n",
       "      <td>개발자</td>\n",
       "    </tr>\n",
       "    <tr>\n",
       "      <th>1</th>\n",
       "      <td>이몽룡</td>\n",
       "      <td>20</td>\n",
       "      <td>분석가</td>\n",
       "    </tr>\n",
       "    <tr>\n",
       "      <th>2</th>\n",
       "      <td>성춘향</td>\n",
       "      <td>40</td>\n",
       "      <td>디자이너</td>\n",
       "    </tr>\n",
       "  </tbody>\n",
       "</table>\n",
       "</div>"
      ],
      "text/plain": [
       "    이름  나이    직업\n",
       "0  홍길동  30   개발자\n",
       "1  이몽룡  20   분석가\n",
       "2  성춘향  40  디자이너"
      ]
     },
     "metadata": {},
     "output_type": "display_data"
    }
   ],
   "source": [
    "# 2차원 배열 생성 - Data frame 생성\n",
    "# json형태의 자료구조 형태를 볼 수 있음\n",
    "\n",
    "data = {\n",
    "    \"이름\" : [\"홍길동\", \"이몽룡\", \"성춘향\"],\n",
    "    \"나이\" : [30,20,40],\n",
    "    \"직업\" : [\"개발자\", \"분석가\", \"디자이너\"]}\n",
    "\n",
    "\n",
    "df  = pd.DataFrame(data)\n",
    "display(df)"
   ]
  },
  {
   "cell_type": "markdown",
   "id": "d3692aa0",
   "metadata": {},
   "source": [
    "---\n",
    "\n",
    "## 3️⃣ CSV 파일 읽기 & 쓰기\n",
    "\n",
    "> CSV(Comma-Separated Values)는\n",
    "> \n",
    "> \n",
    "> 가장 일반적인 **데이터 파일 포맷**입니다.\n",
    ">"
   ]
  },
  {
   "cell_type": "code",
   "execution_count": null,
   "id": "5c5fe57f",
   "metadata": {},
   "outputs": [],
   "source": [
    "# csv로 저장\n",
    "df.to_csv(\"test.csv\", index=False, encoding=\"utf-8\")\n"
   ]
  },
  {
   "cell_type": "code",
   "execution_count": 13,
   "id": "aa6d8b0d",
   "metadata": {},
   "outputs": [
    {
     "data": {
      "text/html": [
       "<div>\n",
       "<style scoped>\n",
       "    .dataframe tbody tr th:only-of-type {\n",
       "        vertical-align: middle;\n",
       "    }\n",
       "\n",
       "    .dataframe tbody tr th {\n",
       "        vertical-align: top;\n",
       "    }\n",
       "\n",
       "    .dataframe thead th {\n",
       "        text-align: right;\n",
       "    }\n",
       "</style>\n",
       "<table border=\"1\" class=\"dataframe\">\n",
       "  <thead>\n",
       "    <tr style=\"text-align: right;\">\n",
       "      <th></th>\n",
       "      <th>이름</th>\n",
       "      <th>나이</th>\n",
       "      <th>직업</th>\n",
       "    </tr>\n",
       "  </thead>\n",
       "  <tbody>\n",
       "    <tr>\n",
       "      <th>0</th>\n",
       "      <td>홍길동</td>\n",
       "      <td>30</td>\n",
       "      <td>개발자</td>\n",
       "    </tr>\n",
       "    <tr>\n",
       "      <th>1</th>\n",
       "      <td>이몽룡</td>\n",
       "      <td>20</td>\n",
       "      <td>분석가</td>\n",
       "    </tr>\n",
       "    <tr>\n",
       "      <th>2</th>\n",
       "      <td>성춘향</td>\n",
       "      <td>40</td>\n",
       "      <td>디자이너</td>\n",
       "    </tr>\n",
       "  </tbody>\n",
       "</table>\n",
       "</div>"
      ],
      "text/plain": [
       "    이름  나이    직업\n",
       "0  홍길동  30   개발자\n",
       "1  이몽룡  20   분석가\n",
       "2  성춘향  40  디자이너"
      ]
     },
     "metadata": {},
     "output_type": "display_data"
    }
   ],
   "source": [
    "df2 = pd.read_csv(\"test.csv\", encoding=\"utf-8\")\n",
    "display(df2)"
   ]
  },
  {
   "cell_type": "markdown",
   "id": "f694c406",
   "metadata": {},
   "source": [
    "---\n",
    "\n",
    "## 4️⃣ 데이터 확인 메서드\n",
    "\n",
    "> CSV 파일을 불러왔으면 가장 먼저 “데이터의 구조”를 살펴봐야 합니다.\n",
    ">"
   ]
  },
  {
   "cell_type": "code",
   "execution_count": null,
   "id": "962add62",
   "metadata": {},
   "outputs": [
    {
     "name": "stdout",
     "output_type": "stream",
     "text": [
      "    이름  나이   직업\n",
      "0  홍길동  30  개발자\n",
      "    이름  나이    직업\n",
      "2  성춘향  40  디자이너\n",
      "<class 'pandas.core.frame.DataFrame'>\n",
      "RangeIndex: 3 entries, 0 to 2\n",
      "Data columns (total 3 columns):\n",
      " #   Column  Non-Null Count  Dtype \n",
      "---  ------  --------------  ----- \n",
      " 0   이름      3 non-null      object\n",
      " 1   나이      3 non-null      int64 \n",
      " 2   직업      3 non-null      object\n",
      "dtypes: int64(1), object(2)\n",
      "memory usage: 204.0+ bytes\n",
      "None\n",
      "         나이\n",
      "count   3.0\n",
      "mean   30.0\n",
      "std    10.0\n",
      "min    20.0\n",
      "25%    25.0\n",
      "50%    30.0\n",
      "75%    35.0\n",
      "max    40.0\n"
     ]
    }
   ],
   "source": [
    "# 데이터 확인 메서드\n",
    "# 1. head() / tail()\n",
    "# 데이터가 제대로 출력되는지 확인\n",
    "print(df2.head(1))\n",
    "print(df2.tail(1))\n",
    "\n",
    "# 2. info()\n",
    "# rangeIndex : 총 데이터 수 파악 / data colums : 총 자료의 개수 파악\n",
    "# Non-Null : null값 확인 // Dtype : 자료형파악 // memory usage : 메모리 사용량\n",
    "print(df2.info())\n",
    "\n",
    "# 3. describe()\n",
    "# 수치형 자료에 대한 통계량 확인 \n",
    "# 1. 이상치는 없는지 2. 데이터의 구조및 분포 확인 3. 한가지값으로만 이루어지지 않았는지 빠르게 파악\n",
    "print(df2.describe())"
   ]
  },
  {
   "cell_type": "markdown",
   "id": "1879682e",
   "metadata": {},
   "source": [
    "## 5️⃣ 🧩 추가 실습 — “직원 정보 데이터 미리보기”\n",
    "\n",
    "> 다음과 같은 CSV를 예시로 사용합니다.\n",
    ">"
   ]
  },
  {
   "cell_type": "code",
   "execution_count": 21,
   "id": "d47531df",
   "metadata": {},
   "outputs": [
    {
     "name": "stdout",
     "output_type": "stream",
     "text": [
      "<class 'pandas.core.frame.DataFrame'>\n",
      "RangeIndex: 3 entries, 0 to 2\n",
      "Data columns (total 4 columns):\n",
      " #   Column  Non-Null Count  Dtype \n",
      "---  ------  --------------  ----- \n",
      " 0   이름      3 non-null      object\n",
      " 1   부서      3 non-null      object\n",
      " 2   직급      3 non-null      object\n",
      " 3   연봉      3 non-null      int64 \n",
      "dtypes: int64(1), object(3)\n",
      "memory usage: 228.0+ bytes\n",
      "None\n",
      "                 연봉\n",
      "count      3.000000\n",
      "mean   17833.333333\n",
      "std    20930.440352\n",
      "min     5500.000000\n",
      "25%     5750.000000\n",
      "50%     6000.000000\n",
      "75%    24000.000000\n",
      "max    42000.000000\n",
      "    이름  부서  직급     연봉\n",
      "0  홍길동  개발  대리   5500\n",
      "1  이몽룡  기획  사원  42000\n",
      "    이름   부서  직급     연봉\n",
      "1  이몽룡   기획  사원  42000\n",
      "2  성춘향  디자인  과장   6000\n",
      "17833.333333333332\n",
      "42000\n"
     ]
    }
   ],
   "source": [
    "data = {\n",
    "    \"이름\" : [\"홍길동\", \"이몽룡\", \"성춘향\"],\n",
    "    \"부서\" : [\"개발\", \"기획\", \"디자인\"],\n",
    "    \"직급\" : [\"대리\", \"사원\", \"과장\"],\n",
    "    \"연봉\" : [5500, 42000, 6000]\n",
    "}\n",
    "\n",
    "# 데이터 프레임 만들기\n",
    "df = pd.DataFrame(data)\n",
    "\n",
    "# csv 만들기\n",
    "df.to_csv(\"employee.csv\", index=False, encoding=\"utf-8\")\n",
    "\n",
    "#현황 살펴보기\n",
    "print(df.info())\n",
    "print(df.describe())\n",
    "print(df.head(2))\n",
    "print(df.tail(2))\n",
    "\n",
    "# 연봉 평균, 최대값 \n",
    "print(df[\"연봉\"].mean())\n",
    "print(df[\"연봉\"].max())"
   ]
  },
  {
   "cell_type": "markdown",
   "id": "13dc707b",
   "metadata": {},
   "source": []
  }
 ],
 "metadata": {
  "kernelspec": {
   "display_name": "base",
   "language": "python",
   "name": "python3"
  },
  "language_info": {
   "codemirror_mode": {
    "name": "ipython",
    "version": 3
   },
   "file_extension": ".py",
   "mimetype": "text/x-python",
   "name": "python",
   "nbconvert_exporter": "python",
   "pygments_lexer": "ipython3",
   "version": "3.13.5"
  }
 },
 "nbformat": 4,
 "nbformat_minor": 5
}
