{
 "cells": [
  {
   "cell_type": "code",
   "execution_count": null,
   "id": "a3b1d8e6",
   "metadata": {},
   "outputs": [],
   "source": [
    "문제 1: 카페 주문 영수증 만들기 (기본 return 함수)\n",
    "상황: 여러분은 카페에서 일하고 있습니다. 손님이 주문한 음료의 영수증을 출력하는 함수가 필요합니다.\n",
    "만들어야 할 것:\n",
    "\n",
    "함수 이름: create_receipt\n",
    "매개변수: drink_name (음료 이름), price (가격), quantity (수량)\n",
    "기능: 주문 정보를 보기 좋게 정리한 영수증 문자열을 반환\n",
    "반환 예시: \"주문: 아메리카노 2잔, 총 금액: 9000원\"\n",
    "\n",
    "힌트: f-string을 사용하면 문자열을 쉽게 만들 수 있습니다.\n",
    "\n",
    "문제 1: 카페 주문 영수증 만들기\n",
    "pythondef create_receipt(drink_name, price, quantity):\n",
    "    # 총 금액을 계산합니다 (가격 곱하기 수량)\n",
    "    total_price = ________\n",
    "    \n",
    "    # f-string을 사용해서 영수증 문자열을 만듭니다\n",
    "    # 형식: \"주문: 음료이름 수량잔, 총 금액: 총금액원\"\n",
    "    return ________\n",
    "\n",
    "\n",
    "# 테스트 코드 - 이 부분은 수정하지 마세요\n",
    "print(create_receipt(\"아메리카노\", 4500, 2))\n",
    "# 예상 출력: 주문: 아메리카노 2잔, 총 금액: 9000원"
   ]
  },
  {
   "cell_type": "code",
   "execution_count": 2,
   "id": "836475d9",
   "metadata": {},
   "outputs": [
    {
     "name": "stdout",
     "output_type": "stream",
     "text": [
      "주문: 아메리카노 2잔, 총 금액: 4000원\n"
     ]
    }
   ],
   "source": [
    "def create_receipt(drink_name, price, quantity):\n",
    "    total_price = price * quantity\n",
    "    return f\"주문: {drink_name} {quantity}잔, 총 금액: {total_price}원\"\n",
    "\n",
    "print(create_receipt(\"아메리카노\", 2000, 2))"
   ]
  },
  {
   "cell_type": "code",
   "execution_count": 4,
   "id": "50a3413e",
   "metadata": {},
   "outputs": [
    {
     "data": {
      "text/plain": [
       "'주문: 아메리카노 2잔, 총 금액: 9000원'"
      ]
     },
     "execution_count": 4,
     "metadata": {},
     "output_type": "execute_result"
    }
   ],
   "source": [
    "def create_receipt():\n",
    "    drink_name, price, quantity = map(str, input().split())\n",
    "    total_price = int(price) * int(quantity)\n",
    "    return f\"주문: {drink_name} {quantity}잔, 총 금액: {total_price}원\"\n",
    "\n",
    "create_receipt()"
   ]
  },
  {
   "cell_type": "code",
   "execution_count": 5,
   "id": "d7d7fc83",
   "metadata": {},
   "outputs": [
    {
     "name": "stdout",
     "output_type": "stream",
     "text": [
      "7세이하 유아는 0원입니다\n",
      "18세 이하 청소년은 8000원 입니다\n",
      "성인 요금은 12000원입니다\n",
      "경로우대 요금은 7000원입니다\n"
     ]
    }
   ],
   "source": [
    "def calculate_ticket_price(age):\n",
    "    # 나이에 따라 다른 가격을 반환하세요\n",
    "    \n",
    "    if age <= 7:  # 7세 이하\n",
    "        return f\"7세이하 유아는 0원입니다\"  # 0원\n",
    "    \n",
    "    elif age <= 18 :  # 18세 이하\n",
    "        return f\"18세 이하 청소년은 8000원 입니다\"  # 8000원\n",
    "    \n",
    "    elif age <= 64:  # 64세 이하\n",
    "        return f\"성인 요금은 12000원입니다\"  # 12000원\n",
    "    \n",
    "    else:  # 65세 이상\n",
    "        return  f\"경로우대 요금은 7000원입니다\" # 7000원\n",
    "\n",
    "\n",
    "# 테스트 코드\n",
    "print(calculate_ticket_price(5))   # 예상 출력: 0\n",
    "print(calculate_ticket_price(15))  # 예상 출력: 8000\n",
    "print(calculate_ticket_price(25))  # 예상 출력: 12000\n",
    "print(calculate_ticket_price(70))  # 예상 출력: 7000"
   ]
  },
  {
   "cell_type": "markdown",
   "id": "1c386d6a",
   "metadata": {},
   "source": [
    "문제 3: 운동 칼로리 계산기 (반복문 함수)\n",
    "상황: 헬스 앱을 만들고 있습니다. 일주일 동안 매일 운동한 시간을 입력받아 총 소모 칼로리를 계산해야 합니다.\n",
    "만들어야 할 것:\n",
    "\n",
    "함수 이름: calculate_weekly_calories\n",
    "매개변수: daily_minutes (리스트 형태로 7일간의 운동 시간, 예: [30, 45, 0, 60, 30, 0, 90])\n",
    "기능:\n",
    "\n",
    "매 10분 운동 시 50칼로리 소모로 계산\n",
    "일주일 총 운동 시간과 총 소모 칼로리를 반환\n",
    "\n",
    "\n",
    "반환 예시: \"총 운동 시간: 255분, 소모 칼로리: 1275kcal\"\n",
    "\n",
    "힌트: for 반복문으로 리스트의 각 요소를 더하고, 칼로리를 계산하세요."
   ]
  },
  {
   "cell_type": "code",
   "execution_count": 15,
   "id": "9d2f0702",
   "metadata": {},
   "outputs": [
    {
     "name": "stdout",
     "output_type": "stream",
     "text": [
      "총 운동시간 220, 주간 소모 칼로리: 1100 kcal\n",
      "총 운동시간 640, 주간 소모 칼로리: 3200 kcal\n",
      "총 운동시간 140, 주간 소모 칼로리: 700 kcal\n",
      "총 운동시간 255, 주간 소모 칼로리: 1275 kcal\n"
     ]
    }
   ],
   "source": [
    "def calculate_weekly_calories(daily_minutes):\n",
    "    calories_per_minute = 5 # 분당 소모 칼로리\n",
    "    total_calories = 0\n",
    "    total_daily_minutes = sum(daily_minutes)\n",
    "    for i in daily_minutes:\n",
    "        total_calories += i * calories_per_minute\n",
    "    return f\"총 운동시간 {total_daily_minutes}, 주간 소모 칼로리: {total_calories} kcal\"\n",
    "\n",
    "# 테스트 코드\n",
    "print(calculate_weekly_calories([30, 45, 20, 60, 15, 0, 50]))  \n",
    "print(calculate_weekly_calories([80, 100, 200, 30, 60, 80, 90]))\n",
    "print(calculate_weekly_calories([30, 40, 70, 0, 0, 0, 0]))\n",
    "print(calculate_weekly_calories([30, 45, 0, 60, 30, 0, 90]))"
   ]
  },
  {
   "cell_type": "code",
   "execution_count": 14,
   "id": "95206cbf",
   "metadata": {},
   "outputs": [
    {
     "name": "stdout",
     "output_type": "stream",
     "text": [
      "총 운동 시간: 255분, 소모 칼로리: 1250kcal\n"
     ]
    }
   ],
   "source": [
    "def calculate_weekly_calories(daily_minutes):\n",
    "    # 총 운동 시간을 저장할 변수를 0으로 초기화합니다\n",
    "    total_minutes = 0\n",
    "    # 리스트의 각 요소(하루 운동 시간)를 하나씩 가져옵니다\n",
    "    for minutes in daily_minutes:\n",
    "        # 각 운동 시간을 total_minutes에 더합니다\n",
    "        total_minutes += minutes\n",
    "    \n",
    "    # 총 칼로리를 계산합니다\n",
    "    # 10분당 50칼로리이므로 (총시간 나누기 10) 곱하기 50\n",
    "    # // 연산자는 나누기 후 소수점을 버립니다\n",
    "    total_calories = (total_minutes // 10) * 50\n",
    "    \n",
    "    # 결과를 f-string으로 만들어 반환합니다\n",
    "    # 형식: \"총 운동 시간: 숫자분, 소모 칼로리: 숫자kcal\"\n",
    "    return f\"총 운동 시간: {total_minutes}분, 소모 칼로리: {total_calories}kcal\"\n",
    "\n",
    "\n",
    "# 테스트 코드 - 이 부분은 수정하지 마세요\n",
    "print(calculate_weekly_calories([30, 45, 0, 60, 30, 0, 90]))\n",
    "# 예상 출력: 총 운동 시간: 255분, 소모 칼로리: 1250kcal"
   ]
  },
  {
   "cell_type": "code",
   "execution_count": null,
   "id": "4bfd35a7",
   "metadata": {},
   "outputs": [],
   "source": []
  }
 ],
 "metadata": {
  "kernelspec": {
   "display_name": "base",
   "language": "python",
   "name": "python3"
  },
  "language_info": {
   "codemirror_mode": {
    "name": "ipython",
    "version": 3
   },
   "file_extension": ".py",
   "mimetype": "text/x-python",
   "name": "python",
   "nbconvert_exporter": "python",
   "pygments_lexer": "ipython3",
   "version": "3.13.5"
  }
 },
 "nbformat": 4,
 "nbformat_minor": 5
}
