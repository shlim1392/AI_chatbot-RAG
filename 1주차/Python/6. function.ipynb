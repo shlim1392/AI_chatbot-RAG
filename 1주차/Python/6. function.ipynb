{
 "cells": [
  {
   "cell_type": "markdown",
   "id": "6d61d791",
   "metadata": {},
   "source": [
    "## 1️⃣ 함수란? (코드 재사용의 핵심)\n",
    "\n",
    "> 함수(Function)란\n",
    "> \n",
    "> \n",
    "> 여러 번 사용할 수 있는 “작은 프로그램(기능 단위)”을 의미합니다.\n",
    "> \n",
    "\n",
    "\n",
    "### 💡 함수가 필요한 이유\n",
    "\n",
    "- **코드 재사용**: 같은 기능을 여러 번 작성할 필요 없음\n",
    "- **가독성 향상**: 코드 구조를 명확하게 구분\n",
    "- **유지보수 용이**: 함수만 수정하면 전체 기능 수정 가능"
   ]
  },
  {
   "cell_type": "markdown",
   "id": "221d0ffe",
   "metadata": {},
   "source": [
    "## 2️⃣ 함수의 기본 구조\n",
    "\n",
    "def 함수이름(매개변수):  \n",
    ">>>>수행할 코드  \n",
    ">>>>return 결과  \n"
   ]
  },
  {
   "cell_type": "markdown",
   "id": "0955fd09",
   "metadata": {},
   "source": [
    "💻 예제 ①: 간단한 함수 정의와 호출"
   ]
  },
  {
   "cell_type": "code",
   "execution_count": null,
   "id": "fc3c8e1b",
   "metadata": {},
   "outputs": [
    {
     "name": "stdout",
     "output_type": "stream",
     "text": [
      "Hello, world!\n"
     ]
    }
   ],
   "source": [
    "def say_hello():\n",
    "    print(\"Hello, world!\") \n",
    "    \n",
    "say_hello()# input이 필요없는 함수"
   ]
  },
  {
   "cell_type": "markdown",
   "id": "b3ce0809",
   "metadata": {},
   "source": [
    "## 3️⃣ 매개변수와 인자 (Parameter vs Argument)\n",
    "\n",
    "> 매개변수(Parameter)는 “입력받는 변수”\n",
    "> \n",
    "> \n",
    "> 인자(Argument)는 “함수를 호출할 때 전달하는 실제 값”\n",
    ">"
   ]
  },
  {
   "cell_type": "code",
   "execution_count": 5,
   "id": "58f8b6d3",
   "metadata": {},
   "outputs": [
    {
     "name": "stdout",
     "output_type": "stream",
     "text": [
      "Hello, Alice!\n"
     ]
    }
   ],
   "source": [
    "# name이라는 매개변수 추가\n",
    "def greet(name):\n",
    "    print(f\"Hello, {name}!\")\n",
    "    \n",
    "greet(\"Alice\") #input이 필요한 함수"
   ]
  },
  {
   "cell_type": "markdown",
   "id": "618ee6c5",
   "metadata": {},
   "source": [
    "## 4️⃣ return 문 — 함수의 결과값 돌려주기\n",
    "\n",
    "> 함수는 결과를 return으로 돌려줄 수 있습니다.\n",
    ">"
   ]
  },
  {
   "cell_type": "code",
   "execution_count": 7,
   "id": "b23350b8",
   "metadata": {},
   "outputs": [
    {
     "name": "stdout",
     "output_type": "stream",
     "text": [
      "Hello, Bob. You are 30 years old.\n"
     ]
    }
   ],
   "source": [
    "# return은 print와 다르게 출력이 되지 않는다.\n",
    "\n",
    "def greet(name, age):\n",
    "    return f\"Hello, {name}. You are {age} years old.\"\n",
    "\n",
    "print(greet(\"Bob\", 30))"
   ]
  },
  {
   "cell_type": "markdown",
   "id": "ef94c43a",
   "metadata": {},
   "source": [
    "### 💻 실습 1 — 조건문을 활용한 인사 함수"
   ]
  },
  {
   "cell_type": "code",
   "execution_count": 8,
   "id": "04e863b8",
   "metadata": {},
   "outputs": [
    {
     "name": "stdout",
     "output_type": "stream",
     "text": [
      "Good afternoon, rola!\n"
     ]
    }
   ],
   "source": [
    "def greeting(name, hour):\n",
    "    if hour < 12:\n",
    "        return f\"Good morning, {name}!\"\n",
    "    elif 12 <= hour < 18:\n",
    "        return f\"Good afternoon, {name}!\"\n",
    "    else:\n",
    "        return f\"Good evening, {name}!\"\n",
    "\n",
    "#사용자 입력\n",
    "user = input(\"Enter your name: \")\n",
    "Time = int(input(\"Enter the current hour (0-23): \"))\n",
    "\n",
    "#함수호출\n",
    "result = greeting(user, Time)\n",
    "print(result)"
   ]
  },
  {
   "cell_type": "markdown",
   "id": "6a4b33dd",
   "metadata": {},
   "source": [
    "### 💻 실습 2 — 리스트 데이터를 처리하는 함수"
   ]
  },
  {
   "cell_type": "code",
   "execution_count": 14,
   "id": "3e2a3748",
   "metadata": {},
   "outputs": [
    {
     "name": "stdout",
     "output_type": "stream",
     "text": [
      "Total: 433, \n",
      "Average: 86.60, \n",
      "Highest: 92, \n",
      "Lowest: 78\n"
     ]
    }
   ],
   "source": [
    "def analyze_scores(scores):\n",
    "    total = sum(scores)\n",
    "    average = total / len(scores)\n",
    "    highest = max(scores)\n",
    "    lowest = min(scores)\n",
    "    return total, average, highest, lowest\n",
    "\n",
    "# 점수데이터\n",
    "data = [85, 90, 78, 92, 88]\n",
    "\n",
    "total, avg, high, low = analyze_scores(data)\n",
    "print(f\"Total: {total}, \\nAverage: {avg:.2f}, \\nHighest: {high}, \\nLowest: {low}\")"
   ]
  },
  {
   "cell_type": "markdown",
   "id": "31c59216",
   "metadata": {},
   "source": []
  }
 ],
 "metadata": {
  "kernelspec": {
   "display_name": "base",
   "language": "python",
   "name": "python3"
  },
  "language_info": {
   "codemirror_mode": {
    "name": "ipython",
    "version": 3
   },
   "file_extension": ".py",
   "mimetype": "text/x-python",
   "name": "python",
   "nbconvert_exporter": "python",
   "pygments_lexer": "ipython3",
   "version": "3.13.5"
  }
 },
 "nbformat": 4,
 "nbformat_minor": 5
}
