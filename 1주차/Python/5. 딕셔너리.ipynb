{
 "cells": [
  {
   "cell_type": "markdown",
   "id": "ca26e5f6",
   "metadata": {},
   "source": [
    "## 1️⃣ 딕셔너리란 무엇인가?\n",
    "\n",
    "> 딕셔너리(Dictionary)는 데이터를 “이름(Key)”과 “값(Value)”의 쌍으로 저장하는 자료형입니다.\n",
    "> \n",
    "- 리스트는 “순서”로 접근하지만,\n",
    "- 딕셔너리는 “이름(Key)”으로 접근합니다.\n",
    "\n",
    "### 💬 예시\n",
    "\n",
    "```python\n",
    "student = {\"name\": \"민수\", \"age\": 20, \"major\": \"데이터과학\"}\n",
    "\n",
    "```\n",
    "\n",
    "| Key | Value |\n",
    "| --- | --- |\n",
    "| name | \"민수\" |\n",
    "| age | 20 |\n",
    "| major | \"데이터과학\" |"
   ]
  },
  {
   "cell_type": "markdown",
   "id": "fc838880",
   "metadata": {},
   "source": [
    "## 2️⃣ 딕셔너리 생성 방법\n",
    "\n",
    "**방법 1: 중괄호 {}**   \n",
    "student = {\"name\": \"지현\", \"age\": 23, \"major\": \"통계학\"}  \n",
    "  \n",
    "**# 방법 2: dict() 함수**  \n",
    "person = dict(name=\"하나\", age=25, city=\"서울\")  \n",
    "  \n",
    "**방법 3: 빈 딕셔너리 만들기**   \n",
    "info = {}  "
   ]
  },
  {
   "cell_type": "markdown",
   "id": "4a069e11",
   "metadata": {},
   "source": [
    "## 3️⃣ 딕셔너리 값 접근하기\n"
   ]
  },
  {
   "cell_type": "code",
   "execution_count": 1,
   "id": "733becb8",
   "metadata": {},
   "outputs": [
    {
     "name": "stdout",
     "output_type": "stream",
     "text": [
      "민수\n",
      "20\n"
     ]
    }
   ],
   "source": [
    "\n",
    "student = {\"name\": \"민수\", \"age\": 20, \"major\": \"데이터과학\"}\n",
    "\n",
    "print(student[\"name\"])   # key를 통해 접근\n",
    "print(student[\"age\"])\n"
   ]
  },
  {
   "cell_type": "code",
   "execution_count": 3,
   "id": "561a052b",
   "metadata": {},
   "outputs": [
    {
     "name": "stdout",
     "output_type": "stream",
     "text": [
      "{'name': '민수', 'age': 21, 'major': '데이터과학', 'grade': 'A'}\n"
     ]
    }
   ],
   "source": [
    "student = {\"name\": \"민수\", \"age\": 20, \"major\": \"데이터과학\"}\n",
    "\n",
    "# 값 수정\n",
    "student[\"age\"] = 21\n",
    "\n",
    "# 새 항목 추가\n",
    "student[\"grade\"] = \"A\"\n",
    "\n",
    "print(student)"
   ]
  },
  {
   "cell_type": "code",
   "execution_count": 4,
   "id": "1d1de400",
   "metadata": {},
   "outputs": [
    {
     "name": "stdout",
     "output_type": "stream",
     "text": [
      "{'name': '민수', 'age': 21, 'grade': 'A'}\n"
     ]
    }
   ],
   "source": [
    "# 삭제\n",
    "del student[\"major\"]\n",
    "print(student)"
   ]
  },
  {
   "cell_type": "markdown",
   "id": "e0b2b7fc",
   "metadata": {},
   "source": [
    "## 6️⃣ 주요 메서드 정리\n",
    "\n",
    "| 메서드 | 설명 | 예시 |\n",
    "| --- | --- | --- |\n",
    "| `.keys()` | 모든 key 반환 | `student.keys()` → dict_keys(['name','age','major']) |\n",
    "| `.values()` | 모든 value 반환 | `student.values()` → dict_values(['민수',20,'데이터과학']) |\n",
    "| `.items()` | key, value 쌍으로 반환 | `student.items()` → dict_items([('name','민수'),('age',20),('major','데이터과학')]) |\n",
    "| `.get(key, default)` | key에 해당하는 값 반환 (없으면 default) | `student.get('grade', 'N/A')` |"
   ]
  },
  {
   "cell_type": "markdown",
   "id": "8be9030b",
   "metadata": {},
   "source": [
    "## 💻 실습 ① — key, value, item 다루기"
   ]
  },
  {
   "cell_type": "code",
   "execution_count": null,
   "id": "a822a4c4",
   "metadata": {},
   "outputs": [
    {
     "name": "stdout",
     "output_type": "stream",
     "text": [
      "dict_keys(['name', 'age', 'grade'])\n",
      "dict_values(['민수', 21, 'A'])\n",
      "dict_items([('name', '민수'), ('age', 21), ('grade', 'A')])\n"
     ]
    }
   ],
   "source": [
    "#  keys()\n",
    "print(student.keys())\n",
    "\n",
    "# values()\n",
    "print(student.values())\n",
    "\n",
    "# items() -> (key, value) 쌍의 튜플 리스트 반환\n",
    "print(student.items())"
   ]
  },
  {
   "cell_type": "code",
   "execution_count": 8,
   "id": "822efcfe",
   "metadata": {},
   "outputs": [
    {
     "name": "stdout",
     "output_type": "stream",
     "text": [
      "name: 민수\n",
      "age: 21\n",
      "grade: A\n"
     ]
    }
   ],
   "source": [
    "for k, v in student.items():\n",
    "    print(f\"{k}: {v}\")"
   ]
  },
  {
   "cell_type": "markdown",
   "id": "2a8518d6",
   "metadata": {},
   "source": [
    "## 💻 실습 ② — .get() 사용하기\n",
    "- 정보의 유무를 판단"
   ]
  },
  {
   "cell_type": "code",
   "execution_count": 9,
   "id": "d82fdf68",
   "metadata": {},
   "outputs": [
    {
     "name": "stdout",
     "output_type": "stream",
     "text": [
      "민수\n",
      "None\n"
     ]
    }
   ],
   "source": [
    "print(student.get(\"name\"))  # 존재하는 key\n",
    "print(student.get(\"hobby\")) # 존재하지 않는 key, None 반환"
   ]
  },
  {
   "cell_type": "code",
   "execution_count": null,
   "id": "b10c1161",
   "metadata": {},
   "outputs": [
    {
     "name": "stdout",
     "output_type": "stream",
     "text": [
      "회원가입이 완료되었습니다.\n",
      "{'name': '홍길동', 'age': 44, 'major': '1', 'grade': '신문방송'}\n",
      "name: 홍길동\n",
      "age: 44\n",
      "major: 1\n",
      "grade: 신문방송\n"
     ]
    }
   ],
   "source": [
    "# 회원가입 데이터베이스 프로그래밍 해보기\n",
    "\n",
    "student = {}\n",
    "\n",
    "student[\"name\"] = input(\"이름을 입력하세요: \")\n",
    "student[\"age\"] = int(input(\"나이를 입력하세요: \"))\n",
    "student[\"major\"] = input(\"전공을 입력하세요: \")\n",
    "student[\"grade\"] = input(\"학년을 입력하세요: \")\n",
    "print(\"회원가입이 완료되었습니다.\")\n",
    "print(student)\n",
    "\n"
   ]
  },
  {
   "cell_type": "code",
   "execution_count": 12,
   "id": "f0f33e3f",
   "metadata": {},
   "outputs": [
    {
     "name": "stdout",
     "output_type": "stream",
     "text": [
      "name: 홍길동\n",
      "age: 44\n",
      "major: 1\n",
      "grade: 신문방송\n"
     ]
    }
   ],
   "source": [
    "for k, v in student.items():\n",
    "    print(f\"{k}: {v}\")"
   ]
  },
  {
   "cell_type": "markdown",
   "id": "ce6c8ff0",
   "metadata": {},
   "source": [
    "## 7️⃣ 리스트 vs 딕셔너리 비교\n",
    "\n",
    "| 비교 항목 | 리스트(List) | 딕셔너리(Dictionary) |\n",
    "| --- | --- | --- |\n",
    "| 구조 | 값들의 순서 | Key–Value 쌍 |\n",
    "| 접근 방식 | 인덱스 번호로 접근 | Key 이름으로 접근 |\n",
    "| 순서 보장 | 있음 (Python 3.7+ 이후) | 있음 (Python 3.7+ 이후) |\n",
    "| 중복 | 값은 가능 | Key는 중복 불가 |\n",
    "| 대표 사용 예 | 이름 목록, 점수 리스트 | 학생 정보, 단어 빈도, 설정값 저장 |\n",
    "| 예시 코드 | `['철수','영희']` | `{'name':'철수', 'age':20}` |"
   ]
  },
  {
   "cell_type": "code",
   "execution_count": null,
   "id": "35d86880",
   "metadata": {},
   "outputs": [],
   "source": []
  }
 ],
 "metadata": {
  "kernelspec": {
   "display_name": "base",
   "language": "python",
   "name": "python3"
  },
  "language_info": {
   "codemirror_mode": {
    "name": "ipython",
    "version": 3
   },
   "file_extension": ".py",
   "mimetype": "text/x-python",
   "name": "python",
   "nbconvert_exporter": "python",
   "pygments_lexer": "ipython3",
   "version": "3.13.5"
  }
 },
 "nbformat": 4,
 "nbformat_minor": 5
}
