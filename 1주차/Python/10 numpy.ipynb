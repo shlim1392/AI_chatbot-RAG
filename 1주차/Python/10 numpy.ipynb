{
 "cells": [
  {
   "cell_type": "markdown",
   "id": "a9a78800",
   "metadata": {},
   "source": [
    "## 1️⃣ 넘파이(NumPy)란?\n",
    "\n",
    "> NumPy(Numerical Python) 는\n",
    "> \n",
    "> \n",
    "> **수치 계산**을 빠르고 효율적으로 수행하기 위한 파이썬 핵심 라이브러리입니다.\n",
    "> \n",
    "\n",
    "---\n",
    "\n",
    "### 💡 한 줄 정의\n",
    "\n",
    "> “리스트보다 빠르고, 수학적으로 강력한 배열 연산 도구”\n",
    "> \n",
    "\n",
    "---\n",
    "\n",
    "### 📊 NumPy가 필요한 이유\n",
    "\n",
    "| 구분 | 파이썬 리스트 | 넘파이 배열 |\n",
    "| --- | --- | --- |\n",
    "| 구조 | 다양한 타입 저장 가능 | 동일한 타입의 데이터 저장 |\n",
    "| 속도 | 느림 (for문 필요) | 빠름 (C 기반 벡터 연산) |\n",
    "| 연산 | 직접 반복문 작성 필요 | 벡터화(Vectorization)로 한 줄 계산 |\n",
    "| 용도 | 일반 데이터 저장 | 수치 연산, 통계, 머신러닝 입력용 |\n",
    "\n",
    "---\n",
    "\n",
    "### 💬 실무 예시\n",
    "\n",
    "| 사례 | 넘파이 사용 이유 |\n",
    "| --- | --- |\n",
    "| 데이터 분석 | 대규모 CSV 수치 데이터 빠른 처리 |\n",
    "| 이미지 분석 | 픽셀 데이터(행렬) 계산 |\n",
    "| 머신러닝 | 학습용 행렬 데이터 저장 및 변환 |\n",
    "| 통계 처리 | 평균, 표준편차, 분산 계산 등 자동화 |"
   ]
  },
  {
   "cell_type": "code",
   "execution_count": 1,
   "id": "6efce0e5",
   "metadata": {},
   "outputs": [
    {
     "name": "stdout",
     "output_type": "stream",
     "text": [
      "[1, 2, 3, 4, 5]\n"
     ]
    },
    {
     "data": {
      "text/plain": [
       "list"
      ]
     },
     "execution_count": 1,
     "metadata": {},
     "output_type": "execute_result"
    }
   ],
   "source": [
    "import numpy as np\n",
    "\n",
    "list_data = [1,2,3,4,5]\n",
    "print(list_data)\n",
    "type(list_data)\n"
   ]
  },
  {
   "cell_type": "code",
   "execution_count": 2,
   "id": "b3bfbe5a",
   "metadata": {},
   "outputs": [
    {
     "name": "stdout",
     "output_type": "stream",
     "text": [
      "[1 2 3 4 5]\n"
     ]
    },
    {
     "data": {
      "text/plain": [
       "numpy.ndarray"
      ]
     },
     "execution_count": 2,
     "metadata": {},
     "output_type": "execute_result"
    }
   ],
   "source": [
    "array_data = np.array(list_data)\n",
    "print(array_data)\n",
    "type(array_data)"
   ]
  },
  {
   "cell_type": "code",
   "execution_count": null,
   "id": "98ee5057",
   "metadata": {},
   "outputs": [
    {
     "name": "stdout",
     "output_type": "stream",
     "text": [
      "[1, 2, 3, 4, 5, 6]\n"
     ]
    }
   ],
   "source": [
    "# 배열 연산 비교\n",
    "\n",
    "list_a = [1,2,3]\n",
    "list_b = [4,5,6]\n",
    "print(list_a + list_b) # 데이터의 결합"
   ]
  },
  {
   "cell_type": "code",
   "execution_count": null,
   "id": "a9c30b6c",
   "metadata": {},
   "outputs": [
    {
     "name": "stdout",
     "output_type": "stream",
     "text": [
      "[5 7 9]\n"
     ]
    }
   ],
   "source": [
    "arr_a = np.array(list_a)\n",
    "arr_b = np.array(list_b)\n",
    "\n",
    "print(arr_a+arr_b)    # 행렬 합이 나옴"
   ]
  },
  {
   "cell_type": "markdown",
   "id": "ea5c915c",
   "metadata": {},
   "source": [
    "## 2️⃣ 배열(Array)의 개념\n",
    "\n",
    "> 배열(array) 은 “동일한 자료형을 갖는 데이터의 집합”입니다.\n",
    "> \n",
    "> \n",
    "> 엑셀의 셀(sheet), 행렬(matrix), 표(table)처럼 **행(row)과 열(column)** 로 구성됩니다.\n",
    "\n",
    "## 3️⃣ 배열 생성 방법\n",
    "\n",
    "### (1) 리스트로부터 생성\n",
    "\n",
    "```python\n",
    "import numpy as np\n",
    "\n",
    "arr1 = np.array([10, 20, 30])\n",
    "arr2 = np.array([[1, 2, 3], [4, 5, 6]])  # 2차원 배열\n",
    "\n",
    "```\n",
    "\n",
    "---\n",
    "\n",
    "### (2) 자동 생성 함수\n",
    "\n",
    "| 함수 | 설명 | 예시 |\n",
    "| --- | --- | --- |\n",
    "| `np.zeros(n)` | 0으로 채운 배열 | `np.zeros(5)` |\n",
    "| `np.ones(n)` | 1로 채운 배열 | `np.ones(5)` |\n",
    "| `np.arange(start, stop, step)` | 일정 간격 숫자 생성 | `np.arange(1, 10, 2)` |\n",
    "| `np.linspace(start, stop, n)` | 구간을 n등분 | `np.linspace(0, 1, 5)` |\n",
    "| `np.random.rand(n)` | 0~1 사이 난수 생성 | `np.random.rand(5)` |"
   ]
  },
  {
   "cell_type": "code",
   "execution_count": 5,
   "id": "d0e380c3",
   "metadata": {},
   "outputs": [
    {
     "name": "stdout",
     "output_type": "stream",
     "text": [
      "[1 2 3] [[1 2 3]\n",
      " [2 3 4]\n",
      " [3 4 5]]\n"
     ]
    }
   ],
   "source": [
    "# 1차원 \n",
    "arr_1 = np.array([1,2,3])\n",
    "\n",
    "# 2차원\n",
    "arr_2 = np.array([\n",
    "    [1,2,3],\n",
    "    [2,3,4],\n",
    "    [3,4,5]\n",
    "])\n",
    "\n",
    "print(arr_1, arr_2)"
   ]
  },
  {
   "cell_type": "code",
   "execution_count": 11,
   "id": "fbae6e54",
   "metadata": {},
   "outputs": [
    {
     "name": "stdout",
     "output_type": "stream",
     "text": [
      "[0. 0. 0.]\n",
      "[1. 1. 1. 1. 1.]\n",
      "[1 3 5 7 9]\n",
      "[0.78249777 0.17168984 0.79773493]\n",
      "[0.   0.25 0.5  0.75 1.  ]\n"
     ]
    }
   ],
   "source": [
    "# 0으로 채운배열\n",
    "print(np.zeros(3))\n",
    "\n",
    "# 1로 채운 배열\n",
    "print(np.ones(5))\n",
    "\n",
    "# start, stop, step 배열생성\n",
    "print(np.arange(1,10,2))\n",
    "\n",
    "# 난수 생성\n",
    "print(np.random.rand(3))\n",
    "\n",
    "print(np.linspace(0, 1, 5))"
   ]
  },
  {
   "cell_type": "markdown",
   "id": "a2067dee",
   "metadata": {},
   "source": [
    "## 4️⃣ 배열의 속성 확인\n",
    "\n",
    "> 배열 객체는 여러 속성을 가지고 있습니다.\n",
    "> \n",
    "\n",
    "---\n",
    "\n",
    "| 속성 | 설명 | 예시 출력 |\n",
    "| --- | --- | --- |\n",
    "| `.ndim` | 배열의 차원 수 | `1`, `2` |\n",
    "| `.shape` | 배열의 크기 (행, 열) | `(2, 3)` |\n",
    "| `.size` | 전체 원소 개수 | `6` |\n",
    "| `.dtype` | 데이터 타입 | `int32`, `float64` |\n",
    "\n",
    "---"
   ]
  },
  {
   "cell_type": "code",
   "execution_count": 13,
   "id": "79a676f3",
   "metadata": {},
   "outputs": [
    {
     "name": "stdout",
     "output_type": "stream",
     "text": [
      "차원: 2\n",
      "크기: (2, 3)\n",
      "원소 개수: 6\n",
      "데이터 타입: int64\n"
     ]
    }
   ],
   "source": [
    "arr = np.array([[1, 2, 3], [4, 5, 6]])\n",
    "\n",
    "print(\"차원:\", arr.ndim)\n",
    "print(\"크기:\", arr.shape)\n",
    "print(\"원소 개수:\", arr.size)\n",
    "print(\"데이터 타입:\", arr.dtype)\n"
   ]
  },
  {
   "cell_type": "markdown",
   "id": "07693311",
   "metadata": {},
   "source": [
    "## 5️⃣ 배열의 기본 연산\n",
    "\n",
    "> 넘파이는 for문 없이 전체 데이터를 한 번에 계산할 수 있습니다.\n",
    ">"
   ]
  },
  {
   "cell_type": "code",
   "execution_count": 12,
   "id": "b93015f3",
   "metadata": {},
   "outputs": [
    {
     "name": "stdout",
     "output_type": "stream",
     "text": [
      "➕ 덧셈: [15 25 35 45]\n",
      "➖ 뺄셈: [ 0 10 20 30]\n",
      "✖️ 곱셈: [20 40 60 80]\n",
      "➗ 나눗셈: [1. 2. 3. 4.]\n",
      "평균: 25.0\n",
      "표준편차: 11.180339887498949\n"
     ]
    }
   ],
   "source": [
    "arr = np.array([10, 20, 30, 40])\n",
    "\n",
    "print(\"➕ 덧셈:\", arr + 5)\n",
    "print(\"➖ 뺄셈:\", arr - 10)\n",
    "print(\"✖️ 곱셈:\", arr * 2)\n",
    "print(\"➗ 나눗셈:\", arr / 10)\n",
    "print(\"평균:\", np.mean(arr))\n",
    "print(\"표준편차:\", np.std(arr))\n"
   ]
  },
  {
   "cell_type": "markdown",
   "id": "0d97fbb1",
   "metadata": {},
   "source": [
    "## 6️⃣ 🧩 실습 아이디어 — “단어 길이 통계 분석기”\n",
    "\n",
    "> 텍스트 데이터를 수치형 배열로 변환해 간단한 통계 분석을 수행합니다.\n",
    ">"
   ]
  },
  {
   "cell_type": "code",
   "execution_count": 14,
   "id": "d146f13b",
   "metadata": {},
   "outputs": [
    {
     "name": "stdout",
     "output_type": "stream",
     "text": [
      "단어 길이 배열: [6 4 2 7 8]\n",
      "평균 길이: 5.4\n",
      "가장 긴 단어 길이: 8\n"
     ]
    }
   ],
   "source": [
    "import numpy as np\n",
    "\n",
    "words = [\"Python\", \"Data\", \"AI\", \"Machine\", \"Learning\"]\n",
    "lengths = np.array([len(w) for w in words])\n",
    "\n",
    "print(\"단어 길이 배열:\", lengths)\n",
    "print(\"평균 길이:\", np.mean(lengths))\n",
    "print(\"가장 긴 단어 길이:\", np.max(lengths))"
   ]
  },
  {
   "cell_type": "markdown",
   "id": "a0d58f2a",
   "metadata": {},
   "source": [
    "## 1️⃣ 실습 ① — 배열 생성 및 인덱싱\n",
    "\n",
    "> 배열은 “순서가 있는 데이터 집합”입니다.\n",
    "> \n",
    "> \n",
    "> 특정 위치의 값을 읽거나 수정할 수 있습니다.\n",
    ">"
   ]
  },
  {
   "cell_type": "code",
   "execution_count": null,
   "id": "9a50cb31",
   "metadata": {},
   "outputs": [
    {
     "name": "stdout",
     "output_type": "stream",
     "text": [
      "1차원 배열 : [10 20 30 40 50] \n",
      "2차원 배열 : [[1 2 3]\n",
      " [4 5 6]]\n"
     ]
    }
   ],
   "source": [
    "# 1차원\n",
    "arr = np.array([10,20,30,40,50])\n",
    "print(f\"1차원 배열 : {arr} \")\n",
    "\n",
    "#2차원\n",
    "arr2 = np.array([[1,2,3], [4,5,6]])\n",
    "print(f\"2차원 배열 : {arr2}\")\n"
   ]
  },
  {
   "cell_type": "code",
   "execution_count": 17,
   "id": "288aad27",
   "metadata": {},
   "outputs": [
    {
     "name": "stdout",
     "output_type": "stream",
     "text": [
      "첫번째 요소 : 10\n",
      "마지막요소 : 50\n",
      "수정후 배열 [10 20 99 40 50]\n"
     ]
    }
   ],
   "source": [
    "# 인덱싱\n",
    "print(f\"첫번째 요소 : {arr[0]}\")\n",
    "print(f\"마지막요소 : {arr[-1]}\")\n",
    "\n",
    "# 수정\n",
    "arr[2] = 99\n",
    "print(\"수정후 배열\", arr)"
   ]
  },
  {
   "cell_type": "markdown",
   "id": "011f9136",
   "metadata": {},
   "source": [
    "## 2️⃣ 실습 ② — 슬라이싱(Slicing)\n",
    "\n",
    "> 여러 개의 원소를 한꺼번에 선택하는 방법입니다.\n",
    "> \n",
    "> \n",
    "> `[시작:끝:간격]` 형태로 작성합니다.\n",
    ">"
   ]
  },
  {
   "cell_type": "code",
   "execution_count": 18,
   "id": "fc1050f0",
   "metadata": {},
   "outputs": [
    {
     "name": "stdout",
     "output_type": "stream",
     "text": [
      "처음 3개: [ 5 10 15]\n",
      "중간 3개: [15 20 25]\n",
      "2개 간격으로: [ 5 15 25]\n",
      "뒤에서부터: [30 25 20 15 10  5]\n"
     ]
    }
   ],
   "source": [
    "arr = np.array([5, 10, 15, 20, 25, 30])\n",
    "\n",
    "print(\"처음 3개:\", arr[:3])\n",
    "print(\"중간 3개:\", arr[2:5])\n",
    "print(\"2개 간격으로:\", arr[::2])\n",
    "print(\"뒤에서부터:\", arr[::-1])\n"
   ]
  },
  {
   "cell_type": "markdown",
   "id": "8190bef7",
   "metadata": {},
   "source": [
    "✅ 데이터 분석 시 범위 추출에 자주 사용됨\n",
    "\n",
    "---\n",
    "\n",
    "## 3️⃣ 실습 ③ — 기본 통계 함수\n",
    "\n",
    "> NumPy는 통계 계산에 최적화된 내장 함수를 제공합니다.\n",
    "> \n",
    "> \n",
    "> (평균, 합계, 최솟값, 최댓값 등)\n",
    ">"
   ]
  },
  {
   "cell_type": "code",
   "execution_count": 19,
   "id": "bb12d3e4",
   "metadata": {},
   "outputs": [
    {
     "name": "stdout",
     "output_type": "stream",
     "text": [
      "합계: 150\n",
      "평균: 30.0\n",
      "최댓값: 50\n",
      "최솟값: 10\n",
      "표준편차: 14.142135623730951\n"
     ]
    }
   ],
   "source": [
    "arr = np.array([10, 20, 30, 40, 50])\n",
    "\n",
    "print(\"합계:\", np.sum(arr))\n",
    "print(\"평균:\", np.mean(arr))\n",
    "print(\"최댓값:\", np.max(arr))\n",
    "print(\"최솟값:\", np.min(arr))\n",
    "print(\"표준편차:\", np.std(arr))\n"
   ]
  },
  {
   "cell_type": "code",
   "execution_count": null,
   "id": "e2ff8b04",
   "metadata": {},
   "outputs": [
    {
     "data": {
      "text/plain": [
       "array([10,  9,  9,  7,  7, 28], dtype=int32)"
      ]
     },
     "execution_count": 20,
     "metadata": {},
     "output_type": "execute_result"
    }
   ],
   "source": [
    "# 랜덤\n",
    "np.random.randint(1,46, size=6)"
   ]
  },
  {
   "cell_type": "markdown",
   "id": "35355cba",
   "metadata": {},
   "source": [
    "## 4️⃣ 🧩 미니 프로젝트 — “단어 길이 통계 분석기” 📏\n",
    "\n",
    "> 텍스트 데이터를 수치형 배열로 변환하여 분석하는 실습입니다.\n",
    "> \n",
    "> \n",
    "> 넘파이의 수치 연산 능력을 텍스트 데이터 분석에 접목합니다.\n",
    ">"
   ]
  },
  {
   "cell_type": "code",
   "execution_count": 21,
   "id": "754f0f4c",
   "metadata": {},
   "outputs": [
    {
     "name": "stdout",
     "output_type": "stream",
     "text": [
      "단어 길이 배열: [6 2 4 8 4 8]\n",
      "평균 길이: 5.333333333333333\n",
      "최댓값: 8\n",
      "분산: 4.888888888888889\n",
      "가장 긴 단어: ['Analysis', 'Learning']\n"
     ]
    }
   ],
   "source": [
    "import numpy as np\n",
    "\n",
    "# 텍스트 데이터\n",
    "words = [\"Python\", \"AI\", \"Data\", \"Analysis\", \"Deep\", \"Learning\"]\n",
    "\n",
    "# 단어 길이 배열화\n",
    "lengths = np.array([len(w) for w in words])\n",
    "print(\"단어 길이 배열:\", lengths)\n",
    "\n",
    "# 통계 계산\n",
    "print(\"평균 길이:\", np.mean(lengths))\n",
    "print(\"최댓값:\", np.max(lengths))\n",
    "print(\"분산:\", np.var(lengths))\n",
    "\n",
    "# 가장 긴 단어 찾기\n",
    "max_len = np.max(lengths)\n",
    "longest_word = [w for w in words if len(w) == max_len]\n",
    "print(\"가장 긴 단어:\", longest_word)"
   ]
  },
  {
   "cell_type": "code",
   "execution_count": null,
   "id": "5fdf5467",
   "metadata": {},
   "outputs": [],
   "source": []
  }
 ],
 "metadata": {
  "kernelspec": {
   "display_name": "base",
   "language": "python",
   "name": "python3"
  },
  "language_info": {
   "codemirror_mode": {
    "name": "ipython",
    "version": 3
   },
   "file_extension": ".py",
   "mimetype": "text/x-python",
   "name": "python",
   "nbconvert_exporter": "python",
   "pygments_lexer": "ipython3",
   "version": "3.13.5"
  }
 },
 "nbformat": 4,
 "nbformat_minor": 5
}
