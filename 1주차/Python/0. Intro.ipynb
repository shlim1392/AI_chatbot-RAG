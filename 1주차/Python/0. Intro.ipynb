{
 "cells": [
  {
   "cell_type": "markdown",
   "id": "c109c257",
   "metadata": {},
   "source": [
    "## 1️⃣ 프로그래밍이란 무엇인가?\n",
    "\n",
    "### ● 정의\n",
    "\n",
    "- *프로그래밍(Programming)은 *컴퓨터에게 일을 시키는 과정*입니다.\n",
    "- 우리는 “명령어(코드)”를 통해 컴퓨터에게 **무엇을, 어떻게 하라**고 지시합니다.\n",
    "\n",
    "> 💬 인간의 언어 → (프로그래밍 언어) → 컴퓨터의 언어(0과 1)\n",
    "> \n",
    "\n",
    "\n",
    "\n",
    "### ● 예시로 이해하기\n",
    "\n",
    "| 인간의 언어 | 컴퓨터 언어 |\n",
    "| --- | --- |\n",
    "| “계산기 켜고 2+3 계산해줘” | `print(2 + 3)` |\n",
    "| “이름을 출력해줘” | `print(\"홍길동\")` |\n",
    "| “오늘 날씨 알려줘” | (나중에 API로 가능) |\n",
    "\n",
    "## 2️⃣ 파이썬이란?\n",
    "\n",
    "- 1991년 귀도 반 로섬(Guido van Rossum)이 개발\n",
    "- 문법이 간단하고 읽기 쉬워서 **가장 널리 쓰이는 언어 중 하나**\n",
    "- 데이터 분석, 인공지능, 웹 개발, 자동화 등 거의 모든 분야에 사용\n",
    "\n",
    "> 💡 “사람이 배우기 쉬운 언어 = 파이썬의 가장 큰 장점”\n",
    "> \n",
    "\n",
    "---\n",
    "\n",
    "## 3️⃣ 개발 환경 준비\n",
    "\n",
    "### ● Jupyter Notebook\n",
    "\n",
    "- 셀 단위로 코드 실행 가능\n",
    "- 데이터 분석/AI 실습에 가장 적합\n",
    "- 명령어 예시:\n",
    "    \n",
    "    ```bash\n",
    "    jupyter notebook\n",
    "    \n",
    "    ```\n",
    "    \n",
    "\n",
    "### ● VS Code\n",
    "\n",
    "- 실제 개발자가 많이 사용하는 통합개발환경(IDE)\n",
    "- 확장기능을 통해 파이썬 실행, 디버깅, Git 관리 가능"
   ]
  },
  {
   "cell_type": "code",
   "execution_count": 2,
   "id": "0bebc974",
   "metadata": {},
   "outputs": [
    {
     "name": "stdout",
     "output_type": "stream",
     "text": [
      "hello wold\n"
     ]
    }
   ],
   "source": [
    "# 첫 코드\n",
    "print(\"hello wold\")\n"
   ]
  },
  {
   "cell_type": "markdown",
   "id": "da3443f1",
   "metadata": {},
   "source": [
    "## 5️⃣ 변수(Variable)와 데이터 타입\n",
    "\n",
    "### ● 변수란?\n",
    "\n",
    "> 데이터를 담는 “이름표가 붙은 상자”\n",
    "### 💡 데이터 타입 정리표\n",
    "\n",
    "| 타입 | 예시 | 설명 |\n",
    "| --- | --- | --- |\n",
    "| `int` | 10, -5, 0 | 정수형 |\n",
    "| `float` | 3.14, -0.5 | 실수형 |\n",
    "| `str` | \"Hello\", 'Python' | 문자열 |\n",
    "| `bool` | True, False | 논리형 |"
   ]
  },
  {
   "cell_type": "code",
   "execution_count": null,
   "id": "d0bac3ba",
   "metadata": {},
   "outputs": [
    {
     "name": "stdout",
     "output_type": "stream",
     "text": [
      "홍길동 임꺽정 172.5 30 True False\n"
     ]
    }
   ],
   "source": [
    "name = \"홍길동\" # 문자열은 큰따옴표로 사용할 수 있습니다.\n",
    "name2 = '임꺽정' # 문자열은 작은따옴표로 사용할 수 있습니다.\n",
    "height = 172.5 # 소수형(실수형)은 정수뒤에 소수점이 나옵니다.\n",
    "age = 30 # 정수형은 정수뒤에 소수점이 없는 깔끔한 숫자입니다.\n",
    "student = True # True = 1\n",
    "teacher = False # 불린형 False = 0\n",
    "\n",
    "# 파이썬은 변수의 구분을 보통 콤마로 합니다.\n",
    "# 변수의 이름은 파이썬에서 입력 또는 출력을 하거나 계산을 할 때 사용할 수 있다\n",
    "print(name, name2, height, age, student, teacher)"
   ]
  },
  {
   "cell_type": "code",
   "execution_count": null,
   "id": "d21ef13d",
   "metadata": {},
   "outputs": [
    {
     "name": "stdout",
     "output_type": "stream",
     "text": [
      "50\n"
     ]
    }
   ],
   "source": [
    "# 변수의 값이 바뀌면 \n",
    "age = 50\n",
    "print(age)"
   ]
  },
  {
   "cell_type": "code",
   "execution_count": null,
   "id": "3cddd8a7",
   "metadata": {},
   "outputs": [
    {
     "name": "stdout",
     "output_type": "stream",
     "text": [
      "이름: 홍길동, 나이: 50, 키: 172.5, 학생여부: True, 교사여부: False\n"
     ]
    }
   ],
   "source": [
    "# F-string\n",
    "#  문자열 앞에 f를 붙이고, {} 안에 변수명을 넣으면 변수의 값이 출력됩니다.\n",
    "print(f\"이름: {name}, 나이: {age}, 키: {height}, 학생여부: {student}, 교사여부: {teacher}\")"
   ]
  },
  {
   "cell_type": "code",
   "execution_count": 18,
   "id": "9c7a26bd",
   "metadata": {},
   "outputs": [
    {
     "name": "stdout",
     "output_type": "stream",
     "text": [
      "안녕하세요. 저는 김철수입니다. 나이는 22살이고, 취미는 그림그리기입니다.\n"
     ]
    }
   ],
   "source": [
    "#input을 활용한 자기소개\n",
    "#입력 될때 까지 수행이 지속됨\n",
    "name = input(\"이름을 입력하세요: \")\n",
    "age = int(input(\"나이를 입력하세요: \"))\n",
    "hobby = input(\"취미를 입력하세요: \")\n",
    "\n",
    "print(f\"안녕하세요. 저는 {name}입니다. 나이는 {age}살이고, 취미는 {hobby}입니다.\")"
   ]
  },
  {
   "cell_type": "code",
   "execution_count": null,
   "id": "c6a63650",
   "metadata": {},
   "outputs": [
    {
     "name": "stdout",
     "output_type": "stream",
     "text": [
      "<class 'str'>\n"
     ]
    }
   ],
   "source": [
    "# 변수의 특성 확인\n",
    "# input으로 받아온 데이터는 모두 문자열로 인식됨\n",
    "print(type(name))"
   ]
  },
  {
   "cell_type": "code",
   "execution_count": null,
   "id": "4386ed77",
   "metadata": {},
   "outputs": [],
   "source": []
  }
 ],
 "metadata": {
  "kernelspec": {
   "display_name": "base",
   "language": "python",
   "name": "python3"
  },
  "language_info": {
   "codemirror_mode": {
    "name": "ipython",
    "version": 3
   },
   "file_extension": ".py",
   "mimetype": "text/x-python",
   "name": "python",
   "nbconvert_exporter": "python",
   "pygments_lexer": "ipython3",
   "version": "3.13.5"
  }
 },
 "nbformat": 4,
 "nbformat_minor": 5
}
