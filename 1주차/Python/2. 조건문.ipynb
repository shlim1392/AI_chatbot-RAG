{
 "cells": [
  {
   "cell_type": "markdown",
   "id": "c007e024",
   "metadata": {},
   "source": [
    "## 1️⃣ 조건문의 핵심 개념\n",
    "\n",
    "> 프로그램은 “명령 순서”로만 실행되지만,\n",
    "> \n",
    "> \n",
    "> **조건문**을 사용하면 “상황에 따라 다른 행동”을 하게 만들 수 있습니다.\n",
    "> \n",
    "\n",
    "---\n",
    "\n",
    "### 💡 개념 요약\n",
    "\n",
    "| 문법 | 의미 |\n",
    "| --- | --- |\n",
    "| `if` | 조건이 참(True)일 때 실행 |\n",
    "| `elif` | 앞의 조건이 거짓(False)일 때, 다른 조건 검사 |\n",
    "| `else` | 모든 조건이 거짓일 때 실행 |\n",
    "\n",
    "---\n",
    "\n",
    "### 🔹 기본 구조\n",
    "\n",
    "```python\n",
    "if 조건식:\n",
    "    실행문1\n",
    "elif 조건식2:\n",
    "    실행문2\n",
    "else:\n",
    "    실행문3\n",
    "\n",
    "```\n",
    "\n",
    "**➡ 실행 흐름도**\n",
    "\n",
    "```\n",
    "     ┌────────────┐\n",
    "     │  if 조건식  │\n",
    "     └─────┬──────┘\n",
    "           │ 참(True)\n",
    "           ▼\n",
    "     [실행문1 수행]\n",
    "           │\n",
    "         (종료)\n",
    "           │\n",
    "      거짓(False)\n",
    "           ▼\n",
    "      elif 조건식2 ?\n",
    "           │\n",
    "     (참이면 실행문2)\n",
    "           │\n",
    "      모두 거짓이면 else 실행\n",
    "\n",
    "```\n",
    "\n",
    "---\n",
    "\n",
    "## 2️⃣ 비교 연산자 (비교 판단하기)\n",
    "\n",
    "| 연산자 | 의미 | 예시 | 결과 |\n",
    "| --- | --- | --- | --- |\n",
    "| `==` | 같다 | `5 == 5` | True |\n",
    "| `!=` | 다르다 | `5 != 3` | True |\n",
    "| `>` | 크다 | `10 > 5` | True |\n",
    "| `<` | 작다 | `3 < 7` | True |\n",
    "| `>=` | 크거나 같다 | `7 >= 7` | True |\n",
    "| `<=` | 작거나 같다 | `2 <= 3` | True |"
   ]
  },
  {
   "cell_type": "markdown",
   "id": "d5d0d206",
   "metadata": {},
   "source": [
    "💻 실습 예시 ①"
   ]
  },
  {
   "cell_type": "code",
   "execution_count": null,
   "id": "8f2b28c8",
   "metadata": {},
   "outputs": [
    {
     "name": "stdout",
     "output_type": "stream",
     "text": [
      "조심하세요\n"
     ]
    }
   ],
   "source": [
    "a = input(\"신호등의 색을 입력하세요: \")\n",
    "\n",
    "if a == \"빨간색\":\n",
    "    print(\"멈추세요.\")\n",
    "elif a == \"초록색\":\n",
    "    print(\"길을 건너세요.\")\n",
    "else:\n",
    "    print(\"조심하세요.\")"
   ]
  },
  {
   "cell_type": "code",
   "execution_count": 5,
   "id": "dc24540d",
   "metadata": {},
   "outputs": [
    {
     "name": "stdout",
     "output_type": "stream",
     "text": [
      "B 학점입니다.\n"
     ]
    }
   ],
   "source": [
    "score = 85\n",
    "\n",
    "if score >= 90:\n",
    "    print(\"A 학점입니다.\")\n",
    "elif score >= 80:\n",
    "    print(\"B 학점입니다.\")\n",
    "elif score >= 70:\n",
    "    print(\"C 학점입니다.\")\n",
    "else:\n",
    "    print(\"D 학점입니다.\")\n"
   ]
  },
  {
   "cell_type": "code",
   "execution_count": 15,
   "id": "59134d19",
   "metadata": {},
   "outputs": [
    {
     "name": "stdout",
     "output_type": "stream",
     "text": [
      "로그인 성공\n"
     ]
    }
   ],
   "source": [
    "# 문자열의 주의점 - 어떻게 해야 조건안에 내가 조건을 걸고 싶은 텍스트만 출력되게 할 수 있는가?\n",
    "id = input(\"아이디를 입력하세요:\")\n",
    "pwd = input(\"비밀번호를 입력하세요:\")\n",
    "\n",
    "user_id = \"admin\"\n",
    "user_pwd = \"1234\"\n",
    "\n",
    "if id == user_id and pwd == user_pwd:\n",
    "    print(\"로그인 성공\")\n",
    "else:\n",
    "    print(\"로그인 실패, 아이디 또는 비밀번호를 확인하세요.\")"
   ]
  },
  {
   "cell_type": "markdown",
   "id": "bf6fcb31",
   "metadata": {},
   "source": [
    "## 3️⃣ 논리 연산자 (복합 조건 만들기)\n",
    "\n",
    "| 연산자 | 의미 | 예시 | 결과 |\n",
    "| --- | --- | --- | --- |\n",
    "| `and` | 둘 다 참이면 참 | `(x > 0) and (x < 10)` |  |\n",
    "| `or` | 둘 중 하나라도 참이면 참 | `(x < 0) or (x > 100)` |  |\n",
    "| `not` | 참 ↔ 거짓 반전 | `not(x == 10)` |  |"
   ]
  },
  {
   "cell_type": "markdown",
   "id": "431331fd",
   "metadata": {},
   "source": [
    "💻 실습 예시 2"
   ]
  },
  {
   "cell_type": "code",
   "execution_count": null,
   "id": "e9b11985",
   "metadata": {},
   "outputs": [
    {
     "name": "stdout",
     "output_type": "stream",
     "text": [
      "미성년자입니다.\n"
     ]
    }
   ],
   "source": [
    "# and, or, not\n",
    "\n",
    "age = 17\n",
    "country = \"Korea\"\n",
    "\n",
    "# and: 둘 다 참이어야 참\n",
    "if age >= 18 and country == \"Korea\":\n",
    "    print(\"성인입니다.\")\n",
    "else:\n",
    "    print(\"미성년자입니다.\")\n",
    "\n",
    "    "
   ]
  },
  {
   "cell_type": "code",
   "execution_count": 13,
   "id": "01736b27",
   "metadata": {},
   "outputs": [
    {
     "name": "stdout",
     "output_type": "stream",
     "text": [
      "양수입니다.\n"
     ]
    }
   ],
   "source": [
    "a = int(input(\"숫자를 입력하세요 : \"))\n",
    "\n",
    "if a > 0:\n",
    "    print(\"양수입니다.\")\n",
    "elif a < 0:\n",
    "    print(\"음수입니다.\")\n",
    "else:\n",
    "    print(\"0입니다.\")"
   ]
  },
  {
   "cell_type": "code",
   "execution_count": 12,
   "id": "390ba0af",
   "metadata": {},
   "outputs": [
    {
     "name": "stdout",
     "output_type": "stream",
     "text": [
      "미성년자입니다.\n"
     ]
    }
   ],
   "source": [
    "# or: 둘 중 하나만 참이어도 참\n",
    "if age >= 18 or country == \"USA\":\n",
    "    print(\"성인입니다.\")    \n",
    "else:\n",
    "    print(\"미성년자입니다.\")\n"
   ]
  },
  {
   "cell_type": "markdown",
   "id": "f4be95cf",
   "metadata": {},
   "source": [
    "## 4️⃣ 들여쓰기의 중요성 (Indentation)\n",
    "\n",
    "파이썬은 `{ }` 대신 들여쓰기(공백 4칸)으로 코드의 영역을 구분합니다.\n",
    "\n",
    "즉, **들여쓰기가 문법의 일부**입니다."
   ]
  },
  {
   "cell_type": "markdown",
   "id": "f12914ab",
   "metadata": {},
   "source": [
    "## 5️⃣ Role based chatbot 만들기🧠\n",
    "\n",
    "> 정해진 키워드를 입력받아 정해진 답변을 도출해냄\n"
   ]
  },
  {
   "cell_type": "code",
   "execution_count": 16,
   "id": "077a5a5a",
   "metadata": {},
   "outputs": [
    {
     "name": "stdout",
     "output_type": "stream",
     "text": [
      "오늘은 맑고 따뜻한 하루입니다. ☀️\n"
     ]
    }
   ],
   "source": [
    "command = input(\"명령을 입력하세요(날씨/시간/종료): \")\n",
    "\n",
    "if command == \"날씨\":\n",
    "    print(\"오늘은 맑고 따뜻한 하루입니다. ☀️\")\n",
    "elif command == \"시간\":\n",
    "    print(\"현재 시각은 오후 1시 25분입니다. 🕐\")\n",
    "elif command == \"종료\":\n",
    "    print(\"프로그램을 종료합니다. 👋\")\n",
    "else:\n",
    "    print(\"알 수 없는 명령입니다. 다시 입력해주세요.\")\n"
   ]
  },
  {
   "cell_type": "code",
   "execution_count": 17,
   "id": "04224429",
   "metadata": {},
   "outputs": [
    {
     "name": "stdout",
     "output_type": "stream",
     "text": [
      "성적을 조회합니다.\n"
     ]
    }
   ],
   "source": [
    "role = input(\"당신의 역할을 입력하세요(학생/교사/관리자): \")\n",
    "command = input(\"명령을 입력하세요(조회/추가/삭제): \")\n",
    "\n",
    "if role == \"학생\" and command == \"조회\":\n",
    "    print(\"성적을 조회합니다.\")\n",
    "elif role == \"교사\" and command == \"추가\":\n",
    "    print(\"학생을 추가합니다.\")\n",
    "elif role == \"관리자\" and command == \"삭제\":\n",
    "    print(\"사용자를 삭제합니다.\")\n",
    "else:   \n",
    "    print(\"권한이 없습니다.\")\n",
    "    \n",
    "    "
   ]
  },
  {
   "cell_type": "code",
   "execution_count": null,
   "id": "2180ff97",
   "metadata": {},
   "outputs": [],
   "source": []
  }
 ],
 "metadata": {
  "kernelspec": {
   "display_name": "base",
   "language": "python",
   "name": "python3"
  },
  "language_info": {
   "codemirror_mode": {
    "name": "ipython",
    "version": 3
   },
   "file_extension": ".py",
   "mimetype": "text/x-python",
   "name": "python",
   "nbconvert_exporter": "python",
   "pygments_lexer": "ipython3",
   "version": "3.13.5"
  }
 },
 "nbformat": 4,
 "nbformat_minor": 5
}
