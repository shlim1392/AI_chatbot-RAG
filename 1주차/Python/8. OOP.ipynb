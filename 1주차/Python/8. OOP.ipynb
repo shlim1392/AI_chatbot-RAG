{
 "cells": [
  {
   "cell_type": "markdown",
   "id": "5f955e6b",
   "metadata": {},
   "source": [
    "## 1️⃣ 객체지향 프로그래밍(OOP)이란?\n",
    "\n",
    "> Object-Oriented Programming\n",
    "> \n",
    "> \n",
    "> → “데이터(정보)”와 “행동(기능)”을 **하나의 객체(object)** 안에 묶는 프로그래밍 방식입니다.\n",
    "> \n",
    "\n",
    "---\n",
    "\n",
    "### 💬 함수형 프로그래밍 vs 객체지향 프로그래밍\n",
    "\n",
    "| 구분 | 함수(Function) | 클래스(Class, OOP) |\n",
    "| --- | --- | --- |\n",
    "| 중심 개념 | 기능 중심 (로직 수행) | 객체 중심 (데이터 + 기능 묶음) |\n",
    "| 구조 | 입력 → 처리 → 출력 | 속성(데이터) + 메서드(행동) |\n",
    "| 예시 | `def add(a,b)` | `Calculator.add(a,b)` |\n",
    "| 재사용성 | 코드 블록 단위 | 객체 단위 (확장·상속 가능) |\n",
    "| 예시 비유 | 도구(기능) 하나 | 도구세트(기능 + 상태) |"
   ]
  },
  {
   "cell_type": "markdown",
   "id": "6a7d03c3",
   "metadata": {},
   "source": [
    "## 2️⃣ 클래스와 객체의 기본 개념\n",
    "\n",
    "### 🔹 클래스(Class)\n",
    "\n",
    "> 객체를 만들기 위한 설계도(틀)\n",
    "> 클래스에서 함수는 매서드라는 이름으로 불림\n",
    "\n",
    "### 🔹 객체(Object)\n",
    "\n",
    "> 클래스로부터 만들어진 실제 결과물(인스턴스)\n",
    "> \n",
    "\n",
    "---"
   ]
  },
  {
   "cell_type": "code",
   "execution_count": 1,
   "id": "75604482",
   "metadata": {},
   "outputs": [
    {
     "name": "stdout",
     "output_type": "stream",
     "text": [
      "팥\n",
      "슈크림\n"
     ]
    }
   ],
   "source": [
    "\n",
    "# 1. class 로 시작\n",
    "# 2. class 뒤에 클래스 이름(대문자 시작)\n",
    "# 3. 클래스를 호출하는 방법은 함수와 유사함\n",
    "class FishBread:\n",
    "# 4. 클래스의 첫번째 함수(매서드)는 __init__으로 시작되고, self라는 매개변수가 꼭필요함\n",
    "    def __init__(self, filling):\n",
    "# 5. self라는 기능은 결국 객체를 만드는 기능으로 구현됨\n",
    "        self.filling = filling\n",
    "\n",
    "# 객체 생성\n",
    "bread1 = FishBread(\"팥\")\n",
    "bread2 = FishBread(\"슈크림\")\n",
    "\n",
    "print(bread1.filling)\n",
    "print(bread2.filling)\n"
   ]
  },
  {
   "cell_type": "code",
   "execution_count": 2,
   "id": "773a795b",
   "metadata": {},
   "outputs": [
    {
     "name": "stdout",
     "output_type": "stream",
     "text": [
      "속재료: 팥, 가격: 1500원\n",
      "속재료: 슈크림, 가격: 2000원\n"
     ]
    }
   ],
   "source": [
    "class FishBread:\n",
    "    def __init__(self, filling, price):\n",
    "        self.filling = filling\n",
    "        self.price = price\n",
    "\n",
    "    def info(self):\n",
    "        return f\"속재료: {self.filling}, 가격: {self.price}원\"  \n",
    "    \n",
    "bread1 = FishBread(\"팥\", 1500)\n",
    "bread2 = FishBread(\"슈크림\", 2000)  \n",
    "#\n",
    "print(bread1.info())\n",
    "print(bread2.info())"
   ]
  },
  {
   "cell_type": "markdown",
   "id": "cde94424",
   "metadata": {},
   "source": [
    "#### 클래스 실행방법\n",
    "\n",
    "`print(bread1)` xx\n",
    "\n",
    "`print(bread1.filling)` O"
   ]
  },
  {
   "cell_type": "code",
   "execution_count": 3,
   "id": "9249169f",
   "metadata": {},
   "outputs": [
    {
     "name": "stdout",
     "output_type": "stream",
     "text": [
      "<__main__.FishBread object at 0x0000019F3D46EE40>\n",
      "팥\n"
     ]
    }
   ],
   "source": [
    "print(bread1)\n",
    "print(bread1.filling)"
   ]
  },
  {
   "cell_type": "markdown",
   "id": "639a5f6d",
   "metadata": {},
   "source": [
    "## 3️⃣ 클래스 정의 기본 구조\n",
    "\n",
    "```python\n",
    "class 클래스이름:\n",
    "    def __init__(self, 매개변수):\n",
    "        self.속성 = 매개변수\n",
    "    def 메서드(self):\n",
    "        수행할 코드\n",
    "\n",
    "```\n",
    "\n",
    "- `class` : 클래스를 정의하는 키워드\n",
    "- `__init__()` : 객체가 만들어질 때 자동으로 실행되는 생성자(Constructor)\n",
    "- `self` : “자기 자신”을 가리키는 참조 (객체 내부 데이터 접근용)"
   ]
  },
  {
   "cell_type": "code",
   "execution_count": 5,
   "id": "55f0e82f",
   "metadata": {},
   "outputs": [
    {
     "name": "stdout",
     "output_type": "stream",
     "text": [
      "안녕하세요, 저는 철수이고, 나이는 20살이며, 전공은 컴퓨터공학입니다.\n"
     ]
    }
   ],
   "source": [
    "class Student:\n",
    "    def __init__(self, name, age, major):\n",
    "        self.name = name\n",
    "        self.age = age\n",
    "        self.major = major\n",
    "    \n",
    "    def introduce(self):\n",
    "        return f\"안녕하세요, 저는 {self.name}이고, 나이는 {self.age}살이며, 전공은 {self.major}입니다.\"\n",
    "\n",
    "# 객체 생성\n",
    "student1 = Student(\"철수\", 20, \"컴퓨터공학\")\n",
    "student2 = Student(\"영희\", 22, \"경영학\")\n",
    "student3 = Student(\"금희\", 21, \"경제학\")\n",
    "\n",
    "#기능 구현\n",
    "print(student1.introduce())        "
   ]
  },
  {
   "cell_type": "code",
   "execution_count": 10,
   "id": "fda637da",
   "metadata": {},
   "outputs": [],
   "source": [
    "class Calculator:\n",
    "    def __init__(self):\n",
    "        self.result = 0 # 초기 속성값\n",
    "    # 속성에 대한 값은 init에서만 가져올 수 있는 것이 아니라 매서드에서도 가져올 수 있다.\n",
    "    def add(self, num):\n",
    "        self.result += num\n",
    "        print(f\"결과값 : {self.result}\")\n",
    "\n",
    "    def reset(self):\n",
    "        self.result = 0\n",
    "        print(\"초기화 되었습니다.\") \n",
    "\n"
   ]
  },
  {
   "cell_type": "code",
   "execution_count": 12,
   "id": "8851f251",
   "metadata": {},
   "outputs": [
    {
     "name": "stdout",
     "output_type": "stream",
     "text": [
      "5가 더해졌습니다\n",
      "15가 더해졌습니다\n",
      "초기화 되었습니다.\n"
     ]
    }
   ],
   "source": [
    "calc = Calculator()\n",
    "\n",
    "calc.add(5)  # 5\n",
    "calc.add(10) # 15\n",
    "\n",
    "calc.reset() # 초기화 되었습니다."
   ]
  },
  {
   "cell_type": "markdown",
   "id": "daa63383",
   "metadata": {},
   "source": [
    "## 4️⃣ 속성(attribute)과 메서드(method)\n",
    "\n",
    "| 구분 | 역할 | 예시 |\n",
    "| --- | --- | --- |\n",
    "| 속성(Attribute) | 객체가 가진 데이터 | `self.name`, `self.age` |\n",
    "| 메서드(Method) | 객체가 할 수 있는 행동 | `introduce()` |"
   ]
  },
  {
   "cell_type": "markdown",
   "id": "03851d1f",
   "metadata": {},
   "source": [
    "## 5️⃣ 함수 vs 클래스: 구조적 차이 요약\n",
    "\n",
    "| 구분 | 함수(Function) | 클래스(Class) |\n",
    "| --- | --- | --- |\n",
    "| 역할 | 하나의 기능 수행 | 데이터와 기능을 묶음 |\n",
    "| 호출 방식 | 함수명() | 객체명.메서드() |\n",
    "| 상태 유지 | 불가능 (매번 새 입력 필요) | 가능 (속성으로 저장) |\n",
    "| 재사용성 | 낮음 | 높음 (상속, 확장 가능) |\n",
    "| 예시 | `def add(a,b): return a+b` | `class Calculator: def add(self,a): …` |"
   ]
  },
  {
   "cell_type": "markdown",
   "id": "4b2a9504",
   "metadata": {},
   "source": [
    "### 🧩 실습 — 텍스트 처리용 클래스 만들기 (미리보기)"
   ]
  },
  {
   "cell_type": "code",
   "execution_count": 24,
   "id": "1c83f0ae",
   "metadata": {},
   "outputs": [
    {
     "name": "stdout",
     "output_type": "stream",
     "text": [
      "오늘의 점심 메뉴는 라면입니다.\n"
     ]
    }
   ],
   "source": [
    "# 점심메뉴 추천 클래스 만들기\n",
    "\n",
    "import random\n",
    "class LunchRecommender:\n",
    "    \n",
    "    # 속성\n",
    "    def __init__(self, menu_list):\n",
    "        self.menu_list = menu_list\n",
    "    \n",
    "    # 메뉴를 입력받음, 리스트로 입력받오록\n",
    "    def add_menu(self, new_menu):\n",
    "        self.menu_list.append(new_menu)\n",
    "    \n",
    "    # 메뉴 추천기능    \n",
    "    def recommend(self):\n",
    "        rm = random.choice(self.menu_list)\n",
    "        return f\"오늘의 점심 메뉴는 {rm}입니다.\"\n",
    "\n",
    "LR = LunchRecommender([\"김밥\", \"라면\", \"샌드위치\", \"돈까스\", \"햄버거\", \"피자\", \"초밥\", \"쌀국수\"])\n",
    "LR.add_menu(\"파스타\")\n",
    "print(LR.recommend())"
   ]
  },
  {
   "cell_type": "code",
   "execution_count": 25,
   "id": "1fc6354f",
   "metadata": {},
   "outputs": [
    {
     "data": {
      "text/plain": [
       "['김밥', '라면', '샌드위치', '돈까스', '햄버거', '피자', '초밥', '쌀국수', '파스타']"
      ]
     },
     "execution_count": 25,
     "metadata": {},
     "output_type": "execute_result"
    }
   ],
   "source": [
    "LR.menu_list"
   ]
  },
  {
   "cell_type": "markdown",
   "id": "1b1d07ca",
   "metadata": {},
   "source": [
    "## 1️⃣ 실습 ① — TextAnalyzer 클래스"
   ]
  },
  {
   "cell_type": "code",
   "execution_count": 27,
   "id": "76437a0d",
   "metadata": {},
   "outputs": [
    {
     "name": "stdout",
     "output_type": "stream",
     "text": [
      "문자 수: 21\n",
      "단어 수: 5\n"
     ]
    }
   ],
   "source": [
    "class TextAnalyzer:\n",
    "# 텍스트가 들어왔을 때 문장 양쪽의 공백이 바로 제거 될 수 있도록 초기화\n",
    "    def __init__(self, text):\n",
    "        self.text = text.strip() # 공백제거\n",
    "\n",
    "# 문자 수 세기(공백 제거)\n",
    "    def count_chars(self):\n",
    "        return len(self.text.replace(\" \", \"\"))\n",
    "# 단어 수 세기\n",
    "    def count_words(self):\n",
    "        return len(self.text.split())\n",
    "    \n",
    "# 요약\n",
    "    def summarize(self):\n",
    "        print(f\"문자 수: {self.count_chars()}\\n단어 수: {self.count_words()}\")\n",
    "        \n",
    "\n",
    "ta = TextAnalyzer(\"  파이썬은 정말 재미있는 프로그래밍 언어입니다.  \")\n",
    "ta.summarize()\n"
   ]
  },
  {
   "cell_type": "markdown",
   "id": "33f49df6",
   "metadata": {},
   "source": [
    "## 2️⃣ 실습 ② — Document 클래스\n",
    "\n",
    "> 문서 단위로 제목, 내용, 작성자 정보를 함께 관리합니다.\n",
    ">"
   ]
  },
  {
   "cell_type": "code",
   "execution_count": 28,
   "id": "ee372438",
   "metadata": {},
   "outputs": [
    {
     "name": "stdout",
     "output_type": "stream",
     "text": [
      "문서정보\n",
      "제목: 파이썬 텍스트 분석 입문\n",
      "작성자: 김진환\n",
      "내용: Python is widely used for data...\n",
      "단어 개수: 10\n"
     ]
    }
   ],
   "source": [
    "class Document :\n",
    "    def __init__(self, title, content, author):\n",
    "        self.title = title\n",
    "        self.content = content\n",
    "        self.author = author\n",
    "    \n",
    "    def show_info(self):\n",
    "# 문서 기본 정보 출력\n",
    "        print(\"문서정보\")\n",
    "        print(f\"제목: {self.title}\")\n",
    "        print(f\"작성자: {self.author}\")\n",
    "        print(f\"내용: {self.content[:30]}...\")\n",
    "        \n",
    "    def word_count(self):\n",
    "        return len(self.content.split())\n",
    "\n",
    "\n",
    "doc = Document(\n",
    "    title=\"파이썬 텍스트 분석 입문\",\n",
    "    content=\"Python is widely used for data analysis and automation tasks.\",\n",
    "    author=\"김진환\"\n",
    ")\n",
    "\n",
    "doc.show_info()\n",
    "print(\"단어 개수:\", doc.word_count())"
   ]
  },
  {
   "cell_type": "markdown",
   "id": "fea933e9",
   "metadata": {},
   "source": [
    "## 3️⃣ 실습 ③ — Translator 클래스\n",
    "\n",
    "> 단순한 단어 변환(치환) 기능을 가진 클래스로,\n",
    "> \n",
    "> \n",
    "> 텍스트 내 특정 단어를 자동 번역 또는 교체합니다.\n",
    ">"
   ]
  },
  {
   "cell_type": "code",
   "execution_count": 29,
   "id": "5517ad5e",
   "metadata": {},
   "outputs": [],
   "source": [
    "class Translator:\n",
    "    def __init__(self):\n",
    "        self.dictionary = {\n",
    "            \"python\" : \"파이썬\",\n",
    "            \"Data\" : \"데이터\",\n",
    "            \"science\" : \"과학\",\n",
    "            \"machine\" : \"기계\",\n",
    "            \"learning\" : \"학습\",\n",
    "        }\n",
    "    \n",
    "    def translate(self, text):\n",
    "        words = text.lower().split()\n",
    "        result = []\n",
    "        for w in words:\n",
    "            if w in self.dictionary:\n",
    "                result.append(self.dictionary[w])\n",
    "            else:\n",
    "                result.append(w)\n",
    "        return \" \".join(result)\n",
    "    \n",
    "    def add_word(self, eng, kor):\n",
    "        self.dictionary[eng.lower()] = kor\n",
    "        print(f\"단어 '{eng}'가 사전에 추가되었습니다.\")\n",
    "        \n"
   ]
  },
  {
   "cell_type": "code",
   "execution_count": 33,
   "id": "7f5aa35f",
   "metadata": {},
   "outputs": [
    {
     "name": "stdout",
     "output_type": "stream",
     "text": [
      "번역 결과: 파이썬 and data 과학 are powerful fields.\n",
      "단어 'fields.'가 사전에 추가되었습니다.\n",
      "새 단어 추가 후: 파이썬 and data 과학 are powerful 분야\n"
     ]
    }
   ],
   "source": [
    "tr = Translator()\n",
    "text = \"Python and Data Science are powerful fields.\"\n",
    "translated = tr.translate(text)\n",
    "print(\"번역 결과:\", translated)\n",
    "\n",
    "tr.add_word(\"fields.\", \"분야\")\n",
    "print(\"새 단어 추가 후:\", tr.translate(text))"
   ]
  },
  {
   "cell_type": "code",
   "execution_count": 34,
   "id": "0b5a705e",
   "metadata": {},
   "outputs": [
    {
     "data": {
      "text/plain": [
       "{'python': '파이썬',\n",
       " 'Data': '데이터',\n",
       " 'science': '과학',\n",
       " 'machine': '기계',\n",
       " 'learning': '학습',\n",
       " 'fields.': '분야'}"
      ]
     },
     "execution_count": 34,
     "metadata": {},
     "output_type": "execute_result"
    }
   ],
   "source": [
    "tr.dictionary"
   ]
  },
  {
   "cell_type": "markdown",
   "id": "f56163db",
   "metadata": {},
   "source": [
    "## 4️⃣ 🧩 미니 프로젝트 — 문서 관리 클래스 만들기 🧠\n",
    "\n",
    "> 학습자가 직접 구현할 과제 (가이드 제공)\n",
    "> \n",
    "\n",
    "---\n",
    "\n",
    "### 🎯 과제 목표\n",
    "\n",
    "하나의 프로그램으로 문서를 **등록 → 목록 확인 → 검색 → 삭제**할 수 있는\n",
    "\n",
    "간단한 **문서 관리 시스템(DocumentManager)**을 클래스 형태로 직접 구현합니다.\n",
    "\n",
    "---\n",
    "\n",
    "### 📋 필수 요구사항 가이드\n",
    "\n",
    "### 1️⃣ 클래스 이름\n",
    "\n",
    "`DocumentManager`\n",
    "\n",
    "### 2️⃣ 속성 (Attributes)\n",
    "\n",
    "| 이름 | 설명 |\n",
    "| --- | --- |\n",
    "| `docs` | 문서들을 저장할 리스트 (Document 객체의 모음) |\n",
    "\n",
    "### 3️⃣ 메서드 (Methods)\n",
    "\n",
    "| 메서드명 | 기능 설명 |\n",
    "| --- | --- |\n",
    "| `add_doc(title, content, author)` | 문서 추가 |\n",
    "| `show_all()` | 모든 문서 목록(제목, 작성자) 출력 |\n",
    "| `search(keyword)` | 제목이나 내용에서 특정 키워드 포함 문서 출력 |\n",
    "| `delete(title)` | 제목으로 문서 삭제 |\n",
    "| `count_docs()` | 전체 문서 개수 반환 |"
   ]
  },
  {
   "cell_type": "markdown",
   "id": "11193dd5",
   "metadata": {},
   "source": []
  },
  {
   "cell_type": "code",
   "execution_count": null,
   "id": "a866f11b",
   "metadata": {},
   "outputs": [],
   "source": []
  }
 ],
 "metadata": {
  "kernelspec": {
   "display_name": "base",
   "language": "python",
   "name": "python3"
  },
  "language_info": {
   "codemirror_mode": {
    "name": "ipython",
    "version": 3
   },
   "file_extension": ".py",
   "mimetype": "text/x-python",
   "name": "python",
   "nbconvert_exporter": "python",
   "pygments_lexer": "ipython3",
   "version": "3.13.5"
  }
 },
 "nbformat": 4,
 "nbformat_minor": 5
}
