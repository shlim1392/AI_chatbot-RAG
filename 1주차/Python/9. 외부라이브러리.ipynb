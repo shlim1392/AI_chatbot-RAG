{
 "cells": [
  {
   "cell_type": "markdown",
   "id": "4b51a534",
   "metadata": {},
   "source": [
    "## 1️⃣ 라이브러리(Library)란?\n",
    "\n",
    "> 라이브러리는 다른 사람이 만들어 놓은 코드 묶음입니다.\n",
    "> \n",
    "> \n",
    "> 파이썬은 수천 개의 외부 라이브러리를 통해\n",
    "> \n",
    "> **데이터 분석, 웹, 인공지능, 자동화** 등 거의 모든 분야를 다룰 수 있습니다.\n",
    "> \n",
    "\n",
    "---\n",
    "\n",
    "### 💡 대표적인 라이브러리 예시\n",
    "\n",
    "| 분야 | 라이브러리 | 주요 기능 |\n",
    "| --- | --- | --- |\n",
    "| 데이터 분석 | `pandas`, `numpy` | 표형 데이터 분석, 수치 계산 |\n",
    "| 시각화 | `matplotlib`, `seaborn` | 그래프, 차트 생성 |\n",
    "| 웹 요청 | `requests`, `httpx` | 웹페이지, API 데이터 가져오기 |\n",
    "| AI / NLP | `openai`, `transformers` | 생성형 AI, 언어모델 사용 |\n",
    "| 파일 처리 | `json`, `csv`, `os` | 데이터 저장, 불러오기 |\n",
    "\n",
    "> ✅ pip install → 설치\n",
    "> \n",
    "> \n",
    "> ✅ `import` → 코드에서 불러오기\n",
    "> \n",
    "> ✅ 한 번 설치하면 모든 프로젝트에서 사용 가능\n",
    "> \n",
    "\n",
    "---"
   ]
  },
  {
   "cell_type": "markdown",
   "id": "08ce9ea4",
   "metadata": {},
   "source": [
    "## 2️⃣ JSON (JavaScript Object Notation) 데이터 형식\n",
    "\n",
    "> JSON은 “서버 ↔ 프로그램 간” 데이터를 주고받을 때 가장 많이 쓰이는 형식입니다.\n",
    "> \n",
    "> \n",
    "> 파이썬의 **딕셔너리(dict)**와 거의 동일한 구조를 가집니다.\n",
    "> \n",
    "\n",
    "---\n",
    "\n",
    "### 💡 JSON의 특징\n",
    "\n",
    "- `{}` 중괄호 구조\n",
    "- `\"key\": value` 쌍으로 구성\n",
    "- 문자열, 숫자, 리스트, 객체 등 다양한 자료형 포함 가능\n",
    "- 경량, 언어 독립적 (어떤 언어에서도 사용 가능)\n",
    "\n",
    "---"
   ]
  },
  {
   "cell_type": "markdown",
   "id": "4ad355e8",
   "metadata": {},
   "source": [
    "### 💻 파이썬 딕셔너리와 비교\n",
    "\n",
    "```python\n",
    "# 파이썬 딕셔너리\n",
    "data = {\n",
    "    \"name\": \"홍길동\",\n",
    "    \"age\": 30,\n",
    "    \"skills\": [\"Python\", \"SQL\", \"AI\"],\n",
    "    \"is_active\": True\n",
    "}\n",
    "\n",
    "```\n",
    "\n",
    "> 🔸 거의 동일한 형태이지만,\n",
    "> \n",
    "> \n",
    "> JSON은 “문자열로 저장되는 데이터”,\n",
    "> \n",
    "> 딕셔너리는 “메모리 내 객체”라는 차이가 있습니다.\n",
    ">"
   ]
  },
  {
   "cell_type": "markdown",
   "id": "4477aa73",
   "metadata": {},
   "source": [
    "## 3️⃣ JSON 파일 입출력 (직렬화 / 역직렬화)\n",
    "\n",
    "> JSON 데이터를 파일로 저장하거나 불러올 때 사용하는 두 가지 핵심 함수:\n",
    "> \n",
    "> - `json.dump()` : 파일로 저장\n",
    "> - `json.load()` : 파일에서 불러오기"
   ]
  },
  {
   "cell_type": "markdown",
   "id": "1dd33c5d",
   "metadata": {},
   "source": [
    "💻 예제 ①: JSON 파일로 저장하기"
   ]
  },
  {
   "cell_type": "code",
   "execution_count": 1,
   "id": "f38c8e8e",
   "metadata": {},
   "outputs": [],
   "source": [
    "import json"
   ]
  },
  {
   "cell_type": "code",
   "execution_count": 7,
   "id": "ef477cc6",
   "metadata": {},
   "outputs": [],
   "source": [
    "data = {\n",
    "    'title' : 'python 강의',\n",
    "    'duration' : '4시간',\n",
    "    # JSON으로 덤프하려면 set이 아닌 list로 만들어야 합니다 (set은 직렬화 불가)\n",
    "    'topics' : ['파이썬 문법', '데이터분석', 'rag'],\n",
    "}"
   ]
  },
  {
   "cell_type": "code",
   "execution_count": null,
   "id": "afc0e0c1",
   "metadata": {},
   "outputs": [],
   "source": [
    "# 파일을 불러올 때 사용하는 기능 with\n",
    "with open('data.json', 'w', encoding = \"utf-8\") as f:\n",
    "    # data.json 파일을 생성/ w- write의 약자/ 파일을읽음// encoding 컴퓨터의 언어로 인코딩\n",
    "    # ensure_askii: 한글 깨짐 방지 // indent 들여쓰기\n",
    "    json.dump(data, f, ensure_ascii=False, indent=4)\n"
   ]
  },
  {
   "cell_type": "code",
   "execution_count": 11,
   "id": "cf989126",
   "metadata": {},
   "outputs": [
    {
     "name": "stdout",
     "output_type": "stream",
     "text": [
      "python 강의\n",
      "['파이썬 문법', '데이터분석', 'rag']\n"
     ]
    }
   ],
   "source": [
    "# 만들어진 json파일을 불러와 추출하고 싶을때\n",
    "with open('data.json', 'r', encoding = 'utf-8') as f:\n",
    "    data = json.load(f)\n",
    "\n",
    "print(data['title'])\n",
    "print(data['topics'])"
   ]
  },
  {
   "cell_type": "markdown",
   "id": "91845a51",
   "metadata": {},
   "source": [
    "---\n",
    "\n",
    "## 4️⃣ requests 라이브러리: 웹 데이터 요청\n",
    "\n",
    "> 웹상에서 공개된 API 서버로부터 데이터를 가져올 때 사용합니다.\n",
    "> \n",
    "> \n",
    "> 실제 실무에서 “JSON 형태의 응답(response)”을 받는 경우가 많습니다.\n",
    "> \n",
    "\n",
    "---"
   ]
  },
  {
   "cell_type": "code",
   "execution_count": null,
   "id": "c734d90f",
   "metadata": {},
   "outputs": [
    {
     "name": "stdout",
     "output_type": "stream",
     "text": [
      "<Response [200]>\n"
     ]
    }
   ],
   "source": [
    "# 외부에 있는 json파일 형태의 데이터를 내 파이썬으로 불러오기\n",
    "# 외부의 데이터를 요청하는 라이브러리\n",
    "import requests\n",
    "url = \"https://api.adviceslip.com/advice\" # 랜덤 명언 생성 api // \n",
    "\n",
    "response = requests.get(url) # 사이트 낸에서 접근을 막거나 허가가 없으면 데이터를 가져올 수 없을 수 도 있음\n",
    "\n",
    "print(response)\n",
    "\n",
    "# <Response [200]> : 외부의 정보를 성공적으로 가져옴"
   ]
  },
  {
   "cell_type": "code",
   "execution_count": null,
   "id": "4811529b",
   "metadata": {},
   "outputs": [
    {
     "name": "stdout",
     "output_type": "stream",
     "text": [
      "200\n",
      "{\"slip\": { \"id\": 40, \"advice\": \"Never run with scissors.\"}}\n"
     ]
    }
   ],
   "source": [
    "# 상태코드 \n",
    "print(response.status_code)\n",
    "\n",
    "# 내용 파싱\n",
    "print(response.text)"
   ]
  },
  {
   "cell_type": "code",
   "execution_count": null,
   "id": "5eb51419",
   "metadata": {},
   "outputs": [
    {
     "name": "stdout",
     "output_type": "stream",
     "text": [
      "{'slip': {'id': 40, 'advice': 'Never run with scissors.'}}\n",
      "Never run with scissors.\n"
     ]
    }
   ],
   "source": [
    "data = response.json()\n",
    "print(data)\n",
    "\n",
    "#명언만 가져오기\n",
    "print(data['slip']['advice'])"
   ]
  },
  {
   "cell_type": "markdown",
   "id": "498ff336",
   "metadata": {},
   "source": [
    "---\n",
    "\n",
    "## 5️⃣ API(Application Programming Interface) 기초\n",
    "\n",
    "> API는 “서로 다른 프로그램끼리 대화할 수 있게 하는 통로”입니다.\n",
    "> \n",
    "\n",
    "---\n",
    "\n",
    "### 💬 예시 비유\n",
    "\n",
    "- **사용자**: “날씨 알려줘!”\n",
    "- **앱(클라이언트)**: → “API 요청(Request)” 전송\n",
    "- **서버**: → 날씨 데이터를 JSON 형식으로 응답(Response)\n",
    "\n",
    "---\n",
    "\n",
    "### 💡 API 구성 요소\n",
    "\n",
    "| 구성 요소 | 설명 |\n",
    "| --- | --- |\n",
    "| **Endpoint (URL)** | 데이터를 요청할 주소 |\n",
    "| **Method (HTTP 메서드)** | `GET`, `POST`, `PUT`, `DELETE` 등 |\n",
    "| **Header / Params** | 인증 토큰, 요청 파라미터 |\n",
    "| **Response (응답)** | 서버가 돌려주는 결과 (대부분 JSON 형식) |"
   ]
  },
  {
   "cell_type": "code",
   "execution_count": 16,
   "id": "067055b5",
   "metadata": {},
   "outputs": [],
   "source": [
    "import requests \n",
    "\n",
    "url = 'https://api.agify.io?name=jin'\n",
    "response = requests.get(url)\n",
    "data = response.json()"
   ]
  },
  {
   "cell_type": "code",
   "execution_count": 19,
   "id": "a74d1372",
   "metadata": {},
   "outputs": [
    {
     "name": "stdout",
     "output_type": "stream",
     "text": [
      "이름 : jin\n",
      "나이 : 54\n"
     ]
    }
   ],
   "source": [
    "print(f\"이름 : {data[\"name\"]}\")\n",
    "print(f\"나이 : {data[\"age\"]}\")"
   ]
  },
  {
   "cell_type": "markdown",
   "id": "02e290bc",
   "metadata": {},
   "source": [
    "## 4️⃣ 🧩 미니 프로젝트 — **뉴스 헤드라인 수집기 (News Headline Collector)** 🗞️\n",
    "\n",
    "> 실무에서 가장 자주 등장하는 “API → JSON → 파일 저장” 프로세스를 구현합니다.\n",
    "> \n",
    "> \n",
    "> 공개된 뉴스 API 또는 샘플 데이터를 활용해\n",
    "> \n",
    "> 최신 헤드라인을 가져와 CSV/JSON 형태로 저장하는 프로그램을 작성합니다.\n",
    "> \n",
    "\n",
    "---\n",
    "\n",
    "### 🎯 프로젝트 목표\n",
    "\n",
    "| 단계 | 설명 |\n",
    "| --- | --- |\n",
    "| 1️⃣ API 요청 | 뉴스 API에서 JSON 데이터 수신 |\n",
    "| 2️⃣ 데이터 파싱 | 헤드라인(title), 작성일(date), 출처(source) 추출 |\n",
    "| 3️⃣ 파일 저장 | JSON 또는 CSV 파일로 저장 |\n",
    "| 4️⃣ 예외 처리 | 네트워크 오류 또는 데이터 누락 시 대비 |"
   ]
  },
  {
   "cell_type": "code",
   "execution_count": null,
   "id": "9bce11ba",
   "metadata": {},
   "outputs": [
    {
     "name": "stdout",
     "output_type": "stream",
     "text": [
      "<Response [200]>\n"
     ]
    }
   ],
   "source": [
    "import requests\n",
    "import json\n",
    "import datetime\n",
    "\n",
    "# 뉴스 가져오기\n",
    "url = \"https://newsapi.org/v2/everything\"\n",
    "\n",
    "# 파라미터 (매개변수)\n",
    "\n",
    "params = {\n",
    "    \"q\" : \"한국\",\n",
    "    \"language\" : \"ko\",\n",
    "    \"apikey\" : \"-\",\n",
    "}\n",
    "\n",
    "response = requests.get(url, params = params)\n",
    "print(response)\n"
   ]
  },
  {
   "cell_type": "code",
   "execution_count": 27,
   "id": "d5f9c5e3",
   "metadata": {},
   "outputs": [
    {
     "name": "stdout",
     "output_type": "stream",
     "text": [
      "{'status': 'ok', 'totalResults': 899, 'articles': [{'source': {'id': None, 'name': 'Venturesquare.net'}, 'author': '강진희', 'title': 'SBVA 이준표 대표, 오픈AI 샘 올트먼 CEO와 ‘한국 AI 생태계 협력’ 논의', 'description': 'SBVA(에스비브이에이)의 이준표 대표가 1일 서울 서초구 SBVA 사무실에서 오픈AI의 최고경영자(CEO) 샘 올트먼과 만나 한국 인공지능(AI) 생태계 발전 방안에 대해 논의했다고 밝혔다.\\nThe post SBVA 이준표 대표, 오픈AI 샘 올트먼 CEO와 ‘한국 AI 생태계 협력’ 논의 appeared first on 벤처스퀘어.', 'url': 'https://www.venturesquare.net/1007755', 'urlToImage': 'https://www.venturesquare.net/wp-content/uploads/2025/10/dfsdf.jpg', 'publishedAt': '2025-10-02T01:27:25Z', 'content': 'SBVA(에스비브이에이)의 이준표 대표가 1일 서울 서초구 SBVA 사무실에서 오픈AI의 최고경영자(CEO) 샘 올트먼과 만나 한국 인공지능(AI) 생태계 발전 방안에 대해 논의했다고 밝혔다.\\n이번 회동에서는 국내 스타트업과 오픈AI 간 협력 가능성을 중심으로 다양한 의견이 교환됐다. 이준표 대표는 “SBVA는 한국 스타트업들이 오픈AI와 같은 글로벌 테… [+463 chars]'}, {'source': {'id': None, 'name': 'Venturesquare.net'}, 'author': '강진희', 'title': '스텔업, 유어케이스와 업무협약 체결', 'description': '㈜스텔업은 일본 외국인 유학생 대상 패키지 서비스 사업 추진을 위해 외국인 대상 통신 전문 기업 ㈜유어케이스와 업무협약(MOU)을 체결했다고 밝혔다.\\nThe post 스텔업, 유어케이스와 업무협약 체결 appeared first on 벤처스퀘어.', 'url': 'https://www.venturesquare.net/1008345', 'urlToImage': 'https://www.venturesquare.net/wp-content/uploads/2025/10/dhsj.jpg', 'publishedAt': '2025-10-13T03:46:38Z', 'content': 'AI 기반 한국어 교육 솔루션 기업 ㈜스텔업(대표 오민지)은 일본 외국인 유학생 대상 패키지 서비스 사업 추진을 위해 외국인 대상 통신 전문 기업 ㈜유어케이스(대표 전은희)와 업무협약(MOU)을 체결했다고 밝혔다. 이번 협약을 통해 양사는 일본 유학생을 위한 교육 및 통신 통합 솔루션 제공에 협력할 계획이다.\\n스텔업은 AI 기반 한국어 학습 및 직무 교육… [+925 chars]'}, {'source': {'id': None, 'name': 'Venturesquare.net'}, 'author': '강진희', 'title': '딥서치, 트위그팜과 업무협약 체결', 'description': '딥서치와 트위그팜이 23일 국내 주식시장 정보의 글로벌 확산을 위한 전략적 업무협약(MOU)을 체결했다.\\nThe post 딥서치, 트위그팜과 업무협약 체결 appeared first on 벤처스퀘어.', 'url': 'https://www.venturesquare.net/1005990', 'urlToImage': 'https://www.venturesquare.net/wp-content/uploads/2025/09/thdgb.jpg', 'publishedAt': '2025-09-23T02:20:12Z', 'content': '금융 인공지능 전문기업 딥서치(대표 김재윤)와 생성형 콘텐츠 인공지능 기업 트위그팜(대표 백선호)이 23일 국내 주식시장 정보의 글로벌 확산을 위한 전략적 업무협약(MOU)을 체결했다.\\n이번 협약에 따라 양사는 K-Stock 기반의 주식 정보와 금융 데이터를 생성형 AI 기술로 가공, 이를 영상 콘텐츠로 제작해 전 세계 투자자에게 제공하는 공동 프로젝트를… [+767 chars]'}, {'source': {'id': None, 'name': 'Venturesquare.net'}, 'author': '강진희', 'title': '트립비토즈 정지하 대표, ‘WiT Singapore 2025’ 패널 참가', 'description': '트립비토즈(Tripbtoz Inc.)의 정지하 대표가 지난 10월 7일부터 9일까지 싱가포르에서 열린 글로벌 여행 테크 컨퍼런스 ‘WiT Singapore 2025’에 패널로 참가해 차세대 OTA(Online Travel Agency) 모델과 아시아 여행 산업의 진화 ...\\nThe post 트립비토즈 정지하 대표, ‘WiT Singapore 2025’ 패널 참가 appeared first on 벤처스퀘어.', 'url': 'https://www.venturesquare.net/1008110', 'urlToImage': 'https://www.venturesquare.net/wp-content/uploads/2025/10/dsgsdfs.jpg', 'publishedAt': '2025-10-10T03:11:37Z', 'content': '여행 플랫폼 기업 트립비토즈(Tripbtoz Inc.)의 정지하 대표가 지난 10월 7일부터 9일까지 싱가포르에서 열린 글로벌 여행 테크 컨퍼런스 ‘WiT Singapore 2025’에 패널로 참가해 차세대 OTA(Online Travel Agency) 모델과 아시아 여행 산업의 진화 방향에 대해 견해를 밝혔다.\\n정 대표는 ‘The Next 20 Year… [+856 chars]'}, {'source': {'id': None, 'name': 'Venturesquare.net'}, 'author': '강진희', 'title': '남도마켓, UK Charm Enterprises와 MOU 체결.. “K-도매 글로벌 진출”', 'description': '남도마켓은 지난 9월 16일, 영국 법인 UK Charm Enterprises Ltd와 ‘K-도매 글로벌 진출 협력’을 위한 양해각서(MOU)를 체결했다고 밝혔다.\\nThe post 남도마켓, UK Charm Enterprises와 MOU 체결.. “K-도매 글로벌 진출” appeared first on 벤처스퀘어.', 'url': 'https://www.venturesquare.net/1005730', 'urlToImage': 'https://www.venturesquare.net/wp-content/uploads/2025/09/dvsfdgfh-1.jpg', 'publishedAt': '2025-09-22T02:08:39Z', 'content': '동대문·남대문 기반 도소매 커머스 플랫폼 남도마켓(대표 양승우)은 지난 9월 16일, 영국 법인 UK Charm Enterprises Ltd와 ‘K-도매 글로벌 진출 협력’을 위한 양해각서(MOU)를 체결했다고 밝혔다.\\n이번 협약은 한국 도매 상품의 해외 진출 확대를 목적으로, 남도마켓의 플랫폼 기술과 도매시장 네트워크, 물류 인프라를 UK Charm E… [+703 chars]'}, {'source': {'id': None, 'name': 'Venturesquare.net'}, 'author': '벤처스퀘어', 'title': '벤처스퀘어, 뉴욕서 스타트업 글로벌 협력 쇼케이스 개최', 'description': '벤처스퀘어와 bcdW Magazine이 공동 주최하는 ‘VSQ Showcase Lounge’가 10월 15일 뉴욕에서 개최돼, 한국 스타트업과 글로벌 파트너 간 협력 기회를 모색한다.\\nThe post 벤처스퀘어, 뉴욕서 스타트업 글로벌 협력 쇼케이스 개최 appeared first on 벤처스퀘어.', 'url': 'https://www.venturesquare.net/1008233', 'urlToImage': 'https://www.venturesquare.net/wp-content/uploads/2025/10/vsq1.png', 'publishedAt': '2025-10-10T13:18:55Z', 'content': '한국 스타트업이 글로벌 파트너와 직접 연결되는 네트워킹 무대가 뉴욕 한복판에서 열린다. 스타트업 미디어 및 투자 펀드 벤처스퀘어와 뉴욕 기반 미디어 플랫폼 bcdW 매거진이 공동 주최하는 ‘벤처스퀘어 쇼케이스 라운지(VSQ Showcase Lounge)’가 오는 10월 15일(현지 시간) 브라이언트파크 인근 Loft39에서 개최된다.\\n이번 ‘벤처스퀘어 쇼… [+1048 chars]'}, {'source': {'id': None, 'name': 'Khan.co.kr'}, 'author': '윤기은 기자 energyeun@kyunghyang.com', 'title': '트럼프 “한국 대미투자 3500억달러는 선불”', 'description': '이재명 대통령이 지난달 25일(현지시간) 미국 워싱턴DC 백악관에서 열린 한미정상회담에서 트럼프 미국 대통령의 발언을 듣고 있다.김창길 기자\\n\\n도널드 트럼프 미국 대통령이 무역 합의에 따라 한국이 미국에 투자할 금액 3500억달러(약 490조원)가 “선불”로 지불돼야 한다고 말했다.\\n\\n트럼프 대통령은 25일(현지시간) 워싱턴 백악관에서 중국 동영상 플랫폼 ···', 'url': 'https://www.khan.co.kr/article/202509260718001', 'urlToImage': 'https://img.khan.co.kr/news/2025/09/26/news-p.v1.20250828.9e96fe68821144aa9187c8f5e01a93ee_P1.jpeg', 'publishedAt': '2025-09-25T22:18:00Z', 'content': '25() DC . \\r\\n3500( 490) .\\r\\n 25() . .\\r\\n 9500(1339) 5500(775), 3500 . .\\r\\n (EU) 9500 .\\r\\n 730 25% 15% 3500 .\\r\\n . , 90% .\\r\\n 3500 ( ) .'}, {'source': {'id': None, 'name': 'Khan.co.kr'}, 'author': '오동욱 기자 5dong@kyunghyang.com', 'title': '“한국, 고관세 동병상련 인도와 협력해야”', 'description': '대외경제정책연구원 보고서\\n\\n“인도, 내수 활성화·해외시장 다변화라는 투트랙으로 대응” \\n상호보완 발전 위해 양국 외교·기술 협력 강화 필요성 주장\\n\\n도널드 트럼프 미국 행정부로부터 ‘50% 상호관세’를 부과받은 인도가 내수 활성화와 해외시장 다변화라는 투트랙으로 대응 중인 것으로 분석됐다. 트럼프 행정부와 후속 관세협상을 진행 중인 한국은 인도와···', 'url': 'https://www.khan.co.kr/article/202509222042045', 'urlToImage': 'https://img.khan.co.kr/spko/company/Khan_CI_180212.jpg', 'publishedAt': '2025-09-22T11:42:04Z', 'content': ', · · \\r\\n 50% . · .\\r\\n 22 , · .\\r\\n 50% . 7 25% 27 25% . .\\r\\n 70% . (GDP) 21.2% . ·, , , .\\r\\n . , . GDP 60% 4 (5·12·18·28%) (5·18%) . 4800( 75000) , GDP 0.6% .\\r\\n . · . 225( 3500) 6 2500( 4) . ··· . .\\r\\n , .… [+13 chars]'}, {'source': {'id': None, 'name': 'Khan.co.kr'}, 'author': '김세훈 기자 ksh3712@kyunghyang.com', 'title': '한국 사람이라면…1인당 79개 ‘후루룩’', 'description': '작년 소비량 베트남 81개 이어 2위\\n\\n\\n\\n한국인 한 사람당 지난해 라면 79개를 먹은 것으로 추산됐다. 1인당 라면 소비량은 베트남에 이어 세계 2위였다.\\n\\n9일 세계 인스턴트 라면협회에 따르면 한국의 지난해 라면 소비량은 41억개로 전 세계에서 8위를 기록했다. 지난해 한국 총인구가 5175만명인 점을 고려하면 1인당 라면 79.2개를 먹은 ···', 'url': 'https://www.khan.co.kr/article/202510092029005', 'urlToImage': 'https://img.khan.co.kr/news/2025/10/09/l_2025101001000131800011451.jpg', 'publishedAt': '2025-10-09T11:29:00Z', 'content': '81 2\\r\\n 79 . 1 2.\\r\\n9 41 8 . 5175 1 79.2 . 1 2021 73 3 6 .\\r\\n 2021 379000 2022 395000, 2023 404000 . 1 1.4% . 19 2020(413000) .\\r\\n 2020 1 1 1 . 1 81 . 1 2021 88 3 7 .\\r\\n· 1 (57), (54), (52), (47), (47), (… [+105 chars]'}, {'source': {'id': None, 'name': 'Venturesquare.net'}, 'author': '강진희', 'title': '차봇모빌리티, 이큐비알홀딩스와 업무협약 체결', 'description': '차봇모빌리티와 이큐비알홀딩스가 블록체인 기반 K-중고차 수출 서비스 개발을 위한 업무협약을 체결했다고 17일 밝혔다.\\nThe post 차봇모빌리티, 이큐비알홀딩스와 업무협약 체결 appeared first on 벤처스퀘어.', 'url': 'https://www.venturesquare.net/1005089', 'urlToImage': 'https://www.venturesquare.net/wp-content/uploads/2025/09/tdbfv.jpg', 'publishedAt': '2025-09-17T03:10:40Z', 'content': '모빌리티 컨시어지 플랫폼 기업 차봇모빌리티(대표 강성근)와 블록체인 인프라 전문기업 이큐비알홀딩스(대표 이현기)가 블록체인 기반 K-중고차 수출 서비스 개발을 위한 업무협약을 체결했다고 17일 밝혔다.\\n이번 협약은 글로벌 시장에서 증가하는 한국 중고차 수요에 대응해 디지털 기반 수출 생태계를 구축하기 위한 전략적 협력으로, 양사는 블록체인 기술을 활용한 … [+1150 chars]'}, {'source': {'id': None, 'name': 'Venturesquare.net'}, 'author': '강진희', 'title': '디캠프, ‘스타트업 OI 도쿄 #엔터테인먼트’ 개최', 'description': '디캠프는 지난 11일 일본 도쿄에서 일본 주요 기업형 벤처캐피탈(CVC)과 함께 오픈 이노베이션 프로그램 ‘디캠프 스타트업 OI 도쿄 #엔터테인먼트’를 개최했다.\\nThe post 디캠프, ‘스타트업 OI 도쿄 #엔터테인먼트’ 개최 appeared first on 벤처스퀘어.', 'url': 'https://www.venturesquare.net/1007624', 'urlToImage': 'https://www.venturesquare.net/wp-content/uploads/2025/10/grkhd.jpg', 'publishedAt': '2025-10-01T06:51:41Z', 'content': '스타트업 지원기관 디캠프(대표 박영훈)는 지난 11일 일본 도쿄에서 일본 주요 기업형 벤처캐피탈(CVC)과 함께 오픈 이노베이션 프로그램 ‘디캠프 스타트업 OI 도쿄 #엔터테인먼트’를 개최했다. 이번 프로그램은 디캠프와 일본 TBS이노베이션 파트너스(TBS-IP)가 공동으로 기획한 두 번째 협력 행사로, 일본 엔터테인먼트 산업의 주요 CVC 6곳이 참여했… [+1191 chars]'}, {'source': {'id': None, 'name': 'Khan.co.kr'}, 'author': '고귀한 기자 go@kyunghyang.com', 'title': '노벨경제학상 로빈슨 “한국 민주주의 위기···국민이 희망”', 'description': '노벨경제학상 수상자인 제임스 로빈슨 미국 시카고대 교수. 김대중평화회의 제공\\n\\n“많은 사람이 한국 민주주의에 대해 불안해하고 있습니다. 계엄 선포 시도는‘민주주의 후퇴’를 보여주는 한 사례로 꼽힙니다.”\\n\\n노벨경제학상 수상자인 제임스 로빈슨 미국 시카고대 교수는 24일 전남 목포 호텔현대 바이 라한에서 열린 2025 김대중평화회의 기조연설 ‘평화경제: 세계···', 'url': 'https://www.khan.co.kr/article/202509241541011', 'urlToImage': 'https://img.khan.co.kr/news/2025/09/24/news-p.v1.20250924.b20b62a6f65c4f2195356afb8ef67310_P2.jpg', 'publishedAt': '2025-09-24T06:41:01Z', 'content': '. \\r\\n. .\\r\\n 24 2025 : . 45 .\\r\\n , , . . .\\r\\n · . &lt; &gt; . 2024 .\\r\\n . 19 , 1930 , 2 . 1990 , .\\r\\n , . .\\r\\n , . .\\r\\n .\\r\\n ·· . 2021 2023 . 26 .'}, {'source': {'id': None, 'name': 'Khan.co.kr'}, 'author': '김윤나영 기자 nayoung@kyunghyang.com', 'title': '한국, 미국에 무제한 통화 스와프 요청', 'description': '하워드 러트닉 미국 상무장관. AFP연합뉴스\\n\\n한·미 후속 통상 협상에서 무제한 한·미 통화스와프가 새로운 쟁점으로 떠올랐다. 미국이 지난 7월 한·미 관세협상 타결 당시와 달리 말을 바꿔 한국에 3500억달러(약 488조원) 규모의 대미 투자에서 현금 직접 출자 비중을 높이라고 요구하자, 한국도 외환시장 충격을 방어하기 위한 최소한의 안전장치로 통화스와프···', 'url': 'https://www.khan.co.kr/article/202509142000001', 'urlToImage': 'https://img.khan.co.kr/news/2025/09/14/news-p.v1.20250912.77c31093884c4efdba1e7b6fbaf38c3c_P1.jpg', 'publishedAt': '2025-09-14T11:00:00Z', 'content': ', \\r\\n. AFP\\r\\n· . 7 · 3500( 488) , .\\r\\n14 · . 2021 · .\\r\\n .\\r\\n · . .\\r\\n 3500 80% . 3500 2 .\\r\\n · .\\r\\n .\\r\\n · · .\\r\\n<ul><li>\\r\\n<ol><li>\\r\\n</li><li>\\r\\n</li><li>\\r\\n</li><li>\\r\\n</li><li>\\r\\n</li><li>\\r\\n</li><li>\\r\\n</li><li>… [+52 chars]'}, {'source': {'id': None, 'name': 'Khan.co.kr'}, 'author': '박경은 선임기자 king@kyunghyang.com', 'title': '‘분자요리’ 창안한 스타 셰프 한국 온다', 'description': '‘세계서 가장 혁신적 셰프’ 명성\\n페란 아드리아 내달 29일 강연\\n\\n\\n\\n전 세계에서 가장 혁신적이라고 평가받는 스페인 출신 셰프 페란 아드리아(사진)가 다음달 한국을 처음으로 방문한다.\\n\\n농림축산식품부와 한식진흥원이 다음달 29일 서울 삼청각에서 개최하는 ‘한식 콘퍼런스’에 연사로 참석하는 아드리아는 ‘미식의 미래를 설계하다’ ‘미식의 창조적 ···', 'url': 'https://www.khan.co.kr/article/202509232106025', 'urlToImage': 'https://img.khan.co.kr/news/2025/09/23/l_2025092401000761200073181.jpg', 'publishedAt': '2025-09-23T12:06:02Z', 'content': '() .\\r\\n 29 .\\r\\n . 14 .\\r\\n . , 20 .\\r\\n 1 8000 . 2011 BBC , AP . 2012 &lt; : &gt; . 2023 1846 .'}, {'source': {'id': None, 'name': 'Khan.co.kr'}, 'author': '이혜인 기자 hyein@kyunghyang.com', 'title': '한국, 항생제 사용량 OECD 국가 중 2위', 'description': '의사들 ‘광범위 처방’ 많은 게 원인\\n남용 땐 내성균 키워 의료비 증가\\n\\n한국의 항생제 사용량이 경제협력개발기구(OECD) 국가 중 두 번째로 많은 것으로 나타났다. 무분별한 항생제 사용은 약에 적응하는 내성균을 키우고, 이를 치료하기 위한 의료비를 증가시키기 때문에 적절한 관리 정책이 요구된다.\\n\\n13일 질병관리청과 OECD의 최근 보건 통계를 ···', 'url': 'https://www.khan.co.kr/article/202510132019015', 'urlToImage': 'https://img.khan.co.kr/spko/company/Khan_CI_180212.jpg', 'publishedAt': '2025-10-13T11:19:01Z', 'content': '(OECD) . , .\\r\\n13 OECD , 2023 1000 (DID) 31.8 . OECD . 2022 25.7DID. OECD (18.9DID) 1.36 4, 1 .\\r\\n2014 OECD 31.7DID, OECD (20.5DID) . 2020 24.5DID , . . .\\r\\n(WHO) 2019 10 . 11 (ASP) . .\\r\\n , ASP .\\r\\n (59.… [+27 chars]'}, {'source': {'id': None, 'name': 'Venturesquare.net'}, 'author': '강진희', 'title': '피치에이아이, G-Fair AI 2025 참가', 'description': '피치에이아이(P2ACH AI)는 9월 22일부터 24일까지 수원컨벤션센터에서 열린 ‘G-Fair AI 2025(대한민국유망산업전시회)’에 참가해 자사의 AI 솔루션을 선보였다고 25일 밝혔다.\\nThe post 피치에이아이, G-Fair AI 2025 참가 appeared first on 벤처스퀘어.', 'url': 'https://www.venturesquare.net/1006481', 'urlToImage': 'https://www.venturesquare.net/wp-content/uploads/2025/09/drgfv.jpg', 'publishedAt': '2025-09-25T07:20:45Z', 'content': 'AI 기반 미디어 효과 분석 및 리테일 솔루션 기업 피치에이아이(P2ACH AI)는 9월 22일부터 24일까지 수원컨벤션센터에서 열린 ‘G-Fair AI 2025(대한민국유망산업전시회)’에 참가해 자사의 AI 솔루션을 선보였다고 25일 밝혔다.\\n‘G-Fair AI 2025’는 경기도와 경기도경제과학진흥원이 주최·주관하는 행사로, AI 분야 혁신 스타트업과… [+535 chars]'}, {'source': {'id': None, 'name': 'Slownews.kr'}, 'author': '이정환', 'title': '3500억 달러, 달라는대로 주면 한국 망한다: 슬로우레터 9월22일.', 'description': '1000달러에서 10만 달러로, 트럼프의 비자 폭탄. 100만 달러 내면 영주권 준다. 쟁점과 현안. “미국 요구 받으면 IMF 수준 위기 온다.” 국민의힘 통일교 신도 12만 명. 국민의힘 해산 가능할까. “팩트 체크는 안 했다.” 통일교가 김기현 밀었나. 더 깊게 읽기. 영국은 팔레스타인을 국가로 인정하기로 했다. 트럼프-시진핑, 경주에서 만난다. 2분기 미국 관세 47배 늘었다. 다르게 읽기. 미국에 3500억...\\nThe post 3500억 달러, 달라…', 'url': 'https://slownews.kr/145767', 'urlToImage': 'https://slownews.kr/wp-content/uploads/2025/09/dNNZUnjH1nZQ68cccd01e21292.44161492-1000x667.jpg', 'publishedAt': '2025-09-21T22:26:19Z', 'content': '. ( .): 2014. 10. 27. | : | : . | : -55040.: (04536) 2 57 1002 . | : 731-86-02969 | : 0507-1328-1033 | : black@slownews.kr: 2012. 3. 26 | : . | .\\xa0 | . |\\xa0 .|\\xa0.'}, {'source': {'id': None, 'name': 'Venturesquare.net'}, 'author': '강진희', 'title': '포티투마루, ‘한-아랍에미리트 경제협력위원회’ 사절단 참가', 'description': '포티투마루(42Maru)가 22일부터 25일까지 아랍에미리트 아부다비·두바이·샤르자에서 열리는 ‘한-아랍에미리트(UAE) 경제협력위원회(UAE-KOREA JOINT BUSINESS COUNCIL)’ 사절단에 참여해 공공AX 국제 협력 무대를 넓혀간다고 밝혔다.\\nThe post 포티투마루, ‘한-아랍에미리트 경제협력위원회’ 사절단 참가 appeared first on 벤처스퀘어.', 'url': 'https://www.venturesquare.net/1006102', 'urlToImage': 'https://www.venturesquare.net/wp-content/uploads/2025/09/gffg.png', 'publishedAt': '2025-09-23T05:39:25Z', 'content': '생성형 AI 스타트업 포티투마루(42Maru, 대표 김동환)가 22일부터 25일까지 아랍에미리트 아부다비·두바이·샤르자에서 열리는 ‘한-아랍에미리트(UAE) 경제협력위원회(UAE-KOREA JOINT BUSINESS COUNCIL)’ 사절단에 참여해 공공AX 국제 협력 무대를 넓혀간다고 밝혔다.\\n한-UAE 경제협력위원회는 2023년 한국 대통령의 국빈방문… [+1420 chars]'}, {'source': {'id': None, 'name': 'Venturesquare.net'}, 'author': '강진희', 'title': '리벨리온, 3천 4백억 원 투자.. “기업가치 1조 9천억 원”', 'description': '리벨리온이 약 3천 4백억 원 규모의 시리즈C 투자를 마무리하며, 누적 투자금 6천 4백억 원, 기업가치 1조 9천억 원을 달성했다고 30일 밝혔다.\\nThe post 리벨리온, 3천 4백억 원 투자.. “기업가치 1조 9천억 원” appeared first on 벤처스퀘어.', 'url': 'https://www.venturesquare.net/1007315', 'urlToImage': 'https://www.venturesquare.net/wp-content/uploads/2025/09/dsfsgdgdf.jpg', 'publishedAt': '2025-09-30T05:19:24Z', 'content': '리벨리온이 약 3천 4백억 원 규모의 시리즈C 투자를 마무리하며, 누적 투자금 6천 4백억 원, 기업가치 1조 9천억 원을 달성했다고 30일 밝혔다. 이번 투자에는 영국의 반도체 설계 IP 기업 Arm이 전략적 투자자로 새롭게 합류하며 리벨리온은 규모 뿐 아니라 글로벌 반도체 생태계의 주요 파트너로서 인정받고, APAC(아시아태평양)을 대표하는 AI반도체… [+1692 chars]'}, {'source': {'id': None, 'name': 'Venturesquare.net'}, 'author': '강진희', 'title': '서울로보틱스, 日 닛산 그룹 공장 자율주행 프로젝트 수주', 'description': '서울로보틱스는 일본 닛산(Nissan) 그룹 공장 내 물류 자동화 프로젝트를 수주했다고 29일 밝혔다.\\nThe post 서울로보틱스, 日 닛산 그룹 공장 자율주행 프로젝트 수주 appeared first on 벤처스퀘어.', 'url': 'https://www.venturesquare.net/1007077', 'urlToImage': 'https://www.venturesquare.net/wp-content/uploads/2025/09/srgdfv.jpg', 'publishedAt': '2025-09-29T05:21:44Z', 'content': 'AI 기반 물류 자율주행 솔루션 기업 서울로보틱스(대표 이한빈)는 올해 하반기 코스닥 상장을 앞두고 일본 닛산(Nissan) 그룹 공장 내 물류 자동화 프로젝트를 수주했다고 29일 밝혔다.\\n이번 수주는 자동차 산업이 발달한 일본에서 닛산 그룹이 한국 스타트업의 자율주행 AI 기술을 선택했다는 점에서 의미가 있다. 서울로보틱스는 독일에 이어 일본으로 자율주… [+1294 chars]'}, {'source': {'id': None, 'name': 'Khan.co.kr'}, 'author': '뉴욕 | 정환보 기자 botox@kyunghyang.com', 'title': '이 대통령 미 재무장관 만나 “대미투자 상업적 합리성 중요”', 'description': '“한국 경제규모·외환 인프라 달라”…‘통화스와프’ 강조\\n대통령실 “부처 논의 약속 받아내…관세협상 중대 분수령 될 것”\\n\\n한국 정상 첫 유엔 안보리 공개토의 주재 이재명 대통령이 24일(현지시간) 미국 뉴욕 유엔본부서 한국 정상 처음으로 유엔 안전보장이사회 공개토의를 주재하고 있다.| 관련기사 4면 연합뉴스\\n유엔총회 참석차 미국 뉴욕을 방문 중인 ···', 'url': 'https://www.khan.co.kr/article/202509252210035', 'urlToImage': 'https://img.khan.co.kr/news/2025/09/25/l_2025092601000807900082541.jpg', 'publishedAt': '2025-09-25T13:10:03Z', 'content': '24() .| 4 \\r\\n24() · .\\r\\n . .\\r\\n · , .\\r\\n · 3500 . .\\r\\n . .\\r\\n , . · , . · . . · .'}, {'source': {'id': None, 'name': 'Khan.co.kr'}, 'author': '박은경 기자 yama@kyunghyang.com', 'title': '조지아주 인사 “한국 기술자 복귀 내부 논의 중···이들에 의존”', 'description': '미국 조지아주 현대차그룹·LG에너지솔루션 배터리 합작 공장 건설 현장에서 체포·구금됐던 현대엔지니어링 근로자가이 12일 오후 인천국제공항을 통해 귀국한 뒤 주차장에서 가족과 만나 포옹을 하고 있다. 공항사진기자단\\n\\n\\n미국 조지아주 경제 분야 인사가 현대차그룹-LG에너지솔루션 합작 배터리 공장 건설 현장에서 미국 이민 당국에 체포됐다가 일주일간 구금 뒤 귀국···', 'url': 'https://www.khan.co.kr/article/202509180900001', 'urlToImage': 'https://img.khan.co.kr/news/2025/09/18/news-p.v1.20250912.fb24d9708f5f4f679b9609917b2ace03_P1.jpeg', 'publishedAt': '2025-09-18T00:00:00Z', 'content': '·LG 316 · · . (CRS) 12() ...\\r\\nhttps://www.khan.co.kr/article/202509172303001'}, {'source': {'id': None, 'name': 'Khan.co.kr'}, 'author': '뉴욕 | 정환보 기자 botox@kyunghyang.com', 'title': '정부·블랙록 MOU 체결…핑크 회장 “한국, 아시아 AI 수도로”', 'description': '이 대통령, 대규모 AI 데이터센터 건설·재생에너지 투자 등 논의\\n뉴욕 동포간담회선 “민주국가 정상성 되찾은 한국, 재도약할 때”\\n\\n핑크 회장과 악수 이재명 대통령이 22일(현지시간) 미국 뉴욕의 한 호텔에서 래리 핑크 세계경제포럼 의장과 악수하고 있다. 연합뉴스\\n\\n유엔총회 참석을 위해 미국 뉴욕을 방문 중인 이재명 대통령은 22일(현지시간) 세계···', 'url': 'https://www.khan.co.kr/article/202509232132005', 'urlToImage': 'https://img.khan.co.kr/news/2025/09/23/l_2025092401000738400073511.jpg', 'publishedAt': '2025-09-23T12:32:00Z', 'content': '22() . \\r\\n22() (CEO) (AI) . AI . . .\\r\\n . · AI AI .\\r\\n AI AI . . .\\r\\n AI (MOU) . AI , AI .\\r\\n22() . \\r\\n· AI . AI . · AI .\\r\\nMOU . 125000( 17000) . MOU (TF) . .\\r\\n · .\\r\\n 300 . , , · .\\r\\n , . 730 .'}, {'source': {'id': None, 'name': 'Khan.co.kr'}, 'author': '이정호 기자 run@kyunghyang.com', 'title': '한국 달 궤도선 다누리, 연료 소모 없는 ‘동결 궤도 진입’', 'description': '2027년 12월까지 월면 관측 예정\\n2028년 3월 달과 충돌하며 폐기\\n\\n한국 첫 달 궤도선 ‘다누리’가 우주에서 날고 있는 상상도. 한국항공우주연구원 제공\\n\\n한국이 개발한 첫 번째 달 궤도선인 ‘다누리’가 연료 소모 없이도 날 수 있는 ‘동결 궤도’로 24일 진입했다. 다누리는 달을 대상으로 2027년 말까지 추가 관측을 이어가다 2028년 초 월면에 ···', 'url': 'https://www.khan.co.kr/article/202509241203001', 'urlToImage': 'https://img.khan.co.kr/news/2025/09/24/news-p.v1.20250924.bfbc6d44a0cb4a14acff9ad36ea68610_P1.png', 'publishedAt': '2025-09-24T03:03:00Z', 'content': '2028 3 \\r\\n. \\r\\n24 . 2027 2028 .\\r\\n .\\r\\n 2022 8 . 2023 2 . 2023 12. 2025 12 .\\r\\n 2 100㎞ 60㎞ . .\\r\\n 2027 12 . 60㎞, 200㎞.\\r\\n , . · . 365 , .\\r\\n 2028 3 . .'}, {'source': {'id': None, 'name': 'Khan.co.kr'}, 'author': '김윤나영 기자 nayoung@kyunghyang.com', 'title': '[속보] ADB, 올해 한국 성장률 0.8% 전망···7월 전망치 유지', 'description': '지난달 24일 경기도 평택항에 수출용 차량이 세워져 있다. 연합뉴스\\n\\n아시아개발은행(ADB)이 올해 한국 경제성장률을 0.8%로 전망했다. 지난 7월 전망치를 유지한 것이다.\\n\\nADB는 30일 발표한 ‘2025년 9월 아시아 경제전망’에서 한국 올해 성장률 전망치에 대해 “건설경기 부진, 미국의 관세 인상 및 관련 불확실성 등이 지속되면서 7월 전망을 유지···', 'url': 'https://www.khan.co.kr/article/202509300900001', 'urlToImage': 'https://img.khan.co.kr/news/2025/09/30/rcv.YNA.20250824.PYH2025082405440006100_P1.jpg', 'publishedAt': '2025-09-30T00:00:00Z', 'content': '24 . \\r\\n(ADB) 0.8% . 7 .\\r\\nADB 30 2025 9 , 7 , .\\r\\nADB 7 , , 4 (1.5%) 0.7% . ADB 4, 7, 9 · , 12 .\\r\\n ADB (OECD·1.0%), ( 0.9%) , (KDI·0.8%) . IMF 24 () 0.8% 0.9% .\\r\\nADB 7 1.6% . 1.9% .\\r\\n· 0.1% 4.8% . ADB … [+22 chars]'}, {'source': {'id': None, 'name': 'Khan.co.kr'}, 'author': '이유진 기자 yjleee@kyunghyang.com', 'title': '김정은 “미·한 핵동맹 위험천만 각본···한국 영토 안전할 수 있겠나”', 'description': '조선중앙통신은 무장장비전시회 ‘국방발전-2025’가 4일 평양에서 개막했다고 5일 보도했다. 개막식에서는 김정은 국무위원장이 참석해 연설을 했다. 조선중앙통신｜연합뉴스\\n\\n김정은 북한 국무위원장이 “적들은 자기의 안보환경이 어느 방향으로 접근해 가고 있는가를 마땅히 고민해야 할 것”이라며 “한국 영토가 결코 안전한 곳으로 될 수 있겠는가 하는 것은 그들 스스···', 'url': 'https://www.khan.co.kr/article/202510051031001', 'urlToImage': 'https://img.khan.co.kr/news/2025/10/05/news-p.v1.20251005.d3688359d43345139999faf0d3fe1d1c_P1.jpg', 'publishedAt': '2025-10-05T01:31:00Z', 'content': '-2025 4 5 . . \\r\\n.\\r\\n5 -2025 .\\r\\n · .\\r\\n () .\\r\\n-2025 4 5 . \\r\\n, . .\\r\\n .\\r\\n 2023 . , 2021 -2021 .\\r\\n (SRBM) KN-23 -11 , , (ICBM) -18 -19 .'}, {'source': {'id': None, 'name': 'Khan.co.kr'}, 'author': '오동욱 기자 5dong@kyunghyang.com', 'title': '효성중공업, 미국에 765kV 초고압 송전망 솔루션 공급…한국 최초', 'description': '미국 송전망에 설치된 효성중공업 765kV 초고압변압기. 효성중공업 제공\\n\\n효성중공업은 최근 미국 최대 송전망 운영사와 765킬로볼트(㎸) 초고압 변압기·리액터·차단기 등 대규모 전력기기 공급계약을 체결했다고 19일 밝혔다. 한국 기업이 미국 765㎸ 송전망에 전력 솔루션을 일괄 공급한 건 이번이 처음이다.\\n\\n비밀 유지 조항에 따라···', 'url': 'https://www.khan.co.kr/article/202509191139001', 'urlToImage': 'https://img.khan.co.kr/news/2025/09/19/news-p.v1.20250919.1b721add87ee4b86bdf4b528ca4689f0_P1.jpg', 'publishedAt': '2025-09-19T02:39:00Z', 'content': '765kV . \\r\\n765(㎸) ·· 19 . 765㎸ .\\r\\n . 765㎸ 29, 800㎸ 24 2000 . 765㎸ .\\r\\n765㎸ 365㎸ 500㎸ , . (AI) 10 25% . 765㎸ .\\r\\n 765㎸ . 765㎸ · .\\r\\n 765㎸ .'}, {'source': {'id': None, 'name': 'Khan.co.kr'}, 'author': '뉴욕 | 정환보 기자 botox@kyunghyang.com', 'title': '이 대통령, 뉴욕증권거래소서 투자 세일즈···한국 대통령 최초 투자설명회 개최', 'description': '이재명 대통령이 25일(현지시간) 미국 뉴욕 증권거래소에서 개장을 알리는 버튼을 누른 뒤 손을 흔들고 있다. 연합뉴스\\n\\n유엔총회 참석차 미국을 방문한 이재명 대통령이 25일(현지시간) 뉴욕증권거래소를 찾아 한국에 대한 투자를 당부했다. 한국 대통령이 뉴욕증권거래소에서 투자설명회를 개최한 것은 처음이다.\\n\\n이 대통령은 방미 마지막날인 이날 오전 9시30분 뉴···', 'url': 'https://www.khan.co.kr/article/202509252311001', 'urlToImage': 'https://img.khan.co.kr/news/2025/09/25/rcv.YNA.20250925.PYH2025092523520001300_P1.jpg', 'publishedAt': '2025-09-25T14:11:00Z', 'content': '25() . \\r\\n25() . .\\r\\n 930 (NYSE) 930 .\\r\\n . 1792 .\\r\\n (IR) . , .\\r\\n 20 .\\r\\n , , JP (CEO), (MSCI) .\\r\\n2 , CEO, , KKR CEO .\\r\\n , , .\\r\\n . SK , LG CNS , , , , , , , .'}, {'source': {'id': None, 'name': 'Khan.co.kr'}, 'author': '워싱턴 | 정유진 특파원 sogun77@kyunghyang.com', 'title': '일본 이어 EU도 15%…미, 한국 차에만 25% 관세', 'description': '주요 수출국 중 최고 수준, 경쟁력 적신호\\n\\n도널드 트럼프 미국 행정부가 24일(현지시간) 유럽연합(EU)산 자동차 및 자동차부품에 대한 품목관세를 15%로 확정했다. 앞서 일본이 미국과 자동차 관세율 15%를 확정한 것을 고려하면 주요 자동차 수출국 가운데 한국만 25% 관세가 적용돼 수출경쟁력에 적신호가 들어온 상황이다. | 관련기사 2면\\n\\n미···', 'url': 'https://www.khan.co.kr/article/202509252210005', 'urlToImage': 'https://img.khan.co.kr/spko/company/Khan_CI_180212.jpg', 'publishedAt': '2025-09-25T13:10:00Z', 'content': ', \\r\\n 24() (EU) 15% . 15% 25% . | 2\\r\\n . EU 27.5% 15% 81 . EU . 25 .\\r\\n EU 21 15% . 7 25% 15% 25% .\\r\\n 232 2 . . · . 232 . .'}, {'source': {'id': None, 'name': 'Khan.co.kr'}, 'author': '오경민 기자 5km@kyunghyang.com', 'title': '한국 기후위기 평가보고서, 탄소배출 안 줄면…한 해 80일 ‘폭염’', 'description': '화석연료 지속적으로 사용 땐\\n80년 뒤 연평균 기온 6.3도 ↑\\n폭염일 9배·열대야 21배 증가\\n\\n\\n\\n한반도가 지구 평균보다 훨씬 빠르게 달궈지고 있는 것으로 나타났다. 전문가들은 한반도의 극한 고온 현상은 인간 활동이 원인이라며 탄소배출을 급격히 줄이지 않으면 2100년까지 폭염일은 지금보다 9배, 열대야일은 21배까지 증가할 것으로 전망했다.···', 'url': 'https://www.khan.co.kr/article/202509182221025', 'urlToImage': 'https://img.khan.co.kr/news/2025/09/18/l_2025091901000593000060311.jpg', 'publishedAt': '2025-09-18T13:21:02Z', 'content': '. 2100 9, 21 . 18 2025 .\\r\\n 112 2020~2024 2000 · , . 2015~2024 15.6 . 2018 4 .\\r\\n 2023 14.5 13.7 1~2 . . 1912~2024 10 0.21, 2017 (0.18/10) .\\r\\n . 1968~2024 1.58 , 0.74 . . 1993~2018 3.6 3.4 . () 10 . 19… [+334 chars]'}, {'source': {'id': None, 'name': 'Khan.co.kr'}, 'author': '김태욱 기자 wook@kyunghyang.com', 'title': '한국 경찰, 인터폴 아시아위원회 초대위원 선출···박재석 총경 선출', 'description': '박재석 경찰청 국제공조담당관(왼쪽 세번째)이 지난달 18일부터 싱가포르에서 열린 제25차 인터폴 아시아 지역회의에 참석해 기념사진을 촬영하고 있다. 경찰청 제공\\n\\n한국 경찰관이 인터폴(국제형사경찰기구) 아시아위원회의 초대위원으로 선출됐다.\\n\\n경찰청은 지난달 18일부터 이틀간 싱가포르에서 열린 제25차 인터폴 아시아 지역회의에서 박재석 경찰청 국제공조담당관(···', 'url': 'https://www.khan.co.kr/article/202510021019001', 'urlToImage': 'https://img.khan.co.kr/news/2025/10/02/news-p.v1.20251002.ad5071ed7b3942cbadba0d332a0be0e8_P1.jpg', 'publishedAt': '2025-10-02T01:19:00Z', 'content': ', ··· \\r\\n 2025.10.02 10:19\\r\\n( ) 18 25 . \\r\\n() .\\r\\n 18 25 () 2 .\\r\\n 53 · . 8, 4(4)·2(4) .\\r\\n 4 . 4 7 . . .\\r\\n , , , 4 .\\r\\n , .\\r\\n ( ) , .'}, {'source': {'id': None, 'name': 'Khan.co.kr'}, 'author': '정환보 기자 botox@kyunghyang.com', 'title': '일본 새 총리 ‘강경 우파’ 다카이치…한국 ‘투트랙 외교’ 시험대', 'description': '자민당 총재 당선, 이달 중순 취임 예정…‘과거사·영토’ 강경 발언\\n‘미·중 갈등’ 속 한·일 협력 중요성 의식해 현실주의 노선 선택할 듯\\n내각 구성 등 주목…‘셔틀외교 복원’ 이 대통령과 APEC서 상견례\\n\\n웃으며 악수 다카이치 사나에 신임 일본 자민당 총재(오른쪽)가 지난 4일 도쿄 당 본부에서 치러진 총재 선거에서 당선된 후 이시바 시게루 총리···', 'url': 'https://www.khan.co.kr/article/202510092114005', 'urlToImage': 'https://img.khan.co.kr/news/2025/10/09/l_2025101001000142500012101.jpg', 'publishedAt': '2025-10-09T12:14:00Z', 'content': '() 4 . \\r\\n, . · . · .\\r\\n9 · . .\\r\\n () . 21 27~29 , .\\r\\n . . · · · .\\r\\n · . () , 2022 .\\r\\n · . · . · . .\\r\\n · 1 31 ·(APEC) . APEC . ·· · .'}, {'source': {'id': None, 'name': 'Zdnet.co.kr'}, 'author': '류승현 기자', 'title': '중국·미국 흔들리자…LVMH, 한국 시장 공략 강화', 'description': '[지디넷코리아]루이비통과 디올을 운영하는 프랑스 명품 그룹 LVMH가 한국 시장 공략을 본격화하고 있다. 미국과 중국에서 경기·정치적 불확실성이 커지면서 글로벌 소비 전망이 흔들리자, 안정적 수요와 관광객 유입이 이어지고 있는 한국에 투자를 집중하는 모습이다.24일(현지시간) 블룸버그통신에 따르면 LVMH의 간판 브랜드 루이비통과 크리스챤 디올은 향후 수년 내 서울 청담동에 위치한 플래그십 매장을 확장할 계획이다. 디올은 이르면 2027년 리뉴얼을 추진하며, …', 'url': 'https://zdnet.co.kr/view/?no=20250925092111', 'urlToImage': 'https://image.zdnet.co.kr/2023/12/21/9afd266b72e9f4b10e361111a00a939f.jpg', 'publishedAt': '2025-09-25T00:51:30Z', 'content': 'LVMH . · , .\\r\\n24() LVMH . 2027 , .\\xa0\\r\\n , 2027 .\\r\\n·· 33 ( 46266), 10% . · , . 92600 .\\r\\n 10 , . .\\r\\nLVMH . 12 , 2023 . 6 .\\r\\n , 2 6 .'}, {'source': {'id': None, 'name': 'Khan.co.kr'}, 'author': '김경학 기자 gomgom@kyunghyang.com', 'title': '미국 시장서 관세 역전된 한국 자동차…유럽 선전으로 돌파하나', 'description': '최대 수출 시장 미국서 타격 불가피\\n전기차 중심으로 유럽 지역 크게 증가\\n\\n지난 7월31일 경기 평택항에 수출용 자동차들이 주차돼 있다. 권도현 기자\\n\\n국내 자동차 업계에서 미국은 타의 추종을 불허하는 가장 큰 시장이다. 지난해 미국에 수출한 자동차 실적은 347억4400만달러(약 48조원)로, 미국을 제외한 나머지 국가에 수출한 실적을 모두 합한 것(36···', 'url': 'https://www.khan.co.kr/article/202509161559001', 'urlToImage': 'https://img.khan.co.kr/news/2025/09/16/news-p.v1.20250916.de310ade8b0949dfbec2b6c5efc4e034_P1.jpeg', 'publishedAt': '2025-09-16T06:59:00Z', 'content': '731 . \\r\\n. 3474400( 48), (3603800) . 16 27.5% 15% 25% .\\r\\n , 8.6% 55( 75900) 8 . 2023 8 529000. 1 8 477( 658000) (474·2024) .\\r\\n , . . (EU) 54% 79000 . (16000·118.7%), (14000·54.5%), (8000·110.3%) . EU … [+100 chars]'}, {'source': {'id': None, 'name': 'Khan.co.kr'}, 'author': '박준철 기자 terryus@kyunghyang.com', 'title': '한국 ‘마약 위기국’ 경고···“마약 사범 56%가 청년층”', 'description': '지난 2월 캄보디아에서 출발한 여행자가 신발 밑창과 과자로 숨겨 들어온 마약을 제주공항세관이 적발했다. 정일영 의원실 제공\\n\\n올해 적발된 코카인 규모 2302kg\\n\\n한국이 ‘마약 청정국’이 아닌, ‘마약 위기국’으로 전락할 수 있다는 경고등이 켜졌다.\\n\\n국회 기획재정위원회 더불어민주당 정일영 의원(인천 연수을)은 18일 관세청에서 받은 자료를 분석한 결과,···', 'url': 'https://www.khan.co.kr/article/202509181015001', 'urlToImage': 'https://img.khan.co.kr/news/2025/09/18/news-p.v1.20250918.44508af25ee745708493543c10fdaffb_P1.jpg', 'publishedAt': '2025-09-18T01:15:00Z', 'content': '2302kg\\r\\n2 . \\r\\n, .\\r\\n ( ) 18 , 1~8 2302kg .\\r\\n 7600. . 676㎏ 340% .\\r\\n 99% 2296kg . 6 1690㎏, 600㎏ .\\r\\n · .\\r\\n 1~8 866 2810㎏ . 862 787㎏ \\r\\n 5 56.1% 20~30 .\\r\\n .'}, {'source': {'id': None, 'name': 'Khan.co.kr'}, 'author': '박미라 기자 mrpark@kyunghyang.com', 'title': '‘한국 어선에서 선원 8명 구조’ 중국 해경들, 제주 명예도민 됐다', 'description': '지난 5월 침수하고 있는 제주 어선에서 선원 8명을 구한 중국 해경 대원들이 명예 제주도민이 됐다.\\n\\n제주도는 16일 한라컨벤션센터에서 열린 ‘2025 한·중 미래발전 제주국제교류주간’ 행사에서 제주 어선 선원 구조에 공헌한 중국 해경 대원 4명에게 명예도민증을 수여했다.\\n\\n명예도민증을 받은 대원은 중국해경 직속 제2국 2307함에 근무하는 팡량(정···', 'url': 'https://www.khan.co.kr/article/202509162026015', 'urlToImage': 'https://img.khan.co.kr/spko/company/Khan_CI_180212.jpg', 'publishedAt': '2025-09-16T11:26:01Z', 'content': '5 8 .\\r\\n 16 2025 · 4 .\\r\\n 2 2307 (), (), (), () 4.\\r\\n 5 563 887(29t) 8 . 7 · .\\r\\n 514 . · · .\\r\\n · . . 12 2560( 2406· 24· 130) .'}, {'source': {'id': None, 'name': 'Khan.co.kr'}, 'author': '김지윤 기자 june@kyunghyang.com', 'title': '‘칠리크랩 성지’ 점보 씨푸드, 한국 진출 1주년…어떻게 달라지나?', 'description': '싱가포르 씨푸드 레스토랑 점보씨푸드의 대표 메뉴인 칠리크랩과 블랙페퍼크랩을 비롯한 다양한 메뉴들.\\n\\n싱가포르 씨푸드 레스토랑 점보 씨푸드(JUMBO Seafood)가 오픈 1주년을 맞아 한국 시장 성과와 향후 확장 전략을 공개했다.\\n\\n앙 키암 멩 점보 그룹 회장은 22일 여의도 IFC몰 직영점에서 진행된 기자간담회에서 “한국의 식자재와 문화를 존중하며 정통···', 'url': 'https://www.khan.co.kr/article/202509221540001', 'urlToImage': 'https://img.khan.co.kr/news/2025/09/22/news-p.v1.20250922.bfe3b2511dab4cbc9a60a240a1bff79e_P1.png', 'publishedAt': '2025-09-22T06:40:00Z', 'content': ', 1 ?\\r\\n 2025.09.22 15:40\\r\\n.\\r\\n(JUMBO Seafood) 1 .\\r\\n 22 IFC .\\r\\n F&amp;B , . .\\r\\n, , .\\r\\n, . .\\r\\n . . , .\\r\\n . , , , , 2025 1 .'}, {'source': {'id': None, 'name': 'Khan.co.kr'}, 'author': '김세훈 기자 shkim@kyunghyang.com', 'title': '한국 팬, EPL보러 날아갔지만…900파운드 암표 티켓 ‘무효처리’', 'description': '영국축구입장권. 게티이미지\\n\\n암표로 잉글랜드 프리미어리그 티켓을 사서 영국으로 날아간 한국 팬이 큰 낭패를 당했다.\\n\\n영국 BBC는 토트넘의 첫 경기를 보기 위해 한국에서 5500마일(8851㎞)을 날아간 축구 팬의 이야기를 24일 소개했다. 자신을 제임스라고 소개한 이 한국 팬은 지난 주말 토트넘-브라이턴의 경기를 보기 위해 영국로 향했으나 ···', 'url': 'https://www.khan.co.kr/article/202509241133001', 'urlToImage': 'https://img.khan.co.kr/news/2025/09/24/news-p.v1.20250924.df4d66abbc3e4b99bb1f119e35adcc16_P1.png', 'publishedAt': '2025-09-24T02:33:00Z', 'content': '. \\r\\n.\\r\\n BBC 5500(8851㎞) 24 . - .\\r\\nBBC 900( 170) , .\\r\\n BBC . 285 . .\\r\\n . , · . . , .\\r\\n (FSA) . BBC .\\r\\n 1994 166 . 2025 1 · .\\r\\n· . EPL · , ·(IDV) . 2023~2024 · , 75· 136 .'}, {'source': {'id': None, 'name': 'Khan.co.kr'}, 'author': '김윤나영 기자 nayoung@kyunghyang.com', 'title': '추경 효과…IMF, 올해 한국 성장률 0.9%로 소폭 상향', 'description': '‘고령화 리스크’ 세입 확충 권고\\n내년 성장 전망 기존 1.8% 유지\\n\\n\\n\\n국제통화기금(IMF)이 올해 한국 경제성장률 전망치를 0.8%에서 0.9%로 소폭 올렸다. 올해 두 차례 추가경정예산(추경) 효과를 반영한 결과다. \\n\\nIMF는 고령화 충격에 대비해 중장기적으로는 세입 확충이 필요하다고 권고했다.\\n\\nIMF 한국미션단은 24일 정부서울···', 'url': 'https://www.khan.co.kr/article/202509242049035', 'urlToImage': 'https://img.khan.co.kr/news/2025/09/24/l_2025092501000777200077411.jpg', 'publishedAt': '2025-09-24T11:49:03Z', 'content': '(IMF) 0.8% 0.9% . () .\\r\\nIMF .\\r\\nIMF 24 2025 IMF- 0.9% . 7 0.1% , (OECD·1.0%) (KDI·0.8%) .\\r\\nIMF · .\\r\\n IMF 7 .\\r\\n 2% , .\\r\\n . .\\r\\n (AI) · . AI , · .\\r\\n 1.8% . OECD (2.2%) ·KDI(1.6%) .\\r\\n IMF .'}, {'source': {'id': None, 'name': 'Khan.co.kr'}, 'author': '김경학 기자 gomgom@kyunghyang.com', 'title': '트럼프 “내달부터 의약품에 관세 100%”…한국 기업 영향은?', 'description': '미국 현지 공장 유무에 희비 엇갈려\\n\\n도널드 트럼프 미국 대통령이 25일(현지시간) 워싱턴 백악관 집무실에서 틱톡 관련 행정명령에 서명한 뒤 기자들과 이야기하고 있다. UPI연합뉴스\\n\\n도널드 트럼프 미국 대통령이 다음달부터 의약품에 100%의 품목관세를 부과하겠다고 밝혔다. 다만 미국에 공장을 짓고 있는 기업 등에는 부과하지 않겠다는 단서를 달며 국내 의약···', 'url': 'https://www.khan.co.kr/article/202509261215011', 'urlToImage': 'https://img.khan.co.kr/news/2025/09/26/rcv.YNA.20250926.PUP20250926011301009_P1.jpg', 'publishedAt': '2025-09-26T03:15:01Z', 'content': '25() . UPI\\r\\n100% . .\\r\\n 25() SNS 2025 101 100% . () .\\r\\n , . 23 . , . 2022 (BMS) .\\r\\n SNS . .\\r\\n 135700( 19100) , 18.1% . , . 2 .\\r\\n· , .\\r\\n 55 .'}, {'source': {'id': None, 'name': 'Khan.co.kr'}, 'author': '노도현 기자 hyunee@kyunghyang.com, 최민지 기자 ming@kyunghyang.com', 'title': '갤럭시의 한국, 로컬의 중국, 아이폰의 일본···한중일 ‘스마트폰 삼국지’', 'description': '지난 15일 서울 서초구 삼성 강남에서 시민들이 갤럭시 Z폴드7을 살펴보고 있다. 연합뉴스\\n\\n스마트폰 시장은 인공지능(AI)과 더불어 폼팩터(외형) 혁신이 한창입니다. 삼성전자는 지난 7월 자사 폴더블폰 브랜드인 갤럭시 Z 시리즈 중 가장 얇은 폴더블폰인 ‘Z폴드7’을 내놨고, 연내에 두 번 접는 ‘트라이폴드폰’을 선보일 예정입니다. 애플은 지난달 두께 5···', 'url': 'https://www.khan.co.kr/article/202510061335001', 'urlToImage': 'https://img.khan.co.kr/news/2025/10/06/rcv.YNA.20250715.PYH2025071512930001300_P1.jpg', 'publishedAt': '2025-10-06T04:35:00Z', 'content': '15 Z7 . \\r\\n(AI) () . 7 Z Z7 , . 5.6㎜ .\\r\\n , .\\r\\n 19% 1, 18% 2 , (14%), ·( 8%) . .\\r\\n . . .\\r\\n ··· \\r\\n . . 73% . 26% , 1% .\\r\\n 2021 LG . 2020 LG 13% . .\\r\\n . 7 18 986 72%, 24%, 2% . 18~29 60% . 30 · , 40 (50·… [+222 chars]'}, {'source': {'id': None, 'name': 'Khan.co.kr'}, 'author': '최서은 기자 cielo@kyunghyang.com', 'title': '미국 조지아 구금 사태에 경악한 한국···다시, 우리들의 모습을 돌아보다', 'description': '쇠사슬·수갑 동원 체포, 일주일간 열악한 시설 억류\\n한국서도 이주노동자 대상으로 빈번하게 벌어져\\n마구잡이식 단속 피하다 사망·부상 사례도 잇따라\\n\\n지난달 16일 울산출입국사무소가 울산의 한 자동차 부품회사에서 일하는 이주노동자들을 수갑에 채워 연행하고 있는 모습. 금속노조 제공\\n\\n최근 미국 조지아주 내 한국 기업 공장 건설 현장에서 대규모 이민 단속으로 한···', 'url': 'https://www.khan.co.kr/article/202510071632001', 'urlToImage': 'https://img.khan.co.kr/news/2025/10/07/news-p.v1.20251002.9668fe95f8da45df98d8edac6a0e8783_P1.jpg', 'publishedAt': '2025-10-07T07:32:00Z', 'content': '16 . \\r\\n. (ICE) 4() -LG 475 . ICE , , . 300 , .\\r\\n . . . 2 16 50 . , .\\r\\n 6 25 . , . 812~912 4617. , , , , , , .\\r\\n(APEC) . 30 929 125 , , , , 5 2 APEC 2025 KOREA , .\\r\\n . 1 , . APEC . 2010 G20 · .\\r\\n . 88… [+37 chars]'}, {'source': {'id': None, 'name': 'Khan.co.kr'}, 'author': '박상영 기자 sypark@kyunghyang.com', 'title': '경제부총리 “미국이 한국 외환시장 사정 인정해주면 새 돌파구”', 'description': '“베선트, 통화스와프 검토 답변”\\n회담 조율…‘G20’ 참석차 방미\\n\\n\\n\\n구윤철 부총리 겸 기획재정부 장관(사진)은 13일 한·미 통화스와프 논의와 관련해 “스콧 베선트 미국 재무장관으로부터 우리 외환시장 상황을 이해하고 내부적으로 검토하겠다는 답변을 받았다”고 밝혔다.\\n\\n구 부총리는 이날 국회에서 열린 기획재정위원회 국정감사에서 “(대미 투자···', 'url': 'https://www.khan.co.kr/article/202510132119025', 'urlToImage': 'https://img.khan.co.kr/news/2025/10/13/l_2025101401000215300019841.jpg', 'publishedAt': '2025-10-13T12:19:02Z', 'content': '() 13 · .\\r\\n ( 3500) .\\r\\n 4100 () 3500 .\\r\\n , .\\r\\n , . 15 20(G20) .\\r\\n · .\\r\\n· 3500 . . 1 150 200 ( ) .\\r\\n . .'}, {'source': {'id': None, 'name': 'Zdnet.co.kr'}, 'author': '주문정 기자', 'title': '한국 주도 ‘제3자 결제서비스제공기관의 정보보호’ 국제표준 발간', 'description': '[지디넷코리아]우리나라가 제안한 ‘제3자 결제서비스 제공기관을 위한 정보보호 지침 및 요구사항’이 국제표준으로 발간됐다.국내외적으로 제3자 결제서비스가 활발하게 진행 중인 상황에서 산업통상자원부 국가기술표준원과 금융결제원은 국내 금융 보안기술을 국제표준에 선제적으로 반영하기 위해 2022년 8월 ‘금융서비스 국제표준화위원회(ISO/TC 68)’에 표준안을 제안했다. 이 표준안은 지난 3년간의 국제적 논의를 거쳐 ISO18960 표준으로 발간됐다.제3자 결제서비…', 'url': 'https://zdnet.co.kr/view/?no=20250914231849', 'urlToImage': 'https://image.zdnet.co.kr/2025/09/14/8058d670d14f7035d52f6c5e5844197f.jpg', 'publishedAt': '2025-09-14T14:18:49Z', 'content': '3 .\\r\\n 3 2022 8 (ISO/TC 68) . 3 ISO18960 .\\r\\n3 ·· ·· .\\r\\n<ul><li> , 2025.09.03</li><li> · 2025.09.02</li><li>·, 2025.08.21</li><li> \" , \"2025.09.08</li></ul>\\r\\n·· 3 . , , .\\r\\n .'}, {'source': {'id': None, 'name': 'Zdnet.co.kr'}, 'author': '백봉삼 기자', 'title': '와디즈-스타트투그룹, 글로벌 스타트업 한국 진출 지원', 'description': '[지디넷코리아]와디즈(대표 신혜성)가 독일 등 유럽 스타트업 제품의 아시아 시장 진출에 혁신 테스트베드 역할을 강화한다.와디즈는 글로벌 혁신 스타트업 액셀러레이팅 전문 기업 스타트투그룹과 업무협약(MOU)을 체결하고, 글로벌 스타트업의 한국 및 아시아 시장 진출을 지원한다고 17일 밝혔다.와디즈는 이번 협약을 통해 독일 및 글로벌 스타트업들 사이에서 플랫폼 인지도를 높이고, 아시아 시장 진출 교두보로서 유럽의 혁신 브랜드와 트렌디한 제품을 와디즈를 통해 선보일…', 'url': 'https://zdnet.co.kr/view/?no=20250917155209', 'urlToImage': 'https://image.zdnet.co.kr/2025/09/17/a31606fafb6533733c48925966b1f535.jpg', 'publishedAt': '2025-09-17T07:03:19Z', 'content': ''}, {'source': {'id': None, 'name': 'Zdnet.co.kr'}, 'author': '법무법인 엔드웰(ENDWELL) 대표변호사 서상윤', 'title': '실리콘밸리 문턱 낮춘 한국 스타트업의 새로운 길', 'description': '[지디넷코리아]트럼프 정부의 H-1B 비자 수수료가 1천달러에서 10만 달러로 100배나 인상되면서, 미국 기업들은 연간 약 84억 달러의 추가 비용을 부담하게 됐다. 매년 8만 5천 건이 발급되던 H-1B 비자를 통해 구글·애플·아마존 등 글로벌 기업들이 인도와 중국 인재를 영입해 왔지만, 이제 그 길이 사실상 막힌 셈이다. 그러나 이 상황은 한국 스타트업에게는 새로운 기회다. 헤이그 아포스티유 협약과 미국 원격온라인공증(Remote Online Notari…', 'url': 'https://zdnet.co.kr/view/?no=20250930101127', 'urlToImage': 'https://image.zdnet.co.kr/2025/09/30/04732665bbfeff5caa33b73a2fc3080d.png', 'publishedAt': '2025-09-30T01:11:49Z', 'content': 'H-1B \\r\\nH-1B 1 10 100 , 84 . 8 5 H-1B ·· , . . (Remote Online Notarization, RON) .\\r\\n2007 . 124 . , . RON . 2025 44 RON , . . AI , . .\\r\\nH-1B , . VC . SAFE(Simple Agreement for Future Equity) DocuSign R… [+123 chars]'}, {'source': {'id': None, 'name': 'Zdnet.co.kr'}, 'author': '주문정 기자', 'title': '한국, 국제표준화기구(ISO) 기술이사국 연임 성공', 'description': '[지디넷코리아]산업통상부 국가기술표준원은 지난 6일부터 10일까지 르완다 키갈리에서 개최된 국제표준화기구(ISO) 총회에서 우리나라가 기술이사회(TMB)에 연임하는데 성공했다고 12일 밝혔다. 이에 따라 우리나라는 2028년까지 기술이사국으로 활동(문영준 KAIST 교수)하며 ISO의 기술 정책 결정에 지속적인 참여가 가능하게 됐다.TMB는 ISO의 신규 표준위원회 설립·해산, 표준위원회 간 업무 조정, 의장국 임명 등 ISO의 표준활동을 실질적으로 조정하는 …', 'url': 'https://zdnet.co.kr/view/?no=20251012135221', 'urlToImage': 'https://image.zdnet.co.kr/2023/04/24/89779d0d8b247d3c1e1a5db7ea42e48e.jpg', 'publishedAt': '2025-10-12T04:52:21Z', 'content': '6 10 (ISO) (TMB) 12 . 2028 ( KAIST ) ISO .\\r\\nTMB ISO ·, , ISO . .\\r\\nGPS , ISO ·. · MOU , 12 AI .\\r\\n ISO .\\r\\n<ul><li> , 2025.09.21</li><li> 3 2025.09.14</li><li> , 2025.03.06</li><li> (KS) 166 2025.01.09<… [+8 chars]'}, {'source': {'id': None, 'name': 'Venturesquare.net'}, 'author': '강진희', 'title': '어스얼라이언스, 카탈라이즈 리서치와 업무협약 체결', 'description': '어스얼라이언스는 글로벌 블록체인 컨설팅 기업 카탈라이즈 리서치(Catalyze Research)와 리플(XRP) 생태계 활성화 및 건전한 투자문화 정착을 위한 전략적 업무협약(MOU)을 체결했다고 26일 밝혔다.\\nThe post 어스얼라이언스, 카탈라이즈 리서치와 업무협약 체결 appeared first on 벤처스퀘어.', 'url': 'https://www.venturesquare.net/1006711', 'urlToImage': 'https://www.venturesquare.net/wp-content/uploads/2025/09/gswrd.jpg', 'publishedAt': '2025-09-26T06:44:16Z', 'content': 'AI 금융 콘텐츠 플랫폼 어스얼라이언스는 글로벌 블록체인 컨설팅 기업 카탈라이즈 리서치(Catalyze Research)와 리플(XRP) 생태계 활성화 및 건전한 투자문화 정착을 위한 전략적 업무협약(MOU)을 체결했다고 26일 밝혔다.\\n이번 협약은 어스얼라이언스가 블록체인 및 온체인 분야로의 본격적인 사업 확장을 선언한 가운데 체결된 것으로, 양사는 향… [+907 chars]'}, {'source': {'id': None, 'name': 'Venturesquare.net'}, 'author': '강진희', 'title': '스파크랩파트너스, 한동대학교 내 경상북도 지사 개소', 'description': '스파크랩파트너스가 경북 포항시에 위치한 한동대학교 캠퍼스 내에 경상북도 지사를 개소하며 현판식을 개최했다고 밝혔다.\\nThe post 스파크랩파트너스, 한동대학교 내 경상북도 지사 개소 appeared first on 벤처스퀘어.', 'url': 'https://www.venturesquare.net/1006754', 'urlToImage': 'https://www.venturesquare.net/wp-content/uploads/2025/09/fsdsgs.jpg', 'publishedAt': '2025-09-26T04:38:49Z', 'content': '스파크랩파트너스(대표 김호민)가 경북 포항시에 위치한 한동대학교 캠퍼스 내에 경상북도 지사를 개소하며 현판식을 개최했다고 밝혔다.\\n이번 경상북도 지사 설립은 포항시·한동대와의 전략적 협력을 통해 지역 내 혁신 창업 생태계를 조성하고, AI와 바이오 분야의 유망 스타트업을 발굴·투자하기 위한 기반을 마련하는 것이 목표다. 또한 향후 임상전문특화병원과 연계해… [+844 chars]'}, {'source': {'id': None, 'name': 'Venturesquare.net'}, 'author': '강진희', 'title': '어스얼라이언스, 박두환 전문가 세미나 종료', 'description': '어스얼라이언스는 ‘실전 가치 투자자’로 잘 알려진 박두환 전문가와 지난 27일 서울 강남구 건설공제조합 CG아트홀에서 개최한 ‘박두환의 투자동행학교’ 첫 오프라인 세미나를 마쳤다고 30일 밝혔다.\\nThe post 어스얼라이언스, 박두환 전문가 세미나 종료 appeared first on 벤처스퀘어.', 'url': 'https://www.venturesquare.net/1007328', 'urlToImage': 'https://www.venturesquare.net/wp-content/uploads/2025/09/ftghghfhgf.jpg', 'publishedAt': '2025-09-30T04:25:16Z', 'content': 'AI 금융 콘텐츠 플랫폼 어스얼라이언스는 ‘실전 가치 투자자’로 잘 알려진 박두환 전문가와 지난 27일 서울 강남구 건설공제조합 CG아트홀에서 개최한 ‘박두환의 투자동행학교’ 첫 오프라인 세미나를 마쳤다고 30일 밝혔다.\\n박두환 전문가는 단기 수익 중심의 접근에서 벗어나, 시장 흐름 해석법과 산업 독점력 분석법에 기반한 ‘가치 투자 철학’을 정립한 개인 … [+836 chars]'}, {'source': {'id': None, 'name': 'Venturesquare.net'}, 'author': '강진희', 'title': '모인, 선불·직불 전자지급수단 라이선스 취득', 'description': '모인이 금융위원회로부터 전자금융거래법에 따른 선불전자지급수단 및 직불전자지급수단 발행·관리업 등록 심사를 모두 통과해 정식 등록을 완료했다고 밝혔다.\\nThe post 모인, 선불·직불 전자지급수단 라이선스 취득 appeared first on 벤처스퀘어.', 'url': 'https://www.venturesquare.net/1006923', 'urlToImage': 'https://www.venturesquare.net/wp-content/uploads/2025/09/ahdls.jpg', 'publishedAt': '2025-09-29T02:24:52Z', 'content': '해외송금 전문 핀테크 기업 모인이 금융위원회로부터 전자금융거래법에 따른 선불전자지급수단 및 직불전자지급수단 발행·관리업 등록 심사를 모두 통과해 지난 24일 정식 등록을 완료했다고 밝혔다.\\n이번 인허가를 통해 모인은 기존 해외송금 서비스 뿐만 아니라, 카드·전자월렛·자동 결제 등 다양한 지급결제 서비스 영역으로 사업을 확장할 수 있는 법적 기반을 확보했다… [+691 chars]'}, {'source': {'id': None, 'name': 'Venturesquare.net'}, 'author': '장기정 스타트업 기자단 1기 기자', 'title': '파인디, 엔지니어링 생산성 가시화로 한국 시장 공략…“데이터로 성장 환경을 증명한다”', 'description': \"일본 엔지니어 플랫폼 파인디가 개발자 생산성 관리 SaaS 'Findy Team+'를 앞세워 한국 시장에 진출한다. 2016년 설립된 파인디는 누적 400억 원 투자를 유치하며 22만 명 엔지니어와 4,500개 기업을 연결했다. Findy Team+는 GitHub, Jira 등 개발 툴 데이터를 분석해 리드타임, 배포 빈도 등 DevOps 지표를 가시화하고 AI 도입 효과까지 검증한다. 일본 기업들은 도입 후 기능 출시 빈도 5배 증가, 리드타임 1/6 단축 …\", 'url': 'https://www.venturesquare.net/1007978', 'urlToImage': 'https://www.venturesquare.net/wp-content/uploads/2025/10/파인디1.png', 'publishedAt': '2025-10-05T07:01:10Z', 'content': 'IT , (Findy Inc.) . \\r\\n SaaS ‘Findy Team+’ . AI .\\r\\n22 4,500 \\r\\n2016 . 400 , 22 4,500 . ‘Findy’, ‘Findy Freelance’, SaaS ‘Findy Team+’ DX .\\r\\n “ , ” “ , ” . HR , .\\r\\n , ‘Findy Team+’\\r\\n ‘Findy Team+’. GitH… [+12060 chars]'}, {'source': {'id': None, 'name': 'Besuccess.com'}, 'author': 'beSUCCESS', 'title': '그리너지, NYU 스턴 액셀러레이터 EFL 한국 유일 선정', 'description': '그리너지(Grinergy)가 뉴욕대학교(NYU) 스턴 경영대학원이 주관하는 글로벌 액셀러레이터 Endless Frontier Labs(EFL)에 한국 기업으로는 유일하게 선정됐다. 올해 EFL에는 약 1400개 기업이 지원했으며, 라이프 사이언스 분야에서는 단 25개 기업만이 최종 선정되는 높은 경쟁률을 보였다. 그리너지는 한국 기업 중 유일하게 이 영예를 안았다. EFL 프로그램은 9개월 동안 현직 전문가와 벤처캐피탈, 학계 인사의 심도 있는 평가 및 맞춤형…', 'url': 'https://www.besuccess.com/?p=177495', 'urlToImage': 'https://www.besuccess.com/wp-content/uploads/2025/09/0923-greenergy-1024x683.png', 'publishedAt': '2025-09-23T11:02:15Z', 'content': '(Grinergy) (NYU) Endless Frontier Labs(EFL) . EFL 1400 , 25 . .\\r\\nEFL 9 , , 75 . EFL 23( 3) , 749000 . EFL , NYU MBA .\\r\\nEFL 23 ( 3) , 749000 . 80% .\\r\\n NYU MBA . 1:1 .\\r\\n : (grinergy.tech)'}, {'source': {'id': None, 'name': 'Venturesquare.net'}, 'author': '강진희', 'title': '레인보우로보틱스, ‘CoRL 2025’·‘Humanoids 2025’ 참가', 'description': '레인보우로보틱스가 9월 27일부터 10월 2일까지 서울 코엑스에서 연이어 개최되는 로봇공학 학술대회 ‘CoRL 2025’와 ‘Humanoids 2025’에 참가해 자사의 최신 로봇 기술을 공개한다고 15일 밝혔다.\\nThe post 레인보우로보틱스, ‘CoRL 2025’·‘Humanoids 2025’ 참가 appeared first on 벤처스퀘어.', 'url': 'https://www.venturesquare.net/1004634', 'urlToImage': 'https://www.venturesquare.net/wp-content/uploads/2025/09/esgdvx.jpg', 'publishedAt': '2025-09-15T02:46:55Z', 'content': '로봇 플랫폼 전문기업 레인보우로보틱스(대표 이정호)가 9월 27일부터 10월 2일까지 서울 코엑스에서 연이어 개최되는 로봇공학 학술대회 ‘CoRL 2025’와 ‘Humanoids 2025’에 참가해 자사의 최신 로봇 기술을 공개한다고 15일 밝혔다.\\nCoRL 2025(Conference on Robot Learning)는 9월 27일부터 30일까지, Hu… [+817 chars]'}, {'source': {'id': None, 'name': 'Venturesquare.net'}, 'author': '강진희', 'title': '코딧, ‘테크로페스트 2025’ 참가.. “생성형 AI 기반 규제·정책 모니터링 서비스 공개”', 'description': \"코딧(CODIT)은 9월 10일부터 11일까지 싱가포르에서 열린 아시아 리걸테크 박람회인 '테크로페스트(TechLaw Fest) 2025'에 참가해, 생성형 AI 기반 질의응답형 규제·정책 모니터링 서비스인 ‘챗코딧(Chat CODIT)’의 베타 버전을 공개했다고 밝혔...\\nThe post 코딧, ‘테크로페스트 2025’ 참가.. “생성형 AI 기반 규제·정책 모니터링 서비스 공개” appeared first on 벤처스퀘어.\", 'url': 'https://www.venturesquare.net/1005058', 'urlToImage': 'https://www.venturesquare.net/wp-content/uploads/2025/09/hrtgd.jpg', 'publishedAt': '2025-09-17T01:48:43Z', 'content': 'AI 기반 법·규제·정책 데이터 플랫폼 기업 코딧(CODIT, 대표 정지은)은 9월 10일부터 11일까지 싱가포르에서 열린 아시아 리걸테크 박람회인 ‘테크로페스트(TechLaw Fest) 2025’에 참가해, 생성형 AI 기반 질의응답형 규제·정책 모니터링 서비스인 ‘챗코딧(Chat CODIT)’의 베타 버전을 공개했다고 밝혔다.\\n‘테크로페스트’는 싱가포… [+784 chars]'}, {'source': {'id': None, 'name': 'Venturesquare.net'}, 'author': '강진희', 'title': '뷰릿지코퍼레이션, 인도 아마존과 전략적 MOU 체결', 'description': '뷰릿지코퍼레이션은 인도 아마존(Amazon India)과 전략적 업무협약(MOU)을 체결했다고 26일 밝혔다.\\nThe post 뷰릿지코퍼레이션, 인도 아마존과 전략적 MOU 체결 appeared first on 벤처스퀘어.', 'url': 'https://www.venturesquare.net/1006665', 'urlToImage': 'https://www.venturesquare.net/wp-content/uploads/2025/09/sgrf-2.jpg', 'publishedAt': '2025-09-26T06:10:39Z', 'content': '뷰릿지코퍼레이션은 인도 아마존(Amazon India)과 전략적 업무협약(MOU)을 체결했다고 26일 밝혔다. 이번 협약은 국내 뷰티 브랜드의 인도 온라인 시장 진출을 지원하고 유통 채널을 강화하기 위한 차원에서 추진됐다.\\n인도는 약 14억 명의 인구를 보유한 세계 최대 인구 국가로, 평균 연령이 29세(2024년 기준)에 불과해 높은 성장 잠재력을 가진… [+596 chars]'}, {'source': {'id': None, 'name': 'Venturesquare.net'}, 'author': '강진희', 'title': '디테일즈, 중기부 ‘아기유니콘 육성사업 수익성장형 트랙’ 선정', 'description': '디테일즈는가 중소벤처기업부가 주관하는 ‘아기유니콘 육성사업 수익성장형 트랙’에 최종 선정됐다고 밝혔다.\\nThe post 디테일즈, 중기부 ‘아기유니콘 육성사업 수익성장형 트랙’ 선정 appeared first on 벤처스퀘어.', 'url': 'https://www.venturesquare.net/1007219', 'urlToImage': 'https://www.venturesquare.net/wp-content/uploads/2025/09/sgrfdg.jpg', 'publishedAt': '2025-09-30T02:20:37Z', 'content': 'K-컬처 팬덤 IP 전문 기업 디테일즈(대표 최은성)가 중소벤처기업부가 주관하는 ‘아기유니콘 육성사업 수익성장형 트랙’에 최종 선정됐다고 30일 밝혔다.\\n해당 사업은 벤처천억기업으로의 성장을 목표로, 투자 유치 이력이 없는 기업 가운데 수익성과 성장성이 뛰어난 벤처기업을 발굴해 지원하는 프로그램이다. 선정 기업에는 최대 3억 원의 성장 자금과 함께 최대 … [+629 chars]'}, {'source': {'id': None, 'name': 'Venturesquare.net'}, 'author': '강진희', 'title': '소크라 AI, ETS와 파트너십 체결', 'description': '소크라 AI가 글로벌 교육 및 인재 솔루션 기관 ETS(Educational Testing Service)와 토플 iBT 공식 콘텐츠 라이선스 제공을 위한 파트너십을 체결했다고 밝혔다.\\nThe post 소크라 AI, ETS와 파트너십 체결 appeared first on 벤처스퀘어.', 'url': 'https://www.venturesquare.net/1007531', 'urlToImage': 'https://www.venturesquare.net/wp-content/uploads/2025/10/esdfsdg.jpg', 'publishedAt': '2025-10-01T00:51:10Z', 'content': '인공지능(AI) 에듀테크 스타트업 소크라 AI가 글로벌 교육 및 인재 솔루션 기관 ETS(Educational Testing Service)와 토플 iBT 공식 콘텐츠 라이선스 제공을 위한 파트너십을 체결했다고 밝혔다.\\n양사는 2026년 1월 21일 예정된 토플 시험 전면 개정을 앞두고, 소크라 AI가 운영하는 학습 애플리케이션 ‘산타’에서 ETS 공인 … [+635 chars]'}, {'source': {'id': None, 'name': 'Venturesquare.net'}, 'author': '강진희', 'title': '중소벤처기업진흥공단, ‘인권경영시스템 인증’ 취득', 'description': '중소벤처기업인증원(KOSRE)은 중소벤처기업진흥공단이 윤리인권경영 실천 활성화를 위한 노력의 결실로 ‘인권경영시스템(HRMS) 인증’을 취득했다고 밝혔다.\\nThe post 중소벤처기업진흥공단, ‘인권경영시스템 인증’ 취득 appeared first on 벤처스퀘어.', 'url': 'https://www.venturesquare.net/1007321', 'urlToImage': 'https://www.venturesquare.net/wp-content/uploads/2025/09/dsfsfd-2-789x489.jpg', 'publishedAt': '2025-09-30T06:16:17Z', 'content': '중소벤처기업인증원(원장 엄진엽, KOSRE)은 중소벤처기업진흥공단(이사장 강석진, 이하 중진공)이 윤리인권경영 실천 활성화를 위한 노력의 결실로 ‘인권경영시스템(HRMS) 인증’을 취득했다고 밝혔다.\\n인권경영시스템(Human Rights Management System) 인증은 유엔 국제인권선언과 국가인권위원회 인권경영 가이드라인을 기반으로 국제표준화기구… [+914 chars]'}, {'source': {'id': None, 'name': 'Venturesquare.net'}, 'author': '강진희', 'title': '카네비모빌리티, 인도네시아 ‘바투르 호수’ 전기추진 선박 도입 MOU 체결', 'description': '카네비모빌리티는 인도네시아 발리주 방글리군과 국영기업 BMB(Bhukti Mukti Bhakti), 프로젝트 파트너사 PT GMS Invest International과 함께 바투르 호수(Danau Batur) 관광지 개발을 위한 양해각서(MOU)를 체결했다고 밝혔다.\\nThe post 카네비모빌리티, 인도네시아 ‘바투르 호수’ 전기추진 선박 도입 MOU 체결 appeared first on 벤처스퀘어.', 'url': 'https://www.venturesquare.net/1007627', 'urlToImage': 'https://www.venturesquare.net/wp-content/uploads/2025/10/dssd.jpg', 'publishedAt': '2025-10-01T06:40:00Z', 'content': '스마트 모빌리티 전문기업 카네비모빌리티(대표 정종택, 안근백)는 최근 인도네시아 발리주 방글리군과 국영기업 BMB(Bhukti Mukti Bhakti), 프로젝트 파트너사 PT GMS Invest International과 함께 바투르 호수(Danau Batur) 관광지 개발을 위한 양해각서(MOU)를 체결했다고 밝혔다.\\n이번 협약은 발리 지역의 대표적 … [+661 chars]'}, {'source': {'id': None, 'name': 'Venturesquare.net'}, 'author': '강진희', 'title': '메디맵바이오, 日 ‘Innovation Tiger 2025’ 1위 수상', 'description': '㈜메디맵바이오가 일본 바이오 클러스터인 쇼난 헬스 이노베이션 파크에서 열린 제약·바이오 스타트업 경연대회 Innovation Tiger 2025에서 최종 1위를 차지했다고 13일 밝혔다.\\nThe post 메디맵바이오, 日 ‘Innovation Tiger 2025’ 1위 수상 appeared first on 벤처스퀘어.', 'url': 'https://www.venturesquare.net/1008395', 'urlToImage': 'https://www.venturesquare.net/wp-content/uploads/2025/10/rsgwd.jpg', 'publishedAt': '2025-10-13T05:08:58Z', 'content': '면역치료제 개발 기업 ㈜메디맵바이오가 일본 최대 바이오 클러스터인 쇼난 헬스 이노베이션 파크에서 열린 제약·바이오 스타트업 경연대회 Innovation Tiger 2025에서 최종 1위를 차지했다고 13일 밝혔다.\\n메디맵바이오는 지난 7월 초청 기업으로 선정되어 본선에 진출했으며, 지난 9월 30일 열린 파이널 피치 무대에서 우승을 확정지었다. 이에 따라… [+888 chars]'}, {'source': {'id': None, 'name': 'Platum.kr'}, 'author': '조상래', 'title': '대만 최대 액셀러레이터, 한국 전용 코호트 신설…양국 스타트업 생태계 연결 강화', 'description': '대만 최대 스타트업 액셀러레이터 겸 벤처캐피털 AppWorks(앱웍스)가 한국벤처투자(KVIC)와 양해각서를 체결하며 한국 스타트업 생태계와의 접점을 본격적으로 강화한다. KVIC의 AppWorks Fund IV 출자를 계기로, AppWorks는 그간 산발적으로 진행되던 한국 창업가 지원을 체계화하고, 한국 스타트업 생태계가 아시아 전역의 시장과 자본, 네트워크로 확장할 수 있는 실질적 연결고리를 구축한다. 이번 협력은 단순한 기관 간 제휴를 넘어, 한국 창업…', 'url': 'https://platum.kr/archives/271849', 'urlToImage': 'https://platum.kr/wp-content/uploads/2025/09/Blog-post-AppWorks-Secures-Strategic-Investment-from-KVIC-Launches-Korean-Accelerator-Cohort-to-Help-Startups-Go-Regional-Sep-29_Img4-1200x543-1.jpg', 'publishedAt': '2025-09-30T05:28:21Z', 'content': '(c)AppWorks\\r\\nAppWorks() (KVIC) .\\r\\nKVIC AppWorks Fund IV , AppWorks , , . , .\\r\\nAppWorks 624 2,029 . , .\\r\\n AppWorks , AI , , . , AI IoT .\\r\\n , . AppWorks 2,029 , , .\\r\\n AI , . 1 GDP 34000 , .\\r\\n . , , . L… [+293 chars]'}, {'source': {'id': None, 'name': 'Khan.co.kr'}, 'author': '최경윤 기자 cky@kyunghyang.com', 'title': '미국 에너지부 장관 “알래스카 LNG 사업, 한국 기업과 참여 협의 중”', 'description': '액화천연가스 운반선. 로이터연합뉴스\\n\\n크리스 라이트 미국 에너지부 장관이 도널드 트럼프 행정부가 추진하는 알래스카 액화천연가스(LNG) 개발 사업에 한국 기업의 참여 가능성을 밝혔다.\\n\\n라이트 장관은 24일(현지시간) 미국 뉴욕 외신센터에서 취재진과 만나 알래스카 LNG 개발 사업 관련해 “일본, 한국, 아시아 등 여러 기업과 협의 중이다”라며 “알래스카 ···', 'url': 'https://www.khan.co.kr/article/202509250734011', 'urlToImage': 'https://img.khan.co.kr/news/2025/09/25/rcv.YNA.20250523.PRU20250523159801009_P1.jpg', 'publishedAt': '2025-09-24T22:34:01Z', 'content': 'LNG , \\r\\n. \\r\\n(LNG) .\\r\\n 24() LNG , , LNG .\\r\\n LNG . 12 .\\r\\n .\\r\\n LNG 1300㎞ . 60 .\\r\\n 7 1000( 139) 25% 15% .\\r\\n<ul><li>\\r\\n<ol><li>\\r\\n</li><li>\\r\\n</li><li>\\r\\n</li><li>\\r\\n</li><li>\\r\\n</li><li>\\r\\n</li><li>\\r\\n</li><li>\\r… [+51 chars]'}, {'source': {'id': None, 'name': 'Khan.co.kr'}, 'author': '스테판 해거드 UC 샌디에이고 석좌특별명예교수', 'title': '[스테판 해거드의 미국에서 온 엽서]한·미 정상회담에서 현대차 급습까지', 'description': '동맹국 갈취·무능한 의사결정 등\\n미국 리스크 관리 필요성 더 커져\\n한국, 이번 기회로 비자 규정 등\\n‘상호 이익’ 강조할 기회로 삼아야\\n\\n\\n\\n한국 외교에 있어서 지난 한 달은 롤러코스터 같은 시간이었다. 한·미 정상회담은 이재명 대통령에게 비교적 순조롭게 마무리되었다. 필자는 한반도 안보 보장에 대한 미국의 약속은 여전히 굳건하다고 확신한다. ···', 'url': 'https://www.khan.co.kr/article/202509212127025', 'urlToImage': 'https://img.khan.co.kr/news/2025/09/21/l_2025092201000613900063861.jpg', 'publishedAt': '2025-09-21T12:27:02Z', 'content': '. · . . . . , . .\\r\\n · , . . . , .\\r\\n . . . . 3500 , . , , . - .\\r\\n . , .\\r\\n . . , .\\r\\n . (ICE) . , · . , . , ( ) ( ) .\\r\\n . (SNS) . .\\r\\n . , , . , . , .\\r\\n . . , () . , ? ?\\r\\n . . . , . ? , . .\\r\\nUC'}, {'source': {'id': None, 'name': 'Khan.co.kr'}, 'author': '박효재 기자 mann616@kyunghyang.com', 'title': '손흥민, 브라질전 역대 A매치 최다 출전 137경기 신기록…0-5 대패에 빛바랜 역사적 순간', 'description': '10일 서울 마포구 서울월드컵경기장에서 열린 한국과 브라질 축구 대표팀의 친선경기. 손흥민이 엄지를 들어올리고 있다. 손흥민은 이날 경기로 137번째 A매치에 출전해 한국 선수 A매치 최다 출전 신기록을 세웠다. 연합뉴스\\n\\n손흥민(33·LAFC)이 한국 축구 역사에 새로운 이정표를 세웠다. 하지만 대표팀의 실망스러운 경기력으로 기념비적인 순간은 빛을 잃었다···', 'url': 'https://www.khan.co.kr/article/202510102150001', 'urlToImage': 'https://img.khan.co.kr/news/2025/10/10/rcv.YNA.20251010.PYH2025101012080001300_P1.jpg', 'publishedAt': '2025-10-10T12:50:00Z', 'content': '10 . . 137 A A . \\r\\n(33·LAFC) . .\\r\\n10 8 A 137 (136) 1 . 2010 18 15 .\\r\\n . .\\r\\n . 0-5 2026 .\\r\\n LAFC . 3-4-2-1 . .\\r\\n . , . 63 29 . 18 () . () .\\r\\n (58) 5 (53) . 2 (), ( ) .\\r\\n . ( ) . , ()-() .\\r\\n A 137 . .'}, {'source': {'id': None, 'name': 'Khan.co.kr'}, 'author': '권재현 선임기자 jaynews@kyunghyang.com', 'title': '“이차전지 시장에 볕들 날 언제쯤?”…배터리 업계·전문가 총출동', 'description': 'SNE리서치가 17일 서울 양재동 엘타워에서 개최한 ‘한국 첨단 배터리 콘퍼런스 2025’ 행사에서 신영준 가천대 석좌교수가 ‘한국 이차전지의 현재와 나아갈 길’을 주제로 기조 강연을 하고 있다. 권재현 선임기자\\n\\n2028년은 돼야 미국을 시작으로 글로벌 전기차 시장이 본격적으로 되살아날 수 있다는 전망이 제기됐다. 공급 과잉에 따른 경쟁 심화로 고전 중인···', 'url': 'https://www.khan.co.kr/article/202509171630011', 'urlToImage': 'https://img.khan.co.kr/news/2025/09/17/news-p.v1.20250917.3a79de44c7f04844b7d48a6adceea1f9_P1.jpg', 'publishedAt': '2025-09-17T07:30:01Z', 'content': '? · \\r\\nSNE 17 2025 . \\r\\n2028 . .\\r\\n ( ) . . SNE 17 2025 .\\r\\nSNE 2025 , (LFP) , .\\r\\n 2028~2029 3 .\\r\\n .\\r\\n .\\r\\n CATL NCM(--) LFP .\\r\\nLG .\\r\\nLG .\\r\\nSDI .\\r\\nSDI 2035 80% , (EU) .\\r\\nSK .\\r\\nSK .\\r\\nLG LG .'}, {'source': {'id': None, 'name': 'Khan.co.kr'}, 'author': '곽희양 기자 huiyang@kyunghyang.com', 'title': '가성비·속도 강점 K방산…다음은 ‘선진국 판로’', 'description': '이재명 대통령이 지난 7월8일 서울 용산구 그랜드하얏트서울에서 열린 ‘제1회 방위산업의 날 토론회’에 참석하고 있다. 대통령실사진기자단\\n\\n한국 방위산업의 호황이 이어지고 있다. 지정학적 갈등이 심화되면서 늘어난 각국의 방산 수요를 가성비 높은 한국 기업이 충족시키면서다. 하지만 시장 확대를 위해 선진국 판로를 개척해야 한다는 분석이 나온다.\\n\\n러시아···', 'url': 'https://www.khan.co.kr/article/202509302102005', 'urlToImage': 'https://img.khan.co.kr/news/2025/09/30/l_2025100101000020300094751.jpg', 'publishedAt': '2025-09-30T12:02:00Z', 'content': '78 1 . \\r\\n. . .\\r\\n·, · . · · . . () 32 6 2035 (GDP) 3.5%( 5%) . .\\r\\n 2022 · . 2020 4 2023 19 . . .\\r\\n . · . (EU) 3 EU 2035 3 60% . . , 2019~2023 10(2%), 11(1.6%). (42%)·(11%)·(11%)·(5.8%)·(5.6%) . , . (R… [+40 chars]'}, {'source': {'id': None, 'name': 'Khan.co.kr'}, 'author': '박효재 기자 mann616@kyunghyang.com', 'title': '14일 파라과이전 손흥민 A매치 최다 출전 기념식…차범근이 직접 유니폼 전달', 'description': '한국 남자 축구 선수 A매치 최다 출전을 달성한 손흥민. 대한축구협회 제공\\n\\n대한축구협회가 손흥민(33·LAFC)의 한국 남자 선수 A매치 최다 출전 달성을 기념하는 특별 행사를 개최한다. 행사는 오는 14일 서울월드컵경기장에서 열리는 파라과이와의 친선경기 킥오프 직전 진행된다.\\n\\n손흥민은 지난 10일 브라질전에 선발 출전하며 개인 통산 137번째 A매치를···', 'url': 'https://www.khan.co.kr/article/202510131410001', 'urlToImage': 'https://img.khan.co.kr/news/2025/10/13/news-p.v1.20251013.095b09dfb71a401bae9646d549acde8c_P1.png', 'publishedAt': '2025-10-13T05:10:00Z', 'content': 'A . \\r\\n(33·LAFC) A . 14 .\\r\\n 10 137 A . , ( 136) . 2010 12 15 .\\r\\n Legend Old &amp; New – From Cha, To. Son . . .\\r\\n 137 53 (58) 2 . 3 , 2018 2022 .\\r\\n . , , 8 MD , .\\r\\n . (EPL) 11 SNS 137 A EPL .\\r\\n . .\\r\\n … [+4 chars]'}, {'source': {'id': None, 'name': 'Khan.co.kr'}, 'author': '강현석 기자 kaja@kyunghyang.com', 'title': '“50년 지났지만, 지워지지 않는 그리움”···스웨덴 입양 9명, 광주서 가족 찾기', 'description': '개인 기록 공개하며 13일부터 광주 방문\\n\\n1972년 전남 여수에서 발견돼 스웨덴으로 입양된 키 프로스트 코티의 어릴 적 모습과 현재 모습. 한국 이름은 이기복 이다. 광주시 제공.\\n\\n한국에서 스웨덴으로 입양된 키 프로스트 코티(55)의 한국 이름은 ‘이기복’이다. 그녀는 1972년 3월2일 전남 여수에서 발견됐다. 1970년 5월1일 생인 그는 왼쪽 정강···', 'url': 'https://www.khan.co.kr/article/202510121443001', 'urlToImage': 'https://img.khan.co.kr/news/2025/10/12/news-p.v1.20251012.0e5ad567a10b40919eee617744163ddf_P1.jpg', 'publishedAt': '2025-10-12T05:43:00Z', 'content': '13 \\r\\n1972 . . .\\r\\n(55) . 1972 32 . 1970 51 .\\r\\n (57) . 1968 85 1968 1227 . .\\r\\n1968 . . . .\\r\\n1960 ~1980 . 50 .\\r\\n 12 9 13 17 .\\r\\n ( ) . , 1 .\\r\\n , . , , .\\r\\n1971 . . .\\r\\n(54) . . 1971 310 .\\r\\n . 522 .\\r\\n1981 .… [+254 chars]'}, {'source': {'id': None, 'name': 'Zdnet.co.kr'}, 'author': '남혁우 기자', 'title': '한국 디지털 AI 정부 역량, 필리핀 행정혁신 지원 나선다', 'description': \"[지디넷코리아]한국의 디지털 정부와 인공지능(AI) 기반 행정혁신 경험이 필리핀 공무원들에게 전수된다.행정안전부와 한국국제협력단(KOICA)이 함께 추진하는 이번 연수는 필리핀의 국가 개발계획을 지원하는 맞춤형 프로그램으로 기획됐다.행정안전부 지방자치인재개발원은 필리핀 고위공무원 12명을 대상으로 '필리핀 디지털 전환과 공공행정혁신 역량강화과정'을 온라인으로 운영한다고 15일 밝혔다. 15일부터 23일까지 진행되는 이번 과정은 필리핀 정부의 요청에 따라 공적개…\", 'url': 'https://zdnet.co.kr/view/?no=20250915101713', 'urlToImage': 'https://image.zdnet.co.kr/2019/06/12/jtwer_GOAgMjxqd3rDVE.jpg', 'publishedAt': '2025-09-15T01:17:13Z', 'content': '(AI) .\\r\\n (KOICA) .\\r\\n \\xa0 12 \\' \\' 15 .\\xa0\\r\\n15 23 (ODA) , 2025 2027 3 .\\r\\n 1 ·AI , , (ICT) , (Action Plan) . , · , , .\\r\\n . 2·3 .\\r\\n \" AI \" \" \" .'}, {'source': {'id': None, 'name': 'Zdnet.co.kr'}, 'author': '김윤희 기자', 'title': '한국, 2Q 대미 관세 비용만 4.6조…증가속도 가장 빨라', 'description': '[지디넷코리아]지난 2분기에 미국 정부가 우리나라의 수출품에 부과한 관세가 33억 달러(약 4조6천억원)로 세계 6위 수준이었지만, 증가속도는 가장 빠르다는 조사 결과가 나왔다.대한상공회의소는 22일 올해 2분기 대미 수출 상위 10개국을 대상으로 미 국제무역위원회(ITC) 관세 통계를 분석한 결과를 발표했다. ITC 통계에 따르면 금년 2분기 우리나라의 대미수출 관세액은 총 33억 달러로, 중국 259억3천만 달러, 멕시코 552억2천만 달러, 일본 47억8…', 'url': 'https://zdnet.co.kr/view/?no=20250921102650', 'urlToImage': 'https://image.zdnet.co.kr/2025/09/21/72b435d958ad23dbd88e19b496263414.png', 'publishedAt': '2025-09-21T03:00:06Z', 'content': '2 33 ( 46) 6 , .\\r\\n 22 2 \\xa0 10 (ITC) . ITC 2 33 , 2593 , 5522 , 478 , 357 , 334 6 .\\r\\n 2 4 (141.8 ), (52.1 ), (42 ) .\\xa0\\r\\n 10 (=)\\r\\n1 FTA , 2 10%, , · . , , , 10 .\\r\\n 2 , 19 57.5% . 4 , 5 25% .\\r\\n · , 3 25%,… [+229 chars]'}, {'source': {'id': None, 'name': 'Zdnet.co.kr'}, 'author': '신영빈 기자', 'title': '젠슨 황 아들·딸이 한국 온 이유…엔비디아 로봇·AI 행보 주목', 'description': \"[지디넷코리아]세계 AI 반도체 생태계를 이끌고 있는 엔비디아 젠슨 황 최고경영자(CEO)의 아들과 딸이 한국을 찾아 비즈니스 현장을 챙기는 모습이 포착돼 주목된다. 두 사람은 지난달 27일부터 서울 코엑스에서 열리고 있는 국제로봇학회 '국제로봇학습콘퍼런스(CoRL 2025)'와 '휴머노이드 콘퍼런스 2025'에 참석하기 위해 한국을 찾았다.황 CEO의 딸 매디슨 황은 삼성전자 서울R&D캠퍼스와 수원 생산기술연구소를 방문한 것으로 알려졌다. 매디슨은 2020년…\", 'url': 'https://zdnet.co.kr/view/?no=20250930195426', 'urlToImage': 'https://image.zdnet.co.kr/2025/09/30/eaa413cf72ec6df67ce3892a5a48bcee.jpg', 'publishedAt': '2025-09-30T12:46:51Z', 'content': \"AI (CEO) .\\xa0 27 '(CoRL 2025)' ' 2025' .\\r\\n CEO \\xa0 \\xa0 R&amp;D .\\xa0 2020 .\\r\\n 30 (CoRL 2025) . (=)\\r\\n'CoRL 2025' . 30 .\\r\\n\\xa01 . \\xa02022 \\xa0 () .\\r\\n CEO .\\r\\n , \\xa0.\\xa0\\r\\n (APEC) . CEO APEC CEO (AI) .\\xa0 CEO ' ' , .\"}, {'source': {'id': None, 'name': 'Zdnet.co.kr'}, 'author': '남혁우 기자', 'title': '깃허브 다니엘 조 이사 \"한국, 차세대 디지털 도약 주역\"', 'description': \"[지디넷코리아]깃허브 다니엘 조 이사가 인공지능(AI) 에이전트가 열어갈 차세대 디지털 도약을 이끌 주역으로 한국을 언급했다.그는 한국에 대해 인프라, 국가지원, 그리고 개발자 역량을 모두 갖춘 곳이라며 여기에 AI 에이전트가 더해진다면 잠재력을 현실로 구현할 수 있을 것이라고 비전을 제시했다.1일 서울 삼성동 코엑스에서 열린 AI페스타 부대행사 '퓨처테크 컨퍼런스' 무대에서 다니엘 조 이사는 '생각의 속도로 구축하는 AI: AI 에이전트와 한국의 다음 디지털…\", 'url': 'https://zdnet.co.kr/view/?no=20251001154924', 'urlToImage': 'https://image.zdnet.co.kr/2025/10/01/ceeb9a4b05cdf4991c72a420c20125f0.jpg', 'publishedAt': '2025-10-01T06:51:20Z', 'content': '(AI) .\\r\\n , , AI .\\r\\n1 AI \\' \\' \\' AI: AI \\' .\\r\\n\" 2020 76 240 \" \" \" .\\xa0\\r\\n \" , , \" .\\r\\n AI . .\\r\\n \"AI \" \" \" .\\r\\n AI \\' (GitHub Spark)\\' . , , , , .\\xa0\\r\\n \" \" .\\r\\n AI .\\r\\n\" AI \" , CI/CD , , AI .\\r\\n \" \" .\\r\\n AI .\\xa0\\r\\n , AI … [+22 chars]'}, {'source': {'id': None, 'name': 'Zdnet.co.kr'}, 'author': '조이환 기자', 'title': '\"후드티가 뭐길래\"…\\'빅데이터 공룡\\' 팔란티어, 한국 팬들에 \\'한정판 굿즈\\' 푼다', 'description': \"[지디넷코리아]미국의 '빅데이터 공룡' 팔란티어가 이례적인 팝업 스토어를 앞세워 한국 시장과의 스킨십 강화에 본격 나선다. 기업 간 거래(B2B)를 넘어 일반 대중 및 팬 커뮤니티와 직접 소통해 국내 영향력을 전방위적으로 확대하는 행보다.팔란티어는 오는 10월 14일부터 이틀간 서울 성동구 아차산로에서 팝업 스토어를 연다고 29일 밝혔다. 운영 시간은 양일 모두 오후 12시부터 8시까지로, 현장에서는 총 6종의 한정판 굿즈가 공개된다. 이 중 5종은 처음으로 …\", 'url': 'https://zdnet.co.kr/view/?no=20250929144721', 'urlToImage': 'https://image.zdnet.co.kr/2025/09/06/2754e9578b4d7fd4a457844febb2729c.png', 'publishedAt': '2025-09-29T08:17:55Z', 'content': \"' ' . (B2B) .\\r\\n 10 14 29 . 12 8, 6 . 5 .\\r\\n 2003 (CEO) AI . (CIA) '' .\\r\\n 10 14 . (=X )\\r\\nCEO . ' ' AI .\\r\\n . .\\r\\n . 6 2 . .\\r\\n KT () CEO (=KT)\\r\\n. HD ' '(FOS) AI '' . KT (AX) . , B2B KT .\\r\\n . ' ' .\\r\\n . ' '… [+15 chars]\"}, {'source': {'id': None, 'name': 'Zdnet.co.kr'}, 'author': '김민아 기자', 'title': '\"한국 장맛 통했다\"…샘표, 아누가 2025서 K-소스로 주목', 'description': '[지디넷코리아]샘표가 세계적 식품 박람회 ‘아누가 2025’에서 콩 발효의 깊은 감칠맛으로 글로벌 식품업계 관계자들의 관심을 받았다고 10일 밝혔다.아누가는 시알 파리, 푸덱스 재팬과 함께 세계 3대 식품 박람회로 꼽히는 행사다. 올해는 지난 4~8일(현지시간) 열렸으며 110개국 8천여 개 기업이 참가했다. 한국은 올해 처음 주빈국으로 선정됐다.샘표는 ‘No.1 Korean Sauce & Gochujang Manufacturer’라는 슬로건을 내걸고 ▲요리에…', 'url': 'https://zdnet.co.kr/view/?no=20251010092510', 'urlToImage': 'https://image.zdnet.co.kr/2025/10/10/2ffd57e0a1ded79d83dac560a553571f.jpg', 'publishedAt': '2025-10-10T00:55:25Z', 'content': '2025 10 .\\r\\n , \\xa0 3 . 4~8() 110 8 . .\\r\\n No.1 Korean Sauce &amp; Gochujang Manufacturer K- .\\r\\n 2025 . (=)\\r\\n2025 K- . 100% .\\xa0\\r\\n , , .\\r\\n , 2023 .\\r\\n K- K- () .'}, {'source': {'id': None, 'name': 'Zdnet.co.kr'}, 'author': '김재성 기자', 'title': '현대차그룹, 자율운영 공장 구현에 박차…한국-싱가포르 연구소설립', 'description': \"[지디넷코리아]현대자동차그룹 싱가포르 글로벌 혁신센터(HMGICS)가 소프트웨어 중심 공장(SDF) 구현에 박차를 가한다.현대차그룹 최초 스마트팩토리이자 소프트웨어 중심 공장 테스트베드인 HMGICS는 지난 3일 싱가포르 난양공대에서 '난양공대(NTU)', '싱가포르 과학기술청(A*STAR)'과 HMGICS 내에 '현대차그룹-NTU-A*STAR 기업 연구소'를 개소했다고 12일 밝혔다.이는 지난해 10월 '한국-싱가포르 비즈니스 포럼'서 3자 기업 연구소 설립…\", 'url': 'https://zdnet.co.kr/view/?no=20251012122813', 'urlToImage': 'https://image.zdnet.co.kr/2025/10/12/72ca3f0af8e15478d727afaeb21e67e1.jpg', 'publishedAt': '2025-10-12T03:28:13Z', 'content': \"(HMGICS) (SDF) .\\r\\n HMGICS 3 '(NTU)', ' (A*STAR)' HMGICS '-NTU-A*STAR ' 12 .\\r\\n 10 '- ' 3 1 .\\r\\n HMGICS, - \\r\\nHMGICS , NTU , A*STAR \\xa0 .\\r\\nNTU 1500 'QS 2026: '\\xa0 12 , , .\\r\\nA*STAR (R&amp;D) , .\\r\\n(HMGICS) (NT… [+174 chars]\"}, {'source': {'id': None, 'name': 'Slownews.kr'}, 'author': '박미숙', 'title': '나인 퍼즐: 조각난 기억과 제도의 불신―용산참사 이후 한국 사회의 초상', 'description': \"디즈니+ 오리지널 드라마 ‘나인 퍼즐'(2025)은 표면적으로는 범죄 스릴러처럼 보인다. 살해 사건, 의심받는 인물, 그리고 퍼즐처럼 흩어진 단서들. 그러나 드라마가 전개될수록, 이 작품은 단순히 범인을 찾는 서사에 머무르지 않는다. 기억의 파편화, 제도의 불신, 젠더 서사의 전환, 글로벌 플랫폼이라는 구조를 통해 한국 사회의 근본적인 불안을 드러낸다. 특히 배우 지진희가 연기한 윤동훈 경찰서장의 살해 사건은 작품 전체를 이끌어가는...\\nThe post 나인 …\", 'url': 'https://slownews.kr/146078', 'urlToImage': 'https://slownews.kr/wp-content/uploads/2025/09/i_012.jpg', 'publishedAt': '2025-09-26T04:02:31Z', 'content': \"+ ‘ '(2025) . , , . , . , , , . , .\\r\\n . , . , .\\r\\n . , 10 . ‘ ’ .\\r\\n , . . \\r\\n. . , .\\r\\n . , . ‘ ’ . .\\r\\n (2009) . , , . . ‘ ’ .\\r\\n(2009) . MBC (2023) \\r\\n15… MBC . \\r\\n. \\r\\n. , , .\\r\\n . , . . , .\\r\\n‘ ’ , . .\\r\\n .… [+169 chars]\"}, {'source': {'id': None, 'name': 'Venturesquare.net'}, 'author': '강진희', 'title': '와디즈, 스타트투그룹과 업무협약 체결', 'description': '와디즈는 스타트투그룹(Start2 Group)과 업무협약(MOU)을 체결하고, 글로벌 스타트업의 한국 및 아시아 시장 진출을 지원한다고 17일 밝혔다.\\nThe post 와디즈, 스타트투그룹과 업무협약 체결 appeared first on 벤처스퀘어.', 'url': 'https://www.venturesquare.net/1005158', 'urlToImage': 'https://www.venturesquare.net/wp-content/uploads/2025/09/fsgsdf.jpg', 'publishedAt': '2025-09-17T04:49:24Z', 'content': '( ) (Start2 Group, ) (MOU) , 17 .\\r\\n , .\\r\\n , ·· .\\r\\n , .\\r\\n B2C·D2C , . .\\r\\n 5 . .\\r\\n , . , .\\r\\n , ·· .\\r\\n .\\r\\nWadiz Signs Business Agreement with Start2 Group \\r\\nWadiz (CEO Shin Hye-sung) announced on the 17… [+5331 chars]'}, {'source': {'id': None, 'name': 'Zdnet.co.kr'}, 'author': '남혁우 기자', 'title': '데클라, 강민우 아태 총괄 대표 선임…한국 진출 본격화', 'description': '[지디넷코리아]데클라(Decklar)가 한국 시장에 본격 진출하며 아시아태평양(APAC) 지역 총괄 대표로 강민우 대표를 선임했다고 15일 밝혔다. 이번 결정은 한국을 포함한 동북아시아 시장 확대 전략의 일환으로 한국을 글로벌 제조·물류 거점이자 주요 교두보로 삼겠다는 의지를 담고 있다.강민우 신임 대표는 데이터도메인(현 EMC), 퓨어스토리지, 루브릭, 엑사그리드, 그래프코어 한국 지사장을 거쳐 지코어 아시아 대표를 역임하는 등 30년 이상 영업 및 조직 관…', 'url': 'https://zdnet.co.kr/view/?no=20250915162731', 'urlToImage': 'https://image.zdnet.co.kr/2025/09/15/7e15838bc2390805091c3d5bd07d2926.jpg', 'publishedAt': '2025-09-15T07:27:31Z', 'content': '(Decklar) (APAC) 15 .\\xa0\\r\\n · .\\r\\n ( EMC), , , , 30 .\\xa0\\r\\n (=)\\r\\n.\\r\\n 10 IoT AI (End-to-End) .\\xa0\\r\\n , ·· . .\\r\\n \" · , \" \" AI IoT , , , , \" .\\xa0\\r\\n \" \\xa0 \" .'}, {'source': {'id': None, 'name': 'Zdnet.co.kr'}, 'author': '남혁우 기자', 'title': '한국, 사이버보안 지식 세계 11위…AI 위험 인식 낮아', 'description': '[지디넷코리아]한국인의 사이버보안 지식 수준이 세계 11위 수준으로 특히 인공지능(AI) 관련 보안 위험 인식이 낮다는 조사 결과가 나왔다.AI 확산 속에 보안 위협이 갈수록 복잡해지고 있음에도 불구하고 한국인 상당수는 기본적인 보안 수칙에만 익숙할 뿐 정교한 위협에는 취약하다는 분석이다.노드VPN은 최근 발표한 국가별 개인정보보호 인식 테스트(NPT) 조사에서 한국인의 사이버보안 지식 수준이 100점 만점에 50점으로 집계돼, 지난해와 동일하게 186개국 중…', 'url': 'https://zdnet.co.kr/view/?no=20250916102638', 'urlToImage': 'https://image.zdnet.co.kr/2025/09/16/5293352c5345cfd49dec346dfc4ab22e.png', 'publishedAt': '2025-09-16T01:26:38Z', 'content': '11 (AI) .\\r\\nAI .\\r\\nVPN (NPT) 100 50 , 186 11 16 .\\r\\n (=VPN)\\r\\n3792 22 . (94%) (87%) AI (8%), (6%), (9%), (19%) .\\r\\n , AI .\\r\\n , 52% , 6% 10% . . AI 49% 55% , 12% 13% .\\xa0\\r\\n 12% 9% , 82% 78% . URL(36%) (19%) … [+45 chars]'}, {'source': {'id': None, 'name': 'Zdnet.co.kr'}, 'author': '정진성 기자', 'title': '앱차지 홍진우 \"한국 D2C 잠재력 커…수익화 파트너로 적극 지원\"', 'description': \"[지디넷코리아]앱 마켓 의존도를 줄이고 게임사가 직접 소비자와 연결되는 D2C 솔루션으로 한국 게임 시장 공략에 나선 기업이 있다. 이스라엘 소재 기업 앱차지는 한국을 세계 4대 게임 시장이자 인당 게임 소비액 세계 1위 시장으로 평가하며, 올해 초 한국 지사를 설립하고 본격적인 사업 확장에 나섰다. 특히 단순한 결제 솔루션을 넘어 '수익화 파트너' 역할을 자처하며 게임사의 매출 극대화를 지원한다는 전략을 제시했다.17일 홍진우 앱차지 한국 지사장은 지디넷코리…\", 'url': 'https://zdnet.co.kr/view/?no=20250917101724', 'urlToImage': 'https://image.zdnet.co.kr/2025/09/17/7688f5fb1445d7dac8df477b215342a2.jpg', 'publishedAt': '2025-09-17T01:17:24Z', 'content': 'D2C . 4 1 , . \\' \\' .\\r\\n17 D2C .\\r\\n 2022 D2C , 110 . · .\\r\\n .\\r\\n\" \" \" \" .\\r\\n . 2019 2022 4 , M&amp;A, . 2 .\\r\\nD2C . \"4~5 , \" .\\r\\n . \" 4 , \" .\\r\\n . 8900 ( 1228) . A A , B , , , IVP .\\r\\n.\\r\\n. \"4 D2C \" \" \" .\\r\\n MOR(… [+272 chars]'}, {'source': {'id': None, 'name': 'Zdnet.co.kr'}, 'author': '남혁우 기자', 'title': '씬스데이터랩스, 한국 거점으로 AI·ML 분석 플랫폼 아시아 본격 공략', 'description': '[지디넷코리아]씬스데이터랩스(Synx Data Labs)가 한국을 전략 거점으로 삼고 아시아·태평양 시장 공략에 속도를 낸다. 오픈소스와 엔터프라이즈 기능을 결합한 차세대 분석 플랫폼을 앞세워 기업들의 인공지능(AI), 기계학습(ML) 혁신 수요를 선점한다는 계획이다.씬스데이터랩스는 18일 성남 분당구 유스페이스1에서 기자간담회를 열고 한국 시장에 공식 진출한다고 밝혔다. 이번 행사에는 투샤르 페드네카 공동 창립자 겸 글로벌 고객 성공 및 커뮤니티 총괄과 박춘…', 'url': 'https://zdnet.co.kr/view/?no=20250918121241', 'urlToImage': 'https://image.zdnet.co.kr/2025/09/18/2e864b2a79e18b2e9c75f3acf9fc484c.jpg', 'publishedAt': '2025-09-18T03:14:11Z', 'content': '(Synx Data Labs) · .\\xa0\\r\\n (AI), (ML) .\\r\\n 18 1 .\\xa0\\r\\n (= )\\r\\n.\\r\\n AI·ML · .\\xa0\\r\\n . . .\\r\\n AI . .\\r\\n (SI) \\'\\' . ·AI .\\r\\n \" , \" \" \" .\\r\\n SQL (MPP) . AI ML .\\r\\n SQL \\'DB\\' , AI·ML . \\'ML\\' (RAG) . .\\r\\n (= )\\r\\n. , , AI·ML .\\r… [+36 chars]'}, {'source': {'id': None, 'name': 'Zdnet.co.kr'}, 'author': '정진성 기자', 'title': \"한국 AI 생태계 '한 눈에'…정부·민간 실력자 모인다\", 'description': \"[지디넷코리아]대한민국 인공지능(AI) 생태계를 대표하는 기업과 기관들이 한 자리에 모여 'AI 3대 강국(G3)' 도약을 향한 비전을 공유한다.과학기술정보통신부는 오는 30일부터 다음 달 2일까지 사흘간 서울 강남 코엑스에서 'AI 주간 공식 페스티벌, AI 페스타 2025'를 개최한다. 이번 행사는 국내외 178개 기업이 참여해 480개 부스 규모로 열리며, 글로벌 빅테크부터 국내 대표 기업, AI 스타트업까지 대거 참여한다.(☞ AI페스타 바로 가기)올해…\", 'url': 'https://zdnet.co.kr/view/?no=20250918082046', 'urlToImage': 'https://image.zdnet.co.kr/2025/09/14/ebe914e076ac6442f9f291063cfc09ca.png', 'publishedAt': '2025-09-19T08:01:31Z', 'content': \"(AI) 'AI 3 (G3)' .\\r\\n 30 2 'AI , AI 2025' . 178 480 , , AI .( AI )\\r\\n . , . , AI .\\r\\nAI (=)\\r\\n(TTA) (KISA) (NIA) (ETRI) (NIPA) (KIST) .\\xa0\\r\\n(TTA) KOREN LED . KOREN 2.8Tbps , · . TTA , .\\xa0\\r\\n UNIVA AI . , , ,… [+321 chars]\"}, {'source': {'id': None, 'name': 'Zdnet.co.kr'}, 'author': '김민아 기자', 'title': '이베이, 한국 셀러 밋업 성료…\"美 역직구 배송 DDP 의무화\"', 'description': '[지디넷코리아]글로벌 커머스 플랫폼 이베이는 지난 26일 서울 용산 나인트리 프리미어 로카우스 호텔에서 ‘2025 한국 셀러 밋업’을 진행했다고 29일 밝혔다.이날 이베이는 다음 달 17일부터 미국행 모든 배송을 ‘관세 선납 방식(Delivered Duty Paid, DDP)’으로 의무화한다고 발표했다. DDP는 판매자가 관세와 세금 등을 포함해 배송하는 방식으로, 구매자는 예상치 못한 통관 비용에 대한 부담 없이 상품을 받을 수 있다.리스팅 시 관세 포함 가…', 'url': 'https://zdnet.co.kr/view/?no=20250929132416', 'urlToImage': 'https://image.zdnet.co.kr/2025/09/29/0b2b8c41ba8f68a97d7f110e04b94468.jpg', 'publishedAt': '2025-09-29T04:35:58Z', 'content': '26 2025 29 .\\r\\n 17 (Delivered Duty Paid, DDP) . DDP , .\\r\\n , , , .\\r\\n, 2025 . (=)\\r\\nCBT CBT 10 , 1 · , K .\\r\\n (KOTRA) .\\r\\n 2-4 .\\r\\n AI , , (eBaymag) .\\r\\n (CS) , , SNS , . , eGS DDP , , .\\r\\n CBT , , .'}, {'source': {'id': None, 'name': 'Zdnet.co.kr'}, 'author': '김한준 기자', 'title': '위블록, 토큰2049에서 ‘한국 아파트 기반 RWA’ 모델 제시', 'description': '[지디넷코리아]핀테크 기업 위블록은 싱가포르에서 개최된 글로벌 블록체인 컨퍼런스 토큰2049에 참가해 한국형 실물자산 토큰화(RWA)의 새로운 비전을 제시했다고 10일 밝혔다.이번 행사에는 이더리움 공동 창시자인 비탈릭 부테린, 아발란체 창립자인 에민 귄 시러 등 블록체인 업계 주요 인사들이 대거 참석했다. 위블록은 한국 주거 자산의 안정성과 유동성을 강조하며, 미국 국채가 금융공학적 무위험 수익률의 기준이라면 실거주 수요를 기반으로 한 한국 아파트는 실질적 …', 'url': 'https://zdnet.co.kr/view/?no=20251010143540', 'urlToImage': 'https://image.zdnet.co.kr/2025/10/10/d308c41e8ce20f9efa464330e6fc7d03.jpg', 'publishedAt': '2025-10-10T05:35:40Z', 'content': ''}, {'source': {'id': None, 'name': 'Zdnet.co.kr'}, 'author': '진성우 기자', 'title': '에릭슨 \"한국 5G SA 전환 골든타임…6G 주도권 기반 마련해야\"', 'description': '[지디넷코리아]“한국 시장뿐 아니라 전 세계적으로 큰 변화의 물결이 일고 있다. 혁신을 바라보는 새로운 관점이 필요하며, 에릭슨은 이러한 대전환에 대응할 장비와 솔루션을 갖추고 있다. 한국이 앞으로도 5G는 물론 6G에서도 선도적 역량을 이어가길 바란다.”시벨 톰바즈 에릭슨코리아 CEO가 22일 서울 이태원에서 열린 기자간담회에서 한국의 5G 단독모드(SA) 도입을 “국가 ICT 산업의 결정적 전환점”으로 평가하며 이같이 밝혔다.에릭슨은 이번 전환이 한국 IC…', 'url': 'https://zdnet.co.kr/view/?no=20250922140620', 'urlToImage': 'https://image.zdnet.co.kr/2025/09/22/f01c3ca4c948369e4aff740cfefa9f51.jpg', 'publishedAt': '2025-09-22T05:55:21Z', 'content': '. , . 5G 6G .\\r\\n CEO 22 5G (SA) ICT .\\r\\n CEO\\r\\nICT ,\\xa0AI·XR· SA .\\r\\n 5G SA ··AR·VR .\\r\\n AI·API·AR .\\r\\n , SA 6G .\\r\\n.\\r\\n SA (CAPEX) (NSA) AI , 2026 SA 2030 6G 5G SA 5G .\\r\\n AI 5G 30~50% AIR 3285 AI G4 4 (ZTA) .… [+129 chars]'}, {'source': {'id': None, 'name': 'Zdnet.co.kr'}, 'author': '김재성 기자', 'title': \"한국車기자협회가 뽑은 10월의 차는 '기아 EV5'\", 'description': '[지디넷코리아]한국자동차기자협회(KAJA)는 2025년 10월의 차에 기아의 더 기아 EV5를 선정했다고 2일 밝혔다.한국자동차기자협회 산하 올해의 차 선정위원회는 매월 출시된 신차 및 부분변경 모델을 대상으로 이달의 차를 발표한다. 평가 항목은 ▲내/외부 디자인 및 감성 품질 ▲안전성 및 편의 사양 ▲동력 성능 ▲에너지 효율성 및 온실가스 배출 ▲상품성 및 구매 의향도 등 다섯 가지 부문으로 구성된다.지난달 선보인 신차 중 BYD 씨라이언 7, 기아 더 기아…', 'url': 'https://zdnet.co.kr/view/?no=20251002101650', 'urlToImage': 'https://image.zdnet.co.kr/2025/10/02/ae90db49c54731598cc77527de0d772f.jpg', 'publishedAt': '2025-10-02T01:16:50Z', 'content': '(KAJA) 2025 10 EV5 2 .\\r\\n . / .\\r\\n BYD 7, EV5, - -AMG CLE 53 4MATIC+ , EX30 , RS 3 10 , EV5 50 37 10 .\\r\\n EV5\\r\\nEV5 8.3 , / 7.7 , 7 .\\r\\n \" E-GMP EV5 (SUV)\" \" \" .\\r\\n 2019 , , E-Tech . , 1 .\\r\\n, , , , , 59 , … [+26 chars]'}, {'source': {'id': None, 'name': 'Khan.co.kr'}, 'author': '고귀한 기자 go@kyunghyang.com', 'title': '노벨 경제학상 제임스 로빈슨 “계엄 선포, 한국 민주주의 후퇴…국민이 희망”', 'description': '노벨경제학상 수상자인 제임스 로빈슨 미국 시카고대 교수. 김대중평화회의 제공\\n\\n김대중평화회의에 영상 메시지 \\n민주화, 물결과 반물결 반복 강조 \\n\\n“DJ, 국민 참여 보장 애쓴 지도자 \\n중·러·북, 권력의 부패로 한계”\\n\\n“많은 사람이 한국 민주주의에 대해 불안해하고 있습니다. 계엄 선포 시도는 ‘민주주의 후퇴’를 보여주는 한 사례로 꼽힙···', 'url': 'https://www.khan.co.kr/article/202509242101015', 'urlToImage': 'https://img.khan.co.kr/news/2025/09/24/l_2025092501000776100077521.jpg', 'publishedAt': '2025-09-24T12:01:01Z', 'content': '. \\r\\n, \\r\\nDJ, ··, \\r\\n . .\\r\\n 24 2025 : . 45 .\\r\\n , , . . .\\r\\n · . &lt; &gt; . 2024 .\\r\\n . 19 , 1930 , 2 . 1990 , .\\r\\n , . .\\r\\n , . .\\r\\n .\\r\\n ·· . 2021 2023 . 26 .'}, {'source': {'id': None, 'name': 'Venturesquare.net'}, 'author': '강진희', 'title': '잇더컴퍼니, ‘컴업 in 제주’ 최우수 스타트업 선정', 'description': '㈜잇더컴퍼니가 지난 9월 10~11일 제주 드림타워 복합리조트에서 열린 ‘컴업 in 제주(COMEUP in Jeju)’에서 최우수 스타트업으로 선정됐다고 15일 밝혔다.\\nThe post 잇더컴퍼니, ‘컴업 in 제주’ 최우수 스타트업 선정 appeared first on 벤처스퀘어.', 'url': 'https://www.venturesquare.net/1004706', 'urlToImage': 'https://www.venturesquare.net/wp-content/uploads/2025/09/fdfsgf.jpg', 'publishedAt': '2025-09-15T05:06:18Z', 'content': 'K-콘텐츠푸드 기업 ㈜잇더컴퍼니(공동대표 김봉근·이유경)가 지난 9월 10~11일 제주 드림타워 복합리조트에서 열린 ‘컴업 in 제주(COMEUP in Jeju)’에서 최우수 스타트업으로 선정됐다고 15일 밝혔다.\\n이번 행사는 제주특별자치도, 제주관광공사, 코리아스타트업포럼이 공동 주최·주관해, 관광·식품·콘텐츠 분야의 혁신기업들이 제주 관광산업의 미래 … [+1109 chars]'}, {'source': {'id': None, 'name': 'Venturesquare.net'}, 'author': '강진희', 'title': '머니스테이션, 美 뷰트레이드 증권과 글로벌 AI 금융사업 협력', 'description': '㈜머니스테이션(MoneyStation)이 글로벌 투자 및 금융기술 솔루션 제공 미국 기업 뷰트레이드 증권(ViewTrade Securities)과 전략적 파트너십을 통해 글로벌 비즈니스 협력에 나선다고 19일 밝혔다.\\nThe post 머니스테이션, 美 뷰트레이드 증권과 글로벌 AI 금융사업 협력 appeared first on 벤처스퀘어.', 'url': 'https://www.venturesquare.net/1005646', 'urlToImage': 'https://www.venturesquare.net/wp-content/uploads/2025/09/dfgh.jpg', 'publishedAt': '2025-09-19T06:15:09Z', 'content': '핀테크 기업 ㈜머니스테이션(MoneyStation, 대표 이정일)이 글로벌 투자 및 금융기술 솔루션 제공 미국 기업 뷰트레이드 증권(ViewTrade Securities)과 전략적 파트너십을 통해 글로벌 비즈니스 협력에 나선다고 19일 밝혔다.\\n이번 협약을 통해 머니스테이션은 AI 투자 솔루션 ‘시그널엔진’과 ViewTrade의 기술 인프라를 통합하여 V… [+1103 chars]'}, {'source': {'id': None, 'name': 'Venturesquare.net'}, 'author': '강진희', 'title': '엑티브온, ‘코리아 인베스트먼트 위크 2025’서 지속가능 화장품 소재 개발 전략 발표', 'description': '엑티브온이 투자 콘퍼런스인 ‘코리아 인베스트먼트 위크 2025(Korea Investment Week 2025, 이하 KIW 2025)’에서 지속가능한 화장품 소재 개발 및 글로벌 시장에서의 성장 전략을 발표했다고 밝혔다.\\nThe post 엑티브온, ‘코리아 인베스트먼트 위크 2025’서 지속가능 화장품 소재 개발 전략 발표 appeared first on 벤처스퀘어.', 'url': 'https://www.venturesquare.net/1005513', 'urlToImage': 'https://www.venturesquare.net/wp-content/uploads/2025/09/rgdfv-2.jpg', 'publishedAt': '2025-09-19T03:15:14Z', 'content': '클린뷰티 소재기업 엑티브온(대표이사 조윤기)이 투자 콘퍼런스인 ‘코리아 인베스트먼트 위크 2025(Korea Investment Week 2025, 이하 KIW 2025)’에서 지속가능한 화장품 소재 개발 및 글로벌 시장에서의 성장 전략을 발표했다고 밝혔다.\\n엑티브온은 바이오 및 그린기술을 통해 친환경&친인류의 가치를 실현할 수 있는 지속 가능한 화장품 … [+1081 chars]'}, {'source': {'id': None, 'name': 'Venturesquare.net'}, 'author': '강진희', 'title': '그렙, ‘2025 DTI’ 포럼 개최', 'description': '그렙이 오는 10월 23일(목) 오후 2시, 서울 역삼동 삼정호텔 아도니스홀에서 ‘AI가 바꾸는 시험·평가의 미래’를 주제로 ‘2025 DTI(Digital Test Innovation, 이하 DTI) 포럼을 개최한다.\\nThe post 그렙, ‘2025 DTI’ 포럼 개최 appeared first on 벤처스퀘어.', 'url': 'https://www.venturesquare.net/1006281', 'urlToImage': 'https://www.venturesquare.net/wp-content/uploads/2025/09/htht.jpg', 'publishedAt': '2025-09-24T03:12:44Z', 'content': 'AI 기반 온라인 평가 플랫폼 기업 그렙(대표 임성수)이 오는 10월 23일(목) 오후 2시, 서울 역삼동 삼정호텔 아도니스홀에서 ‘AI가 바꾸는 시험·평가의 미래’를 주제로 ‘2025 DTI(Digital Test Innovation, 이하 DTI) 포럼을 개최한다.\\n이번 포럼은 채용·승진·교육·자격검정 등 HR 전 영역에서 AI 도입 사례와 실행 방안… [+949 chars]'}, {'source': {'id': None, 'name': 'Venturesquare.net'}, 'author': '강진희', 'title': '땡스카본, ‘2025 온실가스 국제감축 투자 포럼’서 프로젝트 성과 발표', 'description': '땡스카본은 18일 대한상공회의소에서 열린 ‘2025 온실가스국제감축 투자 포럼’에서 온실가스 국제감축사업 프로젝트 현황과 성과를 발표했다고 22일 밝혔다.\\nThe post 땡스카본, ‘2025 온실가스 국제감축 투자 포럼’서 프로젝트 성과 발표 appeared first on 벤처스퀘어.', 'url': 'https://www.venturesquare.net/1005805', 'urlToImage': 'https://www.venturesquare.net/wp-content/uploads/2025/09/dsfdghggh-789x498.jpg', 'publishedAt': '2025-09-22T04:59:23Z', 'content': 'AI 기후테크 기업 땡스카본(대표 김해원)은 18일 대한상공회의소에서 열린 ‘2025 온실가스국제감축 투자 포럼’에서 온실가스 국제감축사업 프로젝트 현황과 성과를 발표했다고 22일 밝혔다.\\n이번 포럼은 (사)온실가스국제감축산업협회, 한국표준협회, 대한상공회의소가 공동 주최했으며, 프로젝트 개발사와 투자·구매기업, 유관기관 관계자들이 참석했다. 행사에서는 … [+1186 chars]'}, {'source': {'id': None, 'name': 'Venturesquare.net'}, 'author': '강진희', 'title': '토즈, 美 생성형AI 파트너 밴티크 서밋 참가', 'description': '빅뱅엔젤스가 발굴한 마리타임 테크(Maritime-Tech) 스타트업 토즈가 지난 10월 1일(현지시간) 미국 워싱턴 D.C.에서 열린 ‘밴티크 AI 서밋 2025(Vantiq AI Summit 2025)’에 핵심 기술 파트너로 참여했다.\\nThe post 토즈, 美 생성형AI 파트너 밴티크 서밋 참가 appeared first on 벤처스퀘어.', 'url': 'https://www.venturesquare.net/1008062', 'urlToImage': 'https://www.venturesquare.net/wp-content/uploads/2025/10/ttgfghj.jpg', 'publishedAt': '2025-10-10T03:12:25Z', 'content': '크로스보더 액셀러레이터 빅뱅엔젤스가 발굴한 마리타임 테크(Maritime-Tech) 스타트업 토즈(대표 서광훈)가 지난 10월 1일(현지시간) 미국 워싱턴 D.C.에서 열린 ‘밴티크 AI 서밋 2025(Vantiq AI Summit 2025)’에 핵심 기술 파트너로 참여했다.\\n밴티크 AI 서밋은 실리콘밸리 기반 실시간 이벤트 기반 AI 플랫폼 기업 밴티크… [+1037 chars]'}, {'source': {'id': None, 'name': 'Ohmynews.com'}, 'author': '김종성', 'title': '한국 불교와 한용운이 오늘날까지 함께 연상되는 이유', 'description': \"'님의 침묵'을 남긴 만해 한용운(1879~1944)은 '한국 불교'와 함께 연상되는 상징적 존재 중 하나다. 그가 이렇게 연상되는 것은 한국 불교가 그의 정신으로부터 멀어지지 않게 해주는 기능도 한다.\\n\\n승려이자 시인이자 독립운동가인 한용운이 한국 사회에 큰 영향을 끼치는 것은 그의 업적과 작품과 역량이 출중하기 때문이기도 하지만, 해방 이후에 그가 기억될 수 있도록 노력을 기울인 승려들이 있었기 때문이기도 하다.\\n\\n해방 직후에 이 승려들은 한용운의 적들을 …\", 'url': 'https://www.ohmynews.com/NWS_Web/Series/series_premium_pg.aspx?CNTN_CD=A0003169023', 'urlToImage': 'https://ojsfile.ohmynews.com/CRI_T_IMG/2025/0926/A0003169023_T.jpg', 'publishedAt': '2025-09-27T10:21:03Z', 'content': '\\' \\' (1879~1944) \\' \\' . ., .\\r\\n. &lt; II: ··&gt; \\'\\' \"·· 40 ( ) \" .. &lt;&gt; 4-14 \"·· \" .\\r\\n. \" \" . . \" \" .\\r\\n&lt;&gt; \" \" , 1945 10 \" () 31() \" . .\\r\\n46 (, 1899~1964) . &lt;&gt; \" 1942 · 1945 1 18 \" . .\\r\\n… [+470 chars]'}, {'source': {'id': None, 'name': 'Ohmynews.com'}, 'author': '임미리', 'title': '변방의 해고노동자는 어떻게 한국 사회를 흔들었나', 'description': '2015년 겨울, 서울 종로구 조계사 앞마당과 인근 도로에는 연일 수백에서 수천 명이 모였다. 한상균 민주노총 위원장을 지키기 위해서였다. 11월 14일 백남기 농민이 물대포에 맞아 쓰러진 제1차 민중총궐기 직후 수배 중이던 그는 조계사로 피신했다. 12월 10일 체포될 때까지 조계사는 한국 정치·사회 쟁점의 중심이 됐다.\\n\\n이전에도 사회운동 세력의 조계사 피신 사례가 없지는 않았으나 전국적 관심 속에 시민들의 최대 집결지가 된 것은 2015년이 처음이었다. …', 'url': 'https://www.ohmynews.com/NWS_Web/View/at_pg.aspx?CNTN_CD=A0003168212', 'urlToImage': 'https://ojsfile.ohmynews.com/CRI_T_IMG/2025/0924/A0003168212_T.jpg', 'publishedAt': '2025-09-26T05:35:32Z', 'content': '2015 , . . 11 14 1 . 12 10 · .2015 . \\' \\' .\\r\\n\" , 63 \"\\r\\n2014 12 26 . ·· , . 63 \\' \\' . .2009 ( ). 36% 2,646 5 21 . , · .\\r\\n, , 77 . \\'() \\' .\\r\\n , \" \" \\r\\n5 2008 12 . . 1987 . \\'\\' \\'\\' .\\r\\n. \\'\\'( ) . \", , \" . .\\r\\n, … [+400 chars]'}, {'source': {'id': None, 'name': 'Khan.co.kr'}, 'author': '김윤나영 기자 nayoung@kyunghyang.com', 'title': '[속보]IMF, 올 한국 성장률 전망치 0.8→0.9%로 상향···“추경 편성 등 효과”', 'description': '“완화된 재정·통화 정책으로 내수 점진적 회복”\\n\\n지난달 26일 서울 마포구 망원시장 매장에 소비쿠폰 안내문이 붙어 있다. 연합뉴스\\n\\n국제통화기금(IMF)이 올해 한국 경제성장률 전망치를 0.8%에서 0.9%로 올렸다. 올해 두 차례 추가경정예산(추경) 편성 등 완화된 재정·통화 정책이 성장률 반등에 이바지했다고 봤다.\\n\\nIMF는 24일 ‘2025년 IMF···', 'url': 'https://www.khan.co.kr/article/202509241000001', 'urlToImage': 'https://img.khan.co.kr/news/2025/09/24/news-p.v1.20250904.d1e443c7a559404aac4e423bdf845395_P1.jpg', 'publishedAt': '2025-09-24T01:00:00Z', 'content': '· \\r\\n26 . \\r\\n(IMF) 0.8% 0.9% . () · .\\r\\nIMF 24 2025 IMF- 0.9% . 7 0.1% .\\r\\n IMF (OECD·1.0%) , ( 0.9%) , (KDI·0.8%) . IMF 4 1.0%, 7 0.8%, 9 0.9% .\\r\\nIMF 2025 · , 0.9% .\\r\\nIMF 2026 .\\r\\n .\\r\\nIMF 1.8% . OECD (2.… [+15 chars]'}, {'source': {'id': None, 'name': 'Khan.co.kr'}, 'author': '반기웅 기자 ban@kyunghyang.com', 'title': '‘불편한 진실’ 앨 고어, 이재명 대통령 향해 “한국, 석탄 퇴출 앞당겨야”', 'description': 'COP30 앞두고 서한···홈페이지에 공개\\n온실가스 감축 목표도 ‘60% 이상’ 요청\\n“탈석탄 로드맵 발표 땐 위상 높아질 것”\\n\\n앨 고어 전 미국 부통령. 앨 고어 홈페이지(www.algore.com)\\n\\n앨 고어 전 미국 부통령이 제30차 유엔기후변화협약 당사국총회(COP30)을 앞두고 이재명 대통령에게 석탄 퇴출 시기를 앞당길 것을 촉구하는 편지를 보냈···', 'url': 'https://www.khan.co.kr/article/202509241016001', 'urlToImage': 'https://img.khan.co.kr/news/2025/09/24/news-p.v1.20250924.42137cffb60a48f3870946012091c477_P1.png', 'publishedAt': '2025-09-24T01:16:00Z', 'content': '. (www.algore.com)\\r\\n30 (COP30) .\\r\\n 19() 24 . , . 2007 .\\r\\n .\\r\\n 2028 (COP33) (CEM), APEC 2030 35GW 78GW .\\r\\n 2030 .\\r\\n(www.algore.com) \\r\\n2030 , , , .\\r\\n . .\\r\\n2035 (NDC) 60% .\\r\\n 2035 60% 2035 NDC .'}, {'source': {'id': None, 'name': 'Khan.co.kr'}, 'author': '강한들 기자 handle@kyunghyang.com', 'title': '난민심사 기회도 없이, 5개월간 같은 햄버거만 준 한국···“자유·인권의 나라로 알았는데”', 'description': '기니 출신 난민신청자 A씨가 부산 김해공항 출입국·외국인사무소에서 지난 5개월간 매끼니 같은 햄버거를 식사로 받은 사진. A씨 제공\\n\\n기니 출신 난민신청자 A씨(31)는 자국의 정치탄압을 피해 지난 4월27일 한국에 왔다. 그는 “12·3 비상계엄 사태를 민주주의의 힘으로 이겨내고 ‘시민의 주권’을 실현할 수 있는 자유와 인권의 나라”라고 생각해 한국행을 ···', 'url': 'https://www.khan.co.kr/article/202509241745001', 'urlToImage': 'https://img.khan.co.kr/news/2025/09/24/news-b.v1.20250924.0e016fa43f2c4eaeaa8a2918dab30faa_P1.png', 'publishedAt': '2025-09-24T08:45:00Z', 'content': 'A · 5 . A \\r\\nA(31) 427 . 12·3 . . 5 24 A .\\r\\nA 5 . . A 5 . A .\\r\\nA 512 · . . A 7 .\\r\\nA(31) · 5 . A \\r\\nA . 2010 2021 . 3 , 2022 5 . A 2022 5 · . 2020 . A .\\r\\n A 5 . . 20 . 5 . ·· . . A .\\r\\n . A 30 , . A 5 , … [+24 chars]'}, {'source': {'id': None, 'name': 'Khan.co.kr'}, 'author': '뉴욕 | 정환보 기자 botox@kyunghyang.com', 'title': '관세협상 교착상태서 만난 이 대통령과 미 재무장관···“한국, 일본과는 달라” “조선 협력 한국에 감사”', 'description': '이재명 대통령이 24일(현지시간) 미국 뉴욕 주유엔대한민국대표부에서 스콧 베센트 미국 재무장관을 접견하고 있다. 연합뉴스\\n\\n유엔총회 참석차 미국 뉴욕을 방문 중인 이재명 대통령이 24일(현지시간) 스콧 베선트 미 재무장관을 접견하고 한·미 관세협상에 대해 “한국은 경제 규모나 외환시장 인프라 등에서 일본과 다르다”며 “상업적 합리성을 바탕으로 논의되길 기대···', 'url': 'https://www.khan.co.kr/article/202509251511001', 'urlToImage': 'https://img.khan.co.kr/news/2025/09/25/news-p.v1.20250925.aba3a7e9d933460fa0108cde4ef40127_P1.jpeg', 'publishedAt': '2025-09-25T06:11:00Z', 'content': '···, \\r\\n24() . \\r\\n24() · . . .\\r\\n · , .\\r\\n · 3500 . .\\r\\n . .\\r\\n , . · , .\\r\\n · . .\\r\\n · .\\r\\n . 25 · . . 30 .'}]}\n"
     ]
    }
   ],
   "source": [
    "news_data = response.json()\n",
    "print(news_data)\n"
   ]
  },
  {
   "cell_type": "code",
   "execution_count": 28,
   "id": "4d5d5268",
   "metadata": {},
   "outputs": [
    {
     "name": "stdout",
     "output_type": "stream",
     "text": [
      "[{'title': 'SBVA 이준표 대표, 오픈AI 샘 올트먼 CEO와 ‘한국 AI 생태계 협력’ 논의', 'source': 'Venturesquare.net', 'date': '2025-10-02T01:27:25Z'}, {'title': '스텔업, 유어케이스와 업무협약 체결', 'source': 'Venturesquare.net', 'date': '2025-10-13T03:46:38Z'}, {'title': '딥서치, 트위그팜과 업무협약 체결', 'source': 'Venturesquare.net', 'date': '2025-09-23T02:20:12Z'}, {'title': '트립비토즈 정지하 대표, ‘WiT Singapore 2025’ 패널 참가', 'source': 'Venturesquare.net', 'date': '2025-10-10T03:11:37Z'}, {'title': '남도마켓, UK Charm Enterprises와 MOU 체결.. “K-도매 글로벌 진출”', 'source': 'Venturesquare.net', 'date': '2025-09-22T02:08:39Z'}, {'title': '벤처스퀘어, 뉴욕서 스타트업 글로벌 협력 쇼케이스 개최', 'source': 'Venturesquare.net', 'date': '2025-10-10T13:18:55Z'}, {'title': '트럼프 “한국 대미투자 3500억달러는 선불”', 'source': 'Khan.co.kr', 'date': '2025-09-25T22:18:00Z'}, {'title': '“한국, 고관세 동병상련 인도와 협력해야”', 'source': 'Khan.co.kr', 'date': '2025-09-22T11:42:04Z'}, {'title': '한국 사람이라면…1인당 79개 ‘후루룩’', 'source': 'Khan.co.kr', 'date': '2025-10-09T11:29:00Z'}, {'title': '차봇모빌리티, 이큐비알홀딩스와 업무협약 체결', 'source': 'Venturesquare.net', 'date': '2025-09-17T03:10:40Z'}, {'title': '디캠프, ‘스타트업 OI 도쿄 #엔터테인먼트’ 개최', 'source': 'Venturesquare.net', 'date': '2025-10-01T06:51:41Z'}, {'title': '노벨경제학상 로빈슨 “한국 민주주의 위기···국민이 희망”', 'source': 'Khan.co.kr', 'date': '2025-09-24T06:41:01Z'}, {'title': '한국, 미국에 무제한 통화 스와프 요청', 'source': 'Khan.co.kr', 'date': '2025-09-14T11:00:00Z'}, {'title': '‘분자요리’ 창안한 스타 셰프 한국 온다', 'source': 'Khan.co.kr', 'date': '2025-09-23T12:06:02Z'}, {'title': '한국, 항생제 사용량 OECD 국가 중 2위', 'source': 'Khan.co.kr', 'date': '2025-10-13T11:19:01Z'}, {'title': '피치에이아이, G-Fair AI 2025 참가', 'source': 'Venturesquare.net', 'date': '2025-09-25T07:20:45Z'}, {'title': '3500억 달러, 달라는대로 주면 한국 망한다: 슬로우레터 9월22일.', 'source': 'Slownews.kr', 'date': '2025-09-21T22:26:19Z'}, {'title': '포티투마루, ‘한-아랍에미리트 경제협력위원회’ 사절단 참가', 'source': 'Venturesquare.net', 'date': '2025-09-23T05:39:25Z'}, {'title': '리벨리온, 3천 4백억 원 투자.. “기업가치 1조 9천억 원”', 'source': 'Venturesquare.net', 'date': '2025-09-30T05:19:24Z'}, {'title': '서울로보틱스, 日 닛산 그룹 공장 자율주행 프로젝트 수주', 'source': 'Venturesquare.net', 'date': '2025-09-29T05:21:44Z'}, {'title': '이 대통령 미 재무장관 만나 “대미투자 상업적 합리성 중요”', 'source': 'Khan.co.kr', 'date': '2025-09-25T13:10:03Z'}, {'title': '조지아주 인사 “한국 기술자 복귀 내부 논의 중···이들에 의존”', 'source': 'Khan.co.kr', 'date': '2025-09-18T00:00:00Z'}, {'title': '정부·블랙록 MOU 체결…핑크 회장 “한국, 아시아 AI 수도로”', 'source': 'Khan.co.kr', 'date': '2025-09-23T12:32:00Z'}, {'title': '한국 달 궤도선 다누리, 연료 소모 없는 ‘동결 궤도 진입’', 'source': 'Khan.co.kr', 'date': '2025-09-24T03:03:00Z'}, {'title': '[속보] ADB, 올해 한국 성장률 0.8% 전망···7월 전망치 유지', 'source': 'Khan.co.kr', 'date': '2025-09-30T00:00:00Z'}, {'title': '김정은 “미·한 핵동맹 위험천만 각본···한국 영토 안전할 수 있겠나”', 'source': 'Khan.co.kr', 'date': '2025-10-05T01:31:00Z'}, {'title': '효성중공업, 미국에 765kV 초고압 송전망 솔루션 공급…한국 최초', 'source': 'Khan.co.kr', 'date': '2025-09-19T02:39:00Z'}, {'title': '이 대통령, 뉴욕증권거래소서 투자 세일즈···한국 대통령 최초 투자설명회 개최', 'source': 'Khan.co.kr', 'date': '2025-09-25T14:11:00Z'}, {'title': '일본 이어 EU도 15%…미, 한국 차에만 25% 관세', 'source': 'Khan.co.kr', 'date': '2025-09-25T13:10:00Z'}, {'title': '한국 기후위기 평가보고서, 탄소배출 안 줄면…한 해 80일 ‘폭염’', 'source': 'Khan.co.kr', 'date': '2025-09-18T13:21:02Z'}, {'title': '한국 경찰, 인터폴 아시아위원회 초대위원 선출···박재석 총경 선출', 'source': 'Khan.co.kr', 'date': '2025-10-02T01:19:00Z'}, {'title': '일본 새 총리 ‘강경 우파’ 다카이치…한국 ‘투트랙 외교’ 시험대', 'source': 'Khan.co.kr', 'date': '2025-10-09T12:14:00Z'}, {'title': '중국·미국 흔들리자…LVMH, 한국 시장 공략 강화', 'source': 'Zdnet.co.kr', 'date': '2025-09-25T00:51:30Z'}, {'title': '미국 시장서 관세 역전된 한국 자동차…유럽 선전으로 돌파하나', 'source': 'Khan.co.kr', 'date': '2025-09-16T06:59:00Z'}, {'title': '한국 ‘마약 위기국’ 경고···“마약 사범 56%가 청년층”', 'source': 'Khan.co.kr', 'date': '2025-09-18T01:15:00Z'}, {'title': '‘한국 어선에서 선원 8명 구조’ 중국 해경들, 제주 명예도민 됐다', 'source': 'Khan.co.kr', 'date': '2025-09-16T11:26:01Z'}, {'title': '‘칠리크랩 성지’ 점보 씨푸드, 한국 진출 1주년…어떻게 달라지나?', 'source': 'Khan.co.kr', 'date': '2025-09-22T06:40:00Z'}, {'title': '한국 팬, EPL보러 날아갔지만…900파운드 암표 티켓 ‘무효처리’', 'source': 'Khan.co.kr', 'date': '2025-09-24T02:33:00Z'}, {'title': '추경 효과…IMF, 올해 한국 성장률 0.9%로 소폭 상향', 'source': 'Khan.co.kr', 'date': '2025-09-24T11:49:03Z'}, {'title': '트럼프 “내달부터 의약품에 관세 100%”…한국 기업 영향은?', 'source': 'Khan.co.kr', 'date': '2025-09-26T03:15:01Z'}, {'title': '갤럭시의 한국, 로컬의 중국, 아이폰의 일본···한중일 ‘스마트폰 삼국지’', 'source': 'Khan.co.kr', 'date': '2025-10-06T04:35:00Z'}, {'title': '미국 조지아 구금 사태에 경악한 한국···다시, 우리들의 모습을 돌아보다', 'source': 'Khan.co.kr', 'date': '2025-10-07T07:32:00Z'}, {'title': '경제부총리 “미국이 한국 외환시장 사정 인정해주면 새 돌파구”', 'source': 'Khan.co.kr', 'date': '2025-10-13T12:19:02Z'}, {'title': '한국 주도 ‘제3자 결제서비스제공기관의 정보보호’ 국제표준 발간', 'source': 'Zdnet.co.kr', 'date': '2025-09-14T14:18:49Z'}, {'title': '와디즈-스타트투그룹, 글로벌 스타트업 한국 진출 지원', 'source': 'Zdnet.co.kr', 'date': '2025-09-17T07:03:19Z'}, {'title': '실리콘밸리 문턱 낮춘 한국 스타트업의 새로운 길', 'source': 'Zdnet.co.kr', 'date': '2025-09-30T01:11:49Z'}, {'title': '한국, 국제표준화기구(ISO) 기술이사국 연임 성공', 'source': 'Zdnet.co.kr', 'date': '2025-10-12T04:52:21Z'}, {'title': '어스얼라이언스, 카탈라이즈 리서치와 업무협약 체결', 'source': 'Venturesquare.net', 'date': '2025-09-26T06:44:16Z'}, {'title': '스파크랩파트너스, 한동대학교 내 경상북도 지사 개소', 'source': 'Venturesquare.net', 'date': '2025-09-26T04:38:49Z'}, {'title': '어스얼라이언스, 박두환 전문가 세미나 종료', 'source': 'Venturesquare.net', 'date': '2025-09-30T04:25:16Z'}, {'title': '모인, 선불·직불 전자지급수단 라이선스 취득', 'source': 'Venturesquare.net', 'date': '2025-09-29T02:24:52Z'}, {'title': '파인디, 엔지니어링 생산성 가시화로 한국 시장 공략…“데이터로 성장 환경을 증명한다”', 'source': 'Venturesquare.net', 'date': '2025-10-05T07:01:10Z'}, {'title': '그리너지, NYU 스턴 액셀러레이터 EFL 한국 유일 선정', 'source': 'Besuccess.com', 'date': '2025-09-23T11:02:15Z'}, {'title': '레인보우로보틱스, ‘CoRL 2025’·‘Humanoids 2025’ 참가', 'source': 'Venturesquare.net', 'date': '2025-09-15T02:46:55Z'}, {'title': '코딧, ‘테크로페스트 2025’ 참가.. “생성형 AI 기반 규제·정책 모니터링 서비스 공개”', 'source': 'Venturesquare.net', 'date': '2025-09-17T01:48:43Z'}, {'title': '뷰릿지코퍼레이션, 인도 아마존과 전략적 MOU 체결', 'source': 'Venturesquare.net', 'date': '2025-09-26T06:10:39Z'}, {'title': '디테일즈, 중기부 ‘아기유니콘 육성사업 수익성장형 트랙’ 선정', 'source': 'Venturesquare.net', 'date': '2025-09-30T02:20:37Z'}, {'title': '소크라 AI, ETS와 파트너십 체결', 'source': 'Venturesquare.net', 'date': '2025-10-01T00:51:10Z'}, {'title': '중소벤처기업진흥공단, ‘인권경영시스템 인증’ 취득', 'source': 'Venturesquare.net', 'date': '2025-09-30T06:16:17Z'}, {'title': '카네비모빌리티, 인도네시아 ‘바투르 호수’ 전기추진 선박 도입 MOU 체결', 'source': 'Venturesquare.net', 'date': '2025-10-01T06:40:00Z'}, {'title': '메디맵바이오, 日 ‘Innovation Tiger 2025’ 1위 수상', 'source': 'Venturesquare.net', 'date': '2025-10-13T05:08:58Z'}, {'title': '대만 최대 액셀러레이터, 한국 전용 코호트 신설…양국 스타트업 생태계 연결 강화', 'source': 'Platum.kr', 'date': '2025-09-30T05:28:21Z'}, {'title': '미국 에너지부 장관 “알래스카 LNG 사업, 한국 기업과 참여 협의 중”', 'source': 'Khan.co.kr', 'date': '2025-09-24T22:34:01Z'}, {'title': '[스테판 해거드의 미국에서 온 엽서]한·미 정상회담에서 현대차 급습까지', 'source': 'Khan.co.kr', 'date': '2025-09-21T12:27:02Z'}, {'title': '손흥민, 브라질전 역대 A매치 최다 출전 137경기 신기록…0-5 대패에 빛바랜 역사적 순간', 'source': 'Khan.co.kr', 'date': '2025-10-10T12:50:00Z'}, {'title': '“이차전지 시장에 볕들 날 언제쯤?”…배터리 업계·전문가 총출동', 'source': 'Khan.co.kr', 'date': '2025-09-17T07:30:01Z'}, {'title': '가성비·속도 강점 K방산…다음은 ‘선진국 판로’', 'source': 'Khan.co.kr', 'date': '2025-09-30T12:02:00Z'}, {'title': '14일 파라과이전 손흥민 A매치 최다 출전 기념식…차범근이 직접 유니폼 전달', 'source': 'Khan.co.kr', 'date': '2025-10-13T05:10:00Z'}, {'title': '“50년 지났지만, 지워지지 않는 그리움”···스웨덴 입양 9명, 광주서 가족 찾기', 'source': 'Khan.co.kr', 'date': '2025-10-12T05:43:00Z'}, {'title': '한국 디지털 AI 정부 역량, 필리핀 행정혁신 지원 나선다', 'source': 'Zdnet.co.kr', 'date': '2025-09-15T01:17:13Z'}, {'title': '한국, 2Q 대미 관세 비용만 4.6조…증가속도 가장 빨라', 'source': 'Zdnet.co.kr', 'date': '2025-09-21T03:00:06Z'}, {'title': '젠슨 황 아들·딸이 한국 온 이유…엔비디아 로봇·AI 행보 주목', 'source': 'Zdnet.co.kr', 'date': '2025-09-30T12:46:51Z'}, {'title': '깃허브 다니엘 조 이사 \"한국, 차세대 디지털 도약 주역\"', 'source': 'Zdnet.co.kr', 'date': '2025-10-01T06:51:20Z'}, {'title': '\"후드티가 뭐길래\"…\\'빅데이터 공룡\\' 팔란티어, 한국 팬들에 \\'한정판 굿즈\\' 푼다', 'source': 'Zdnet.co.kr', 'date': '2025-09-29T08:17:55Z'}, {'title': '\"한국 장맛 통했다\"…샘표, 아누가 2025서 K-소스로 주목', 'source': 'Zdnet.co.kr', 'date': '2025-10-10T00:55:25Z'}, {'title': '현대차그룹, 자율운영 공장 구현에 박차…한국-싱가포르 연구소설립', 'source': 'Zdnet.co.kr', 'date': '2025-10-12T03:28:13Z'}, {'title': '나인 퍼즐: 조각난 기억과 제도의 불신―용산참사 이후 한국 사회의 초상', 'source': 'Slownews.kr', 'date': '2025-09-26T04:02:31Z'}, {'title': '와디즈, 스타트투그룹과 업무협약 체결', 'source': 'Venturesquare.net', 'date': '2025-09-17T04:49:24Z'}, {'title': '데클라, 강민우 아태 총괄 대표 선임…한국 진출 본격화', 'source': 'Zdnet.co.kr', 'date': '2025-09-15T07:27:31Z'}, {'title': '한국, 사이버보안 지식 세계 11위…AI 위험 인식 낮아', 'source': 'Zdnet.co.kr', 'date': '2025-09-16T01:26:38Z'}, {'title': '앱차지 홍진우 \"한국 D2C 잠재력 커…수익화 파트너로 적극 지원\"', 'source': 'Zdnet.co.kr', 'date': '2025-09-17T01:17:24Z'}, {'title': '씬스데이터랩스, 한국 거점으로 AI·ML 분석 플랫폼 아시아 본격 공략', 'source': 'Zdnet.co.kr', 'date': '2025-09-18T03:14:11Z'}, {'title': \"한국 AI 생태계 '한 눈에'…정부·민간 실력자 모인다\", 'source': 'Zdnet.co.kr', 'date': '2025-09-19T08:01:31Z'}, {'title': '이베이, 한국 셀러 밋업 성료…\"美 역직구 배송 DDP 의무화\"', 'source': 'Zdnet.co.kr', 'date': '2025-09-29T04:35:58Z'}, {'title': '위블록, 토큰2049에서 ‘한국 아파트 기반 RWA’ 모델 제시', 'source': 'Zdnet.co.kr', 'date': '2025-10-10T05:35:40Z'}, {'title': '에릭슨 \"한국 5G SA 전환 골든타임…6G 주도권 기반 마련해야\"', 'source': 'Zdnet.co.kr', 'date': '2025-09-22T05:55:21Z'}, {'title': \"한국車기자협회가 뽑은 10월의 차는 '기아 EV5'\", 'source': 'Zdnet.co.kr', 'date': '2025-10-02T01:16:50Z'}, {'title': '노벨 경제학상 제임스 로빈슨 “계엄 선포, 한국 민주주의 후퇴…국민이 희망”', 'source': 'Khan.co.kr', 'date': '2025-09-24T12:01:01Z'}, {'title': '잇더컴퍼니, ‘컴업 in 제주’ 최우수 스타트업 선정', 'source': 'Venturesquare.net', 'date': '2025-09-15T05:06:18Z'}, {'title': '머니스테이션, 美 뷰트레이드 증권과 글로벌 AI 금융사업 협력', 'source': 'Venturesquare.net', 'date': '2025-09-19T06:15:09Z'}, {'title': '엑티브온, ‘코리아 인베스트먼트 위크 2025’서 지속가능 화장품 소재 개발 전략 발표', 'source': 'Venturesquare.net', 'date': '2025-09-19T03:15:14Z'}, {'title': '그렙, ‘2025 DTI’ 포럼 개최', 'source': 'Venturesquare.net', 'date': '2025-09-24T03:12:44Z'}, {'title': '땡스카본, ‘2025 온실가스 국제감축 투자 포럼’서 프로젝트 성과 발표', 'source': 'Venturesquare.net', 'date': '2025-09-22T04:59:23Z'}, {'title': '토즈, 美 생성형AI 파트너 밴티크 서밋 참가', 'source': 'Venturesquare.net', 'date': '2025-10-10T03:12:25Z'}, {'title': '한국 불교와 한용운이 오늘날까지 함께 연상되는 이유', 'source': 'Ohmynews.com', 'date': '2025-09-27T10:21:03Z'}, {'title': '변방의 해고노동자는 어떻게 한국 사회를 흔들었나', 'source': 'Ohmynews.com', 'date': '2025-09-26T05:35:32Z'}, {'title': '[속보]IMF, 올 한국 성장률 전망치 0.8→0.9%로 상향···“추경 편성 등 효과”', 'source': 'Khan.co.kr', 'date': '2025-09-24T01:00:00Z'}, {'title': '‘불편한 진실’ 앨 고어, 이재명 대통령 향해 “한국, 석탄 퇴출 앞당겨야”', 'source': 'Khan.co.kr', 'date': '2025-09-24T01:16:00Z'}, {'title': '난민심사 기회도 없이, 5개월간 같은 햄버거만 준 한국···“자유·인권의 나라로 알았는데”', 'source': 'Khan.co.kr', 'date': '2025-09-24T08:45:00Z'}, {'title': '관세협상 교착상태서 만난 이 대통령과 미 재무장관···“한국, 일본과는 달라” “조선 협력 한국에 감사”', 'source': 'Khan.co.kr', 'date': '2025-09-25T06:11:00Z'}]\n"
     ]
    }
   ],
   "source": [
    "headlines = []\n",
    "\n",
    "for article in news_data[\"articles\"]:\n",
    "    headlines.append({\n",
    "        \"title\" : article[\"title\"],\n",
    "        \"source\" : article[\"source\"][\"name\"],\n",
    "        \"date\" : article[\"publishedAt\"]\n",
    "    })\n",
    "    \n",
    "print(headlines)"
   ]
  },
  {
   "cell_type": "code",
   "execution_count": 29,
   "id": "76939df7",
   "metadata": {},
   "outputs": [
    {
     "name": "stdout",
     "output_type": "stream",
     "text": [
      "SBVA 이준표 대표, 오픈AI 샘 올트먼 CEO와 ‘한국 AI 생태계 협력’ 논의\n",
      "스텔업, 유어케이스와 업무협약 체결\n",
      "딥서치, 트위그팜과 업무협약 체결\n"
     ]
    }
   ],
   "source": [
    "for i in range(3):\n",
    "    print(headlines[i]['title'])"
   ]
  },
  {
   "cell_type": "code",
   "execution_count": 30,
   "id": "806e3050",
   "metadata": {},
   "outputs": [],
   "source": [
    "filename = \"headlines.json\"\n",
    "\n",
    "with open(filename, 'w', encoding = 'utf-8') as f:\n",
    "    json.dump(headlines, f, ensure_ascii=False, indent=4)"
   ]
  },
  {
   "cell_type": "markdown",
   "id": "6761e641",
   "metadata": {},
   "source": [
    "#### 💡 API Key 없이 실습할 수 있는 대체 버전"
   ]
  },
  {
   "cell_type": "code",
   "execution_count": 32,
   "id": "f79e2d85",
   "metadata": {},
   "outputs": [
    {
     "name": "stdout",
     "output_type": "stream",
     "text": [
      "명언 5개가 저장되었습니다\n"
     ]
    }
   ],
   "source": [
    "import requests\n",
    "import json\n",
    "\n",
    "url = \"http://api.quotable.io/quotes?limit=5\"\n",
    "response = requests.get(url)\n",
    "data = response.json()\n",
    "\n",
    "quotes = [{\"author\" : q[\"author\"],\"content\" : q[\"content\"]} for q in data[\"results\"]]\n",
    "\n",
    "with open(\"quotes.json\", \"w\", encoding=\"utf-8\") as f:\n",
    "    json.dump(quotes, f, ensure_ascii=False, indent=4)\n",
    "print(\"명언 5개가 저장되었습니다\")\n",
    "\n"
   ]
  },
  {
   "cell_type": "code",
   "execution_count": null,
   "id": "c307d79e",
   "metadata": {},
   "outputs": [],
   "source": []
  },
  {
   "cell_type": "code",
   "execution_count": null,
   "id": "d5f1f993",
   "metadata": {},
   "outputs": [],
   "source": []
  }
 ],
 "metadata": {
  "kernelspec": {
   "display_name": "base",
   "language": "python",
   "name": "python3"
  },
  "language_info": {
   "codemirror_mode": {
    "name": "ipython",
    "version": 3
   },
   "file_extension": ".py",
   "mimetype": "text/x-python",
   "name": "python",
   "nbconvert_exporter": "python",
   "pygments_lexer": "ipython3",
   "version": "3.13.5"
  }
 },
 "nbformat": 4,
 "nbformat_minor": 5
}
