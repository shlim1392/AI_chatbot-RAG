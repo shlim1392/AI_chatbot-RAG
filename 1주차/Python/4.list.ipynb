{
 "cells": [
  {
   "cell_type": "markdown",
   "id": "156dc55a",
   "metadata": {},
   "source": [
    "## 1️⃣ 리스트란 무엇인가?\n",
    "\n",
    "> 리스트(List)란, 여러 개의 데이터를 한 변수에 저장할 수 있는 구조입니다.\n",
    "> \n",
    "- 지금까지 변수는 **하나의 값만 저장**했지만,\n",
    "    \n",
    "    리스트는 **여러 개의 값**을 **순서대로** 담을 수 있습니다.\n",
    "    \n",
    "- 데이터를 **묶음 단위로 관리**하기 때문에\n",
    "    \n",
    "    학생 명단, 점수 목록, 상품 목록 등 **반복되는 데이터를 처리할 때** 필수적입니다."
   ]
  },
  {
   "cell_type": "markdown",
   "id": "40cd5332",
   "metadata": {},
   "source": [
    "## 2️⃣ 리스트의 생성 방법\n",
    "\n",
    "### (1) 대괄호 `[]`를 사용\n",
    "\n",
    "```python\n",
    "fruits = [\"사과\", \"바나나\", \"딸기\"]\n",
    "\n",
    "```\n",
    "\n",
    "### (2) 빈 리스트 만들기\n",
    "\n",
    "```python\n",
    "empty = []\n",
    "\n",
    "```\n",
    "\n",
    "### (3) list() 함수 사용\n",
    "\n",
    "```python\n",
    "nums = list([1, 2, 3, 4])\n",
    "\n",
    "```\n",
    "\n",
    "> 💬 리스트는 문자, 숫자, 불린, 심지어 다른 리스트까지 혼합 가능합니다.\n",
    ">"
   ]
  },
  {
   "cell_type": "markdown",
   "id": "43e10478",
   "metadata": {
    "vscode": {
     "languageId": "plaintext"
    }
   },
   "source": [
    "## 3️⃣ 인덱싱(Indexing)\n",
    "\n",
    "> 리스트의 각 요소는 고유한 **위치(인덱스 번호)**를 가지고 있습니다.\n",
    "> \n",
    "> \n",
    "> 인덱스는 **0부터 시작**합니다.\n",
    ">"
   ]
  },
  {
   "cell_type": "markdown",
   "id": "c09343fb",
   "metadata": {},
   "source": [
    "## 4️⃣ 슬라이싱(Slicing)\n",
    "\n",
    "> 인덱스 범위를 지정해 리스트의 일부만 가져오기\n",
    ">"
   ]
  },
  {
   "cell_type": "code",
   "execution_count": 9,
   "id": "e0387f46",
   "metadata": {},
   "outputs": [
    {
     "name": "stdout",
     "output_type": "stream",
     "text": [
      "apple\n",
      "mango\n",
      "['cherry', 'pineapple', 'mango']\n",
      "['banana', 'cherry']\n"
     ]
    }
   ],
   "source": [
    "# 리스트 생성\n",
    "fruits = [\"apple\", \"banana\", \"cherry\", \"pineapple\", \"mango\"]\n",
    "\n",
    "# 인덱싱\n",
    "print(fruits[0])\n",
    "print(fruits[-1])\n",
    "\n",
    "# 슬라이싱 start, stop, step\n",
    "print(fruits[2:])\n",
    "print(fruits[1:3])"
   ]
  },
  {
   "cell_type": "code",
   "execution_count": 3,
   "id": "fc45cb70",
   "metadata": {},
   "outputs": [
    {
     "name": "stdout",
     "output_type": "stream",
     "text": [
      "['orange', 'kiwi', 'pineapple', 'mango', 'grape']\n",
      "0\n"
     ]
    }
   ],
   "source": [
    "# list methods\n",
    "fruits = [\"apple\", \"banana\", \"cherry\", \"pineapple\", \"mango\"]\n",
    "\n",
    "#mutable - 변경 가능 apple -> orange\n",
    "fruits[0] = \"orange\"\n",
    "\n",
    "# append - 맨 뒤에 추가\n",
    "fruits.append(\"grape\")\n",
    "\n",
    "# insert - 특정 위치에 추가\n",
    "fruits.insert(1, \"kiwi\")\n",
    "\n",
    "# remove - 특정 값 제거\n",
    "fruits.remove(\"banana\")\n",
    "\n",
    "# pop - 특정 위치의 값 제거 (기본: 맨 뒤)\n",
    "# 특징 1. 제거된 값도 기억함 2. 남은 리스트도 출력가능\n",
    "fruits.pop(2)\n",
    "print(fruits)\n",
    "\n",
    "# count - 특정 값의 개수 세기\n",
    "print(fruits.count(\"apple\"))"
   ]
  },
  {
   "cell_type": "code",
   "execution_count": null,
   "id": "c2b0680e",
   "metadata": {},
   "outputs": [
    {
     "name": "stdout",
     "output_type": "stream",
     "text": [
      "오름차순 : [70, 88, 95, 99, 100]\n",
      "내림차순 : [100, 99, 95, 88, 70]\n"
     ]
    }
   ],
   "source": [
    "# 정렬\n",
    "score = [88, 95, 70, 100, 99]\n",
    "\n",
    "score.sort()  # 오름차순\n",
    "print(f\"오름차순 : {score}\")\n",
    "\n",
    "\n",
    "score.sort(reverse=True) # 내림차순\n",
    "print(f\"내림차순 : {score}\")\n"
   ]
  },
  {
   "cell_type": "markdown",
   "id": "d29284ec",
   "metadata": {},
   "source": [
    "sort()는 원본을 바꾸고,  \n",
    "sorted()는 원본은 그대로 두고 새 리스트를 만듬"
   ]
  },
  {
   "cell_type": "code",
   "execution_count": 2,
   "id": "01abd9a0",
   "metadata": {},
   "outputs": [
    {
     "name": "stdout",
     "output_type": "stream",
     "text": [
      "[1, 2, 3]\n",
      "[1, 2, 3]\n",
      "[3, 1, 2]\n"
     ]
    }
   ],
   "source": [
    "nums = [3, 1, 2]\n",
    "nums.sort()\n",
    "print(nums) \n",
    "\n",
    "nums2 = [3, 1, 2]\n",
    "result = sorted(nums2)\n",
    "print(result)  # [1, 2, 3]\n",
    "print(nums2)  "
   ]
  },
  {
   "cell_type": "code",
   "execution_count": null,
   "id": "e523523a",
   "metadata": {},
   "outputs": [
    {
     "name": "stdout",
     "output_type": "stream",
     "text": [
      "3번째에 체리 발견!\n"
     ]
    }
   ],
   "source": [
    "# 리스트와 반복문\n",
    "fruits = [\"apple\", \"banana\", \"cherry\", \"pineapple\", \"mango\"]\n",
    "count = 0\n",
    "\n",
    "for fruit in fruits: \n",
    "    count += 1\n",
    "    if fruit == \"cherry\":\n",
    "        print(f\"{count}번째에 체리 발견!\")\n",
    "        \n",
    "        break"
   ]
  },
  {
   "cell_type": "code",
   "execution_count": 12,
   "id": "2e196138",
   "metadata": {},
   "outputs": [
    {
     "name": "stdout",
     "output_type": "stream",
     "text": [
      "3번째에 체리 발견!\n"
     ]
    }
   ],
   "source": [
    "# enumerate\n",
    "\n",
    "for i, f in enumerate(fruits): \n",
    "    if f == \"cherry\":\n",
    "        print(f\"{i+1}번째에 체리 발견!\")\n",
    "        break"
   ]
  },
  {
   "cell_type": "code",
   "execution_count": 13,
   "id": "69fa965f",
   "metadata": {},
   "outputs": [
    {
     "name": "stdout",
     "output_type": "stream",
     "text": [
      "1번째에 apple 발견!\n",
      "2번째에 banana 발견!\n",
      "3번째에 cherry 발견!\n",
      "4번째에 pineapple 발견!\n",
      "5번째에 mango 발견!\n"
     ]
    }
   ],
   "source": [
    "for i, f in enumerate(fruits, start=1): \n",
    "    print(f\"{i}번째에 {f} 발견!\")"
   ]
  },
  {
   "cell_type": "code",
   "execution_count": 14,
   "id": "12b54037",
   "metadata": {},
   "outputs": [
    {
     "name": "stdout",
     "output_type": "stream",
     "text": [
      "1. c++\n",
      "2. java\n",
      "3. python\n",
      "4. r\n"
     ]
    }
   ],
   "source": [
    "items = [\"python\", \"sql\", \"java\"]\n",
    "\n",
    "# 추가\n",
    "items.append(\"r\")\n",
    "# 삽입\n",
    "items.insert(1, \"c++\")\n",
    "# 삭제\n",
    "items.remove(\"sql\")\n",
    "# 정렬\n",
    "items.sort()\n",
    "\n",
    "for i, item in enumerate(items):\n",
    "    print(f\"{i+1}. {item}\")"
   ]
  },
  {
   "cell_type": "markdown",
   "id": "ba9139b6",
   "metadata": {},
   "source": [
    "### 1️⃣ 실습"
   ]
  },
  {
   "cell_type": "code",
   "execution_count": 16,
   "id": "3a1ead9a",
   "metadata": {},
   "outputs": [
    {
     "name": "stdout",
     "output_type": "stream",
     "text": [
      "나이팅게일 추가되었습니다\n",
      "한글날 추가되었습니다\n",
      "금금금 추가되었습니다\n",
      "종료합니다\n",
      "입력한 단어 목록: \n",
      "나이팅게일\n",
      "한글날\n",
      "금금금\n"
     ]
    }
   ],
   "source": [
    "words = []\n",
    "while True:\n",
    "    word = input(\"단어를 입력하세요 (종료: exit): \")\n",
    "    if word == \"\":\n",
    "        print(\"공백은 입력할 수 없습니다\")\n",
    "    elif word == \"exit\":\n",
    "        print(\"종료합니다\")\n",
    "        break\n",
    "    else:\n",
    "        words.append(word)\n",
    "        print(f\"{word} 추가되었습니다\")\n",
    "        \n",
    "print(\"입력한 단어 목록: \")\n",
    "\n",
    "for w in words:\n",
    "    print(w)"
   ]
  },
  {
   "cell_type": "code",
   "execution_count": 17,
   "id": "77be1cef",
   "metadata": {},
   "outputs": [
    {
     "name": "stdout",
     "output_type": "stream",
     "text": [
      "'수박'이(가) 리스트에 추가되었습니다. 현재 리스트: ['수박']\n",
      "'조명'이(가) 리스트에 추가되었습니다. 현재 리스트: ['수박', '조명']\n",
      "'금니'이(가) 리스트에 추가되었습니다. 현재 리스트: ['수박', '조명', '금니']\n",
      "프로그램 종료\n"
     ]
    }
   ],
   "source": [
    "data = []\n",
    "\n",
    "while True:\n",
    "    item = input(\"리스트에 추가할 아이템을 입력하세요 (종료: exit): \")\n",
    "    if item.lower() == \"exit\":\n",
    "        print(\"프로그램 종료\")\n",
    "        break\n",
    "    \n",
    "    elif item == \"sort\":\n",
    "        data.sort()\n",
    "        print(f\"데이터가 정렬되었습니다 : {data}\")\n",
    "    \n",
    "    elif item == \"\":\n",
    "        print(\"아이템을 추가 할 수 없습니다. 다시 입력해주세요.\")\n",
    "        \n",
    "    else:\n",
    "        data.append(item)\n",
    "        print(f\"'{item}'이(가) 리스트에 추가되었습니다. 현재 리스트: {data}\")"
   ]
  },
  {
   "cell_type": "code",
   "execution_count": null,
   "id": "dba11e52",
   "metadata": {},
   "outputs": [
    {
     "name": "stdout",
     "output_type": "stream",
     "text": [
      "사랑  추가되었습니다\n",
      "사랑 추가되었습니다\n",
      "이미 입력한 단어입니다.\n",
      "이미 입력한 단어입니다.\n",
      "금수 추가되었습니다\n",
      "너랑 추가되었습니다\n",
      "이미 입력한 단어입니다.\n",
      "종료합니다\n"
     ]
    }
   ],
   "source": [
    "# 중복방지 로직\n",
    "words = []\n",
    "\n",
    "while True:\n",
    "    word = input(\"단어를 입력하세요 (종료: exit): \")\n",
    "    if word == \"\":\n",
    "        print(\"공백은 입력할 수 없습니다\")\n",
    "    elif word == \"exit\":\n",
    "        print(\"종료합니다\")\n",
    "        break\n",
    "    elif word in words:\n",
    "        print(\"이미 입력한 단어입니다.\")\n",
    "    else:\n",
    "        words.append(word)\n",
    "        print(f\"{word} 추가되었습니다\")\n",
    "\n",
    "print(f\"현재 단어 목록: {words}\")"
   ]
  },
  {
   "cell_type": "code",
   "execution_count": 19,
   "id": "021c843b",
   "metadata": {},
   "outputs": [
    {
     "name": "stdout",
     "output_type": "stream",
     "text": [
      "🔍 'p' 포함: python\n",
      "🔍 'p' 포함: deep\n"
     ]
    }
   ],
   "source": [
    "# 리스트에 있는 단어 중 특정 검색어가 포함된 것 출력\n",
    "words = [\"python\", \"data\", \"ai\", \"machine\", \"deep\"]\n",
    "keyword = input(\"검색할 키워드를 입력하세요: \")\n",
    "\n",
    "found = False\n",
    "for w in words:\n",
    "    if keyword in w:\n",
    "        print(f\"🔍 '{keyword}' 포함: {w}\")\n",
    "        found = True\n",
    "\n",
    "if not found:\n",
    "    print(\"❌ 검색 결과가 없습니다.\")"
   ]
  },
  {
   "cell_type": "code",
   "execution_count": 20,
   "id": "35b190b2",
   "metadata": {},
   "outputs": [
    {
     "name": "stdout",
     "output_type": "stream",
     "text": [
      "오름차순 정렬된 숫자들: [40, 50, 65, 75, 90]\n",
      "70점 이상인 값:\n",
      "- 75\n",
      "- 90\n"
     ]
    }
   ],
   "source": [
    "# for문을 활용한 정렬 조건출력\n",
    "\n",
    "nums = [50, 75, 40, 90, 65]\n",
    "nums.sort()\n",
    "\n",
    "print(\"오름차순 정렬된 숫자들:\", nums)\n",
    "\n",
    "print(\"70점 이상인 값:\")\n",
    "for n in nums:\n",
    "    if n >= 70:\n",
    "        print(\"-\", n)"
   ]
  },
  {
   "cell_type": "code",
   "execution_count": 21,
   "id": "57c3410d",
   "metadata": {},
   "outputs": [
    {
     "name": "stdout",
     "output_type": "stream",
     "text": [
      "'바나나' 삭제 완료!\n",
      "현재 리스트: ['사과', '딸기']\n"
     ]
    }
   ],
   "source": [
    "fruits = [\"사과\", \"바나나\", \"딸기\"]\n",
    "\n",
    "delete_item = input(\"삭제할 과일을 입력하세요: \")\n",
    "\n",
    "if delete_item in fruits:\n",
    "    fruits.remove(delete_item)\n",
    "    print(f\"'{delete_item}' 삭제 완료!\")\n",
    "else:\n",
    "    print(\"❌ 해당 과일이 리스트에 없습니다.\")\n",
    "\n",
    "print(\"현재 리스트:\", fruits)"
   ]
  },
  {
   "cell_type": "code",
   "execution_count": null,
   "id": "87fd2f3f",
   "metadata": {},
   "outputs": [
    {
     "name": "stdout",
     "output_type": "stream",
     "text": [
      "단어장 프로그램 (명령어 : add, del, show, sort, exit )\n",
      "'밥' 단어가 추가되었습니다.\n",
      "올바른 명령어를 입력해주세요.\n",
      "올바른 명령어를 입력해주세요.\n",
      "'국' 단어가 추가되었습니다.\n",
      "'김치' 단어가 추가되었습니다.\n",
      "'참나물' 단어가 추가되었습니다.\n",
      "'간장' 단어가 추가되었습니다.\n",
      "현재 단어 목록:\n",
      "1. 밥\n",
      "2. 국\n",
      "3. 김치\n",
      "4. 참나물\n",
      "5. 간장\n",
      "단어장이 정렬되었습니다.{wordbook}\n",
      "'국' 단어가 삭제되었습니다.\n",
      "현재 단어 목록:\n",
      "1. 간장\n",
      "2. 김치\n",
      "3. 밥\n",
      "4. 참나물\n",
      "프로그램을 종료합니다.\n"
     ]
    }
   ],
   "source": [
    "wordbook = []\n",
    "\n",
    "print(\"단어장 프로그램 (명령어 : add, del, show, sort, exit )\")\n",
    "\n",
    "while True:\n",
    "    command = input(\"명령어를 입력하세요: (명령어 : add, del, show, sort, exit ) \")\n",
    "    \n",
    "    # 단어추가\n",
    "    if command == \"exit\":\n",
    "        print(\"프로그램을 종료합니다.\")\n",
    "        break\n",
    "    \n",
    "    elif command == \"add\":\n",
    "        new_word = input(\"추가할 단어를 입력하세요:\")\n",
    "        if new_word == \"\":\n",
    "            print(\"데이터를 다시 입력해주세요\")\n",
    "        elif new_word not in wordbook:\n",
    "            wordbook.append(new_word)\n",
    "            print(f\"'{new_word}' 단어가 추가되었습니다.\")\n",
    "        else:\n",
    "            print(\"이미 단어장에 있는 단어입니다.\")\n",
    "            \n",
    "    elif command == \"del\":\n",
    "        del_word = input(\"삭제할 단어를 입력하세요:\")\n",
    "        if del_word in wordbook:\n",
    "            wordbook.remove(del_word)\n",
    "            print(f\"'{del_word}' 단어가 삭제되었습니다.\")\n",
    "        else:\n",
    "            print(\"단어장에 없는 단어입니다.\")\n",
    "    \n",
    "    elif command == \"show\":\n",
    "        if len(wordbook) == 0:\n",
    "            print(\"단어장이 비어있습니다.\" )\n",
    "        else:\n",
    "            print(\"현재 단어 목록:\")\n",
    "            for i, f in enumerate(wordbook, start=1):\n",
    "                print(f\"{i}. {f}\")\n",
    "    \n",
    "    elif command == \"sort\":\n",
    "        wordbook.sort()\n",
    "        print(f\"단어장이 정렬되었습니다. {wordbook}\")\n",
    "    \n",
    "    else :\n",
    "        print(\"올바른 명령어를 입력해주세요. (명령어 : add, del, show, sort, exit ) \")\n",
    "        \n",
    "            "
   ]
  },
  {
   "cell_type": "code",
   "execution_count": null,
   "id": "23b158a8",
   "metadata": {},
   "outputs": [],
   "source": []
  }
 ],
 "metadata": {
  "kernelspec": {
   "display_name": "base",
   "language": "python",
   "name": "python3"
  },
  "language_info": {
   "codemirror_mode": {
    "name": "ipython",
    "version": 3
   },
   "file_extension": ".py",
   "mimetype": "text/x-python",
   "name": "python",
   "nbconvert_exporter": "python",
   "pygments_lexer": "ipython3",
   "version": "3.13.5"
  }
 },
 "nbformat": 4,
 "nbformat_minor": 5
}
