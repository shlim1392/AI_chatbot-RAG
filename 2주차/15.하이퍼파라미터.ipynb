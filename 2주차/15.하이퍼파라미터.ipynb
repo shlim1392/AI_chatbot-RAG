{
 "cells": [
  {
   "cell_type": "markdown",
   "id": "ab0c1371",
   "metadata": {},
   "source": [
    "# **하이퍼파라미터**\n",
    "\n",
    "## 하이퍼파라미터의 역할\n",
    "\n",
    "> “모델이 학습하는 방법을 사람이 정하는 값”\n",
    "> \n",
    "\n",
    "하이퍼파라미터는 모델이 스스로 학습하지 못하는,\n",
    "\n",
    "**훈련의 방향·속도·강도**를 결정하는 외부 설정값입니다.\n",
    "\n",
    "| 구분 | 예시 | 역할 |\n",
    "| --- | --- | --- |\n",
    "| **학습 제어** | Batch Size, Epoch, Learning Rate | 학습의 속도와 안정성 조절 |\n",
    "| **모델 구조** | LSTM unit, Dropout rate | 복잡도·일반화 조절 |\n",
    "| **최적화 알고리즘** | Optimizer(Adam, SGD, RMSprop) | 가중치 갱신 방식 결정 |\n",
    "\n",
    "> 💬 “하이퍼파라미터는 조타핸들이고, 모델 파라미터는 엔진이다.”\n",
    ">"
   ]
  },
  {
   "cell_type": "markdown",
   "id": "c6e6cd8d",
   "metadata": {},
   "source": [
    "## 하이퍼파라미터 자동 탐색 (Grid vs Bayesian)\n",
    "\n",
    "### 1️⃣ 개념 요약\n",
    "\n",
    "| 탐색법 | 특징 | 장점 | 단점 |\n",
    "| --- | --- | --- | --- |\n",
    "| **Grid Search** | 모든 조합 탐색 | 단순, 완전 탐색 | 느림, 조합 폭발 |\n",
    "| **Random Search** | 랜덤 시도 | 빠름, 효율적 | 최적점 놓칠 수 있음 |\n",
    "| **Bayesian Optimization** | 성능 기반으로 다음 지점 예측 | 적은 시도로 높은 효율 | 구현 복잡 |\n",
    "\n",
    ">\n",
    " 💬 Grid는 “모든 문제집 풀기_모든경우의수탐색”, Bayesian은 “잘 맞는 문제집에 집중하기”\n",
    ">"
   ]
  },
  {
   "cell_type": "code",
   "execution_count": 3,
   "id": "eb6c3e73",
   "metadata": {},
   "outputs": [
    {
     "name": "stdout",
     "output_type": "stream",
     "text": [
      "✅ Grid Search Best Params: {'C': 1, 'solver': 'lbfgs'}\n",
      "Validation Accuracy: 1.0\n"
     ]
    }
   ],
   "source": [
    "# 그리드서치\n",
    "\n",
    "from sklearn.datasets import load_iris\n",
    "from sklearn.model_selection import GridSearchCV, train_test_split\n",
    "from sklearn.linear_model import LogisticRegression\n",
    "\n",
    "X, y = load_iris(return_X_y=True)\n",
    "X_train, X_val, y_train, y_val = train_test_split(X, y, test_size=0.2, random_state=42)\n",
    "\n",
    "param_grid = {\n",
    "    'C': [0.1, 1, 10],\n",
    "    'solver': ['liblinear', 'lbfgs']\n",
    "}\n",
    "\n",
    "grid = GridSearchCV(LogisticRegression(max_iter=500), param_grid, cv=3, n_jobs=-1)\n",
    "grid.fit(X_train, y_train)\n",
    "\n",
    "print(\"✅ Grid Search Best Params:\", grid.best_params_)\n",
    "print(\"Validation Accuracy:\", grid.score(X_val, y_val))"
   ]
  },
  {
   "cell_type": "code",
   "execution_count": 6,
   "id": "bec0276a",
   "metadata": {},
   "outputs": [
    {
     "name": "stdout",
     "output_type": "stream",
     "text": [
      "|   iter    |  target   |     C     |\n",
      "-------------------------------------\n",
      "| \u001b[39m1        \u001b[39m | \u001b[39m0.9583333\u001b[39m | \u001b[39m3.7516557\u001b[39m |\n",
      "| \u001b[39m2        \u001b[39m | \u001b[39m0.9500000\u001b[39m | \u001b[39m9.5076359\u001b[39m |\n",
      "| \u001b[39m3        \u001b[39m | \u001b[39m0.9500000\u001b[39m | \u001b[39m7.3226194\u001b[39m |\n",
      "| \u001b[39m4        \u001b[39m | \u001b[39m0.9500000\u001b[39m | \u001b[39m1.8344250\u001b[39m |\n",
      "| \u001b[39m5        \u001b[39m | \u001b[39m0.9583333\u001b[39m | \u001b[39m3.7516463\u001b[39m |\n",
      "| \u001b[39m6        \u001b[39m | \u001b[39m0.9583333\u001b[39m | \u001b[39m4.1142780\u001b[39m |\n",
      "| \u001b[39m7        \u001b[39m | \u001b[39m0.9583333\u001b[39m | \u001b[39m5.3972819\u001b[39m |\n",
      "| \u001b[39m8        \u001b[39m | \u001b[39m0.6583333\u001b[39m | \u001b[39m0.01     \u001b[39m |\n",
      "=====================================\n",
      "✅ Bayesian Search Best: {'target': np.float64(0.9583333333333334), 'params': {'C': np.float64(3.7516557872851513)}}\n"
     ]
    }
   ],
   "source": [
    "# 베이지안 \n",
    "from bayes_opt import BayesianOptimization\n",
    "from sklearn.model_selection import cross_val_score\n",
    "import numpy as np\n",
    "import warnings\n",
    "warnings.filterwarnings('ignore', category=FutureWarning)\n",
    "def lr_cv(C):\n",
    "    model = LogisticRegression(C=C, solver='liblinear', max_iter=500)\n",
    "    return cross_val_score(model, X_train, y_train, cv=3, scoring='accuracy').mean()\n",
    "\n",
    "optimizer = BayesianOptimization(\n",
    "    f=lr_cv,\n",
    "    pbounds={'C': (0.01, 10)},\n",
    "    random_state=42\n",
    ")\n",
    "optimizer.maximize(init_points=3, n_iter=5)\n",
    "\n",
    "print(\"✅ Bayesian Search Best:\", optimizer.max)"
   ]
  },
  {
   "cell_type": "code",
   "execution_count": 9,
   "id": "ee629163",
   "metadata": {},
   "outputs": [
    {
     "data": {
      "image/png": "[encoded data removed]",
      "text/plain": [
       "<Figure size 640x480 with 1 Axes>"
      ]
     },
     "metadata": {},
     "output_type": "display_data"
    }
   ],
   "source": [
    "import matplotlib.pyplot as plt\n",
    "\n",
    "iters = list(range(len(optimizer.res)))\n",
    "scores = [r['target'] for r in optimizer.res]\n",
    "plt.plot(iters, scores, marker='o')\n",
    "plt.title(\"Bayesian Optimization Search Progress\")\n",
    "plt.xlabel(\"Iteration\"); plt.ylabel(\"Validation Accuracy\")\n",
    "plt.show()\n"
   ]
  },
  {
   "cell_type": "markdown",
   "id": "9ee98867",
   "metadata": {},
   "source": [
    "## IV. 정리 및 사고 전환\n",
    "\n",
    "| 구분 | 핵심 질문 | 의미 |\n",
    "| --- | --- | --- |\n",
    "| Batch | 학습 안정 vs 일반화 중 어느 쪽이 중요한가? | 데이터 규모 따라 결정 |\n",
    "| Epoch | 언제 멈추는 게 최적인가? | EarlyStopping으로 제어 |\n",
    "| Optimizer | 어떤 방식이 데이터에 적합한가? | 실험으로 검증 |\n",
    "| 탐색 방식 | 모든 조합 vs 똑똑한 조합 | 효율성과 정확도 균형 |\n",
    "\n",
    "> “하이퍼파라미터 튜닝은 모델의 ‘공부법’을 찾는 과정이다.”\n",
    ">"
   ]
  },
  {
   "cell_type": "markdown",
   "id": "d89e693b",
   "metadata": {},
   "source": [
    "- Hyperparameter: \n",
    "      모델을 설계하는 과정에서 선택하는 변수들입니다. 예를 들어, 머신 러닝 알고리즘에 사용되는 모델 크기, 학습률 등이 있습니다.\n",
    "- Fine-tuning: \n",
    "      기존의 트레이닝된 네트워크 모델을 다른 데이터로 다시 교육시켜서 새로운 기능이나 성능을 얻는 것이라고 할 수 있습니다. 예를 들어, 이미 있는 Face Recognition Model에서 Eye Detection Model을 만드는 것입니다."
   ]
  },
  {
   "cell_type": "markdown",
   "id": "a1e5344c",
   "metadata": {},
   "source": []
  },
  {
   "cell_type": "markdown",
   "id": "35fdf9b3",
   "metadata": {},
   "source": []
  }
 ],
 "metadata": {
  "kernelspec": {
   "display_name": "base",
   "language": "python",
   "name": "python3"
  },
  "language_info": {
   "codemirror_mode": {
    "name": "ipython",
    "version": 3
   },
   "file_extension": ".py",
   "mimetype": "text/x-python",
   "name": "python",
   "nbconvert_exporter": "python",
   "pygments_lexer": "ipython3",
   "version": "3.13.5"
  }
 },
 "nbformat": 4,
 "nbformat_minor": 5
}
