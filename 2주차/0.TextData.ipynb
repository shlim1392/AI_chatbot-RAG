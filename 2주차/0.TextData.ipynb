{
 "cells": [
  {
   "cell_type": "markdown",
   "id": "de247e16",
   "metadata": {},
   "source": [
    "# 0. 텍스트데이터\n",
    "---"
   ]
  },
  {
   "cell_type": "markdown",
   "id": "10ef5df3",
   "metadata": {},
   "source": [
    "## 파이썬 기본 내장 함수\n",
    "### 1. len()"
   ]
  },
  {
   "cell_type": "code",
   "execution_count": null,
   "id": "7378441e",
   "metadata": {},
   "outputs": [
    {
     "name": "stdout",
     "output_type": "stream",
     "text": [
      "26\n",
      "7\n"
     ]
    }
   ],
   "source": [
    "s = \"오늘 날씨가 너무 춥습니다. 좋은 하루 되세요.\"\n",
    "# 공백을 포함한 모든 텍스트에 대한 집계\n",
    "print(len(s))\n",
    "\n",
    "tokens = [\"오늘\", \"날씨\", \"너무\", \"춥습니다\", \"좋은\", \"하루\",\"되세요\"]\n",
    "# 의미 중심의 구두점, 공백을 최대한 제거한 내용을 토큰으로 설정\n",
    "print(len(tokens))"
   ]
  },
  {
   "cell_type": "markdown",
   "id": "b789e61f",
   "metadata": {},
   "source": [
    "### 2. split()\n",
    "- 대표적으로 텍스트를 토큰화 시키는 가장 기본적인 메서드(기능)  "
   ]
  },
  {
   "cell_type": "code",
   "execution_count": null,
   "id": "074f37ac",
   "metadata": {},
   "outputs": [
    {
     "name": "stdout",
     "output_type": "stream",
     "text": [
      "['오늘', '날씨가', '정말', '추워요']\n",
      "['사과', '포도', '배']\n",
      "['사과', '포도,배']\n"
     ]
    }
   ],
   "source": [
    "s = \"   오늘     날씨가    정말    추워요\"\n",
    "print(s.split())\n",
    "\n",
    "#\",\"로 구분되어있는 문장을 토큰화\n",
    "print(\"사과,포도,배\".split(\",\"))\n",
    "\n",
    "\n",
    "## maxsplit 분할 횟수 제한 기능\n",
    "print(\"사과,포도,배\".split(\",\", maxsplit=1))\n",
    "\n"
   ]
  },
  {
   "cell_type": "markdown",
   "id": "56fca206",
   "metadata": {},
   "source": [
    "## 3. set()\n",
    "\n",
    "- 중복을 제거하는 구문(고유단어 집합)\n",
    "- 토큰에 대한 전체 리스트 중에 중복된 단어를 제거하는 구문"
   ]
  },
  {
   "cell_type": "code",
   "execution_count": 7,
   "id": "e61df7c2",
   "metadata": {},
   "outputs": [
    {
     "name": "stdout",
     "output_type": "stream",
     "text": [
      "{'정말', '오늘', '좋아요', '날씨가'}\n",
      "4\n",
      "5\n"
     ]
    }
   ],
   "source": [
    "tokens = [\"오늘\", \"날씨가\", \"정말\", \"좋아요\", \"정말\"]\n",
    "vocab = set(tokens)\n",
    "print(vocab)          # {'정말', '좋아요', '오늘', '날씨가'}\n",
    "print(len(vocab))\n",
    "print(len(tokens))  "
   ]
  },
  {
   "cell_type": "markdown",
   "id": "3c2ae90a",
   "metadata": {},
   "source": [
    "> 텍스트 자료를 처음 다룰떄\n",
    "> 1. 중복 제거\n",
    "> 2. 공백제거\n",
    ">3, "
   ]
  },
  {
   "cell_type": "code",
   "execution_count": null,
   "id": "1b256e04",
   "metadata": {},
   "outputs": [],
   "source": []
  }
 ],
 "metadata": {
  "kernelspec": {
   "display_name": "base",
   "language": "python",
   "name": "python3"
  },
  "language_info": {
   "codemirror_mode": {
    "name": "ipython",
    "version": 3
   },
   "file_extension": ".py",
   "mimetype": "text/x-python",
   "name": "python",
   "nbconvert_exporter": "python",
   "pygments_lexer": "ipython3",
   "version": "3.13.5"
  }
 },
 "nbformat": 4,
 "nbformat_minor": 5
}
