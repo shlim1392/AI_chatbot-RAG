{
 "cells": [
  {
   "cell_type": "markdown",
   "id": "de247e16",
   "metadata": {},
   "source": [
    "# 0. 텍스트데이터\n",
    "---"
   ]
  },
  {
   "cell_type": "markdown",
   "id": "10ef5df3",
   "metadata": {},
   "source": [
    "## 파이썬 기본 내장 함수\n",
    "### 1. len()"
   ]
  },
  {
   "cell_type": "code",
   "execution_count": null,
   "id": "7378441e",
   "metadata": {},
   "outputs": [
    {
     "name": "stdout",
     "output_type": "stream",
     "text": [
      "26\n",
      "7\n"
     ]
    }
   ],
   "source": [
    "s = \"오늘 날씨가 너무 춥습니다. 좋은 하루 되세요.\"\n",
    "# 공백을 포함한 모든 텍스트에 대한 집계\n",
    "print(len(s))\n",
    "\n",
    "tokens = [\"오늘\", \"날씨\", \"너무\", \"춥습니다\", \"좋은\", \"하루\",\"되세요\"]\n",
    "# 의미 중심의 구두점, 공백을 최대한 제거한 내용을 토큰으로 설정\n",
    "print(len(tokens))"
   ]
  },
  {
   "cell_type": "markdown",
   "id": "b789e61f",
   "metadata": {},
   "source": [
    "### 2. split()\n",
    "- 대표적으로 텍스트를 토큰화 시키는 가장 기본적인 메서드(기능)  "
   ]
  },
  {
   "cell_type": "code",
   "execution_count": null,
   "id": "074f37ac",
   "metadata": {},
   "outputs": [
    {
     "name": "stdout",
     "output_type": "stream",
     "text": [
      "['오늘', '날씨가', '정말', '추워요']\n",
      "['사과', '포도', '배']\n",
      "['사과', '포도,배']\n"
     ]
    }
   ],
   "source": [
    "s = \"   오늘     날씨가    정말    추워요\"\n",
    "print(s.split())\n",
    "\n",
    "#\",\"로 구분되어있는 문장을 토큰화\n",
    "print(\"사과,포도,배\".split(\",\"))\n",
    "\n",
    "\n",
    "## maxsplit 분할 횟수 제한 기능\n",
    "print(\"사과,포도,배\".split(\",\", maxsplit=1))\n",
    "\n"
   ]
  },
  {
   "cell_type": "markdown",
   "id": "56fca206",
   "metadata": {},
   "source": [
    "## 3. set()\n",
    "\n",
    "- 중복을 제거하는 구문(고유단어 집합)\n",
    "- 토큰에 대한 전체 리스트 중에 중복된 단어를 제거하는 구문\n",
    "\n",
    ">> set : 자료구조 tuple()\n",
    ">> 특징 : 수학집합 (정렬을 할 수 없음)"
   ]
  },
  {
   "cell_type": "code",
   "execution_count": 7,
   "id": "e61df7c2",
   "metadata": {},
   "outputs": [
    {
     "name": "stdout",
     "output_type": "stream",
     "text": [
      "{'정말', '오늘', '좋아요', '날씨가'}\n",
      "4\n",
      "5\n"
     ]
    }
   ],
   "source": [
    "tokens = [\"오늘\", \"날씨가\", \"정말\", \"좋아요\", \"정말\"]\n",
    "vocab = set(tokens)\n",
    "print(vocab)          # {'정말', '좋아요', '오늘', '날씨가'}\n",
    "print(len(vocab))\n",
    "print(len(tokens))  "
   ]
  },
  {
   "cell_type": "markdown",
   "id": "3c2ae90a",
   "metadata": {},
   "source": [
    "---\n",
    "\n",
    "##  실무에서 바로 쓰는 규칙(입문 버전)\n",
    "\n",
    "> - **소문자화**: 영문 텍스트는 `lower()`로 대소문자 변형을 통일.\n",
    "> - **앞뒤 공백 제거**: `strip()`으로 입력 흔들림 최소화.\n",
    "> - **구두점 처리**: 초보자는 우선 `split()` 기반으로 시작 → 이후 정규식/토크나이저로 개선.\n",
    ">- **결측/빈문자 처리**: 빈 문자열은 건너뛰거나 로깅.\n"
   ]
  },
  {
   "cell_type": "code",
   "execution_count": 9,
   "id": "1b256e04",
   "metadata": {},
   "outputs": [
    {
     "name": "stdout",
     "output_type": "stream",
     "text": [
      "Hello, World\n",
      "   hello, world    \n",
      "hello, world\n"
     ]
    }
   ],
   "source": [
    "# 1. strip() / lower()\n",
    "# strip은 양쪽 공백을 제거\n",
    "# lower는 모든 문자를 소문자화\n",
    "\n",
    "s = \"   Hello, World    \"\n",
    "\n",
    "clean1 = s.strip()\n",
    "clean2 = s.lower()\n",
    "clean3 = s.strip().lower()\n",
    "\n",
    "print(clean1)\n",
    "print(clean2)\n",
    "print(clean3)"
   ]
  },
  {
   "cell_type": "code",
   "execution_count": 10,
   "id": "32a6450b",
   "metadata": {},
   "outputs": [
    {
     "name": "stdout",
     "output_type": "stream",
     "text": [
      "2025-10-18  김철수  제품A  구매완료  서울\n"
     ]
    }
   ],
   "source": [
    "# csv 파일 한줄을 안전하게 구분하기\n",
    "# CSV = COMMA Separated Values\n",
    "\n",
    "row = \"2025-10-18, 김철수, 제품A, 구매완료, 서울\"\n",
    "cols = row.split(\",\")\n",
    "date, name, product, status, location = cols[0], cols[1], cols[2], cols[3], cols[4]\n",
    "print(date, name, product, status, location)"
   ]
  },
  {
   "cell_type": "markdown",
   "id": "32eb54ab",
   "metadata": {},
   "source": [
    "---\n",
    "## **실습**\n",
    "\n",
    "text = \"파이썬 텍스트 분석 시작!   공백과, 구두점을 관찰합니다...\"\n",
    "\n",
    "1) 기본나누기\n",
    "2) 고유단어 집합\n",
    "3) 제목/본문 분리\n",
    "4) 여러줄 처리"
   ]
  },
  {
   "cell_type": "code",
   "execution_count": 15,
   "id": "9c678c39",
   "metadata": {},
   "outputs": [
    {
     "name": "stdout",
     "output_type": "stream",
     "text": [
      "['파이썬', '텍스트', '분석', '시작!', '공백과,', '구두점을', '관찰합니다...']\n",
      "토큰수 7\n",
      "{'공백과,', '분석', '구두점을', '관찰합니다...', '텍스트', '시작!', '파이썬'}\n",
      "어휘 크기 7\n",
      "제목: 입문 수업 안내   본문: 오늘은 문자열 기본을 학습합니다.\n",
      "줄 수: 4 | 내용: ['첫째 줄', '둘째 줄', '', '넷째 줄']\n"
     ]
    }
   ],
   "source": [
    "text = \"파이썬 텍스트 분석 시작!   공백과, 구두점을 관찰합니다...\"\n",
    "\n",
    "# 1) 기본나누기\n",
    "tokens = text.split()\n",
    "print(tokens)\n",
    "print(f\"토큰수 {len(tokens)}\")\n",
    "\n",
    "# 2) 고유단어 집합\n",
    "vocab = set(tokens)\n",
    "print(vocab)\n",
    "print(f\"어휘 크기 {len(vocab)}\")\n",
    "\n",
    "# 3) 제목/본문 분리\n",
    "msg = \"제목: 입문 수업 안내 - 본문: 오늘은 문자열 기본을 학습합니다.\"\n",
    "sen = msg.split(\"-\")\n",
    "title, content = sen[0], sen[1]\n",
    "print(title, content)\n",
    "\n",
    "# 4) 여러줄 처리\n",
    "multi = \"첫째 줄\\n둘째 줄\\n\\n넷째 줄\"\n",
    "lines = multi.splitlines()\n",
    "print(\"줄 수:\", len(lines), \"| 내용:\", lines)"
   ]
  },
  {
   "cell_type": "markdown",
   "id": "c6de1a71",
   "metadata": {},
   "source": [
    "## **실습2**\n",
    "\n",
    "1. 기본 `split()` 결과 토큰 수\n",
    "2. `set()` 어휘 크기\n",
    "3. 가장 긴 토큰과 길이"
   ]
  },
  {
   "cell_type": "code",
   "execution_count": 27,
   "id": "83274287",
   "metadata": {},
   "outputs": [
    {
     "name": "stdout",
     "output_type": "stream",
     "text": [
      "['지금의', '속도가', '아무리', '느려도,', '멈추지만', '않으면', '괜찮다.', '완벽을', '두려워하지', '마라.', '완벽에는', '도달할', '수', '없지만,', '그걸', '향해', '나아가면', '탁월함에', '닿는다.', '방향을', '잃었다고', '해서', '길을', '잃은', '건', '아니다.', '자신을', '믿지', '못한다면,', '아무도', '당신을', '믿지', '못한다.'], \n",
      " 토큰수 : 33\n",
      "{'멈추지만', '두려워하지', '닿는다.', '완벽을', '못한다면,', '길을', '수', '아무리', '마라.', '지금의', '괜찮다.', '못한다.', '그걸', '나아가면', '아니다.', '속도가', '아무도', '느려도,', '자신을', '탁월함에', '당신을', '방향을', '도달할', '잃었다고', '없지만,', '해서', '않으면', '향해', '건', '잃은', '믿지', '완벽에는'}\n",
      " 어휘 수 :32\n",
      "가장 긴 토큰: 두려워하지 | 길이: 5\n"
     ]
    }
   ],
   "source": [
    "text = \"지금의 속도가 아무리 느려도, 멈추지만 않으면 괜찮다. 완벽을 두려워하지 마라. 완벽에는 도달할 수 없지만, 그걸 향해 나아가면 탁월함에 닿는다. 방향을 잃었다고 해서 길을 잃은 건 아니다. 자신을 믿지 못한다면, 아무도 당신을 믿지 못한다.\"\n",
    "\n",
    "\n",
    "# split()\n",
    "tokens = text.split()\n",
    "print(f\"{tokens}, \\n 토큰수 : {len(tokens)}\")\n",
    "\n",
    "# set()\n",
    "vocab = set(tokens)\n",
    "print(f\"{vocab}\\n 어휘 수 :{len(vocab)}\")\n",
    "\n",
    "# 가장 긴 토큰과 길이\n",
    "longest = max(tokens, key=len) if tokens else \"\"\n",
    "print(\"가장 긴 토큰:\", longest, \"| 길이:\", len(longest))\n",
    "    "
   ]
  },
  {
   "cell_type": "markdown",
   "id": "ef358c4d",
   "metadata": {},
   "source": [
    "---\n",
    "## **활용 컴프리헨션**\n",
    "\n",
    "### 1. `apply()` 함수란?\n",
    "\n",
    "#### 🔹 개념\n",
    "\n",
    "`pandas`의 `apply()`는 **DataFrame 또는 Series의 각 원소에 함수를 적용**할 때 사용합니다.\n",
    "\n",
    "루프(`for`)를 돌리지 않고 한 줄로 처리할 수 있어 효율적입니다.\n",
    "\n",
    "```python\n",
    "df[\"cleaned\"] = df[\"review\"].apply(clean_text)\n",
    "\n",
    "```\n",
    "\n",
    "➡️ `\"review\"` 열의 각 행에 `clean_text()` 함수를 적용합니다.\n",
    "\n",
    "### 🔹 작동 구조\n",
    "\n",
    "| 코드 | 의미 |\n",
    "| --- | --- |\n",
    "| `df[\"col\"].apply(func)` | Series(열)의 각 원소에 `func()`를 적용 |\n",
    "| `df.apply(func, axis=1)` | 행(row) 단위로 함수 적용 |"
   ]
  },
  {
   "cell_type": "code",
   "execution_count": 28,
   "id": "95a56889",
   "metadata": {},
   "outputs": [
    {
     "name": "stdout",
     "output_type": "stream",
     "text": [
      "        text  len\n",
      "0        데이터    3\n",
      "1         AI    2\n",
      "2  Python 공부    9\n"
     ]
    }
   ],
   "source": [
    "import pandas as pd\n",
    "\n",
    "df = pd.DataFrame({\"text\": [\"데이터\", \"AI\", \"Python 공부\"]})\n",
    "df[\"len\"] = df[\"text\"].apply(len)\n",
    "print(df)\n"
   ]
  },
  {
   "cell_type": "code",
   "execution_count": null,
   "id": "1d9de9b2",
   "metadata": {},
   "outputs": [
    {
     "data": {
      "text/plain": [
       "0    3\n",
       "1    2\n",
       "2    9\n",
       "Name: text, dtype: int64"
      ]
     },
     "execution_count": 29,
     "metadata": {},
     "output_type": "execute_result"
    }
   ],
   "source": [
    "# ()가 필요없음_기본매서드일 경우\n",
    "df['text'].apply(len)"
   ]
  },
  {
   "cell_type": "code",
   "execution_count": 32,
   "id": "d6ee1df4",
   "metadata": {},
   "outputs": [
    {
     "data": {
      "text/html": [
       "<div>\n",
       "<style scoped>\n",
       "    .dataframe tbody tr th:only-of-type {\n",
       "        vertical-align: middle;\n",
       "    }\n",
       "\n",
       "    .dataframe tbody tr th {\n",
       "        vertical-align: top;\n",
       "    }\n",
       "\n",
       "    .dataframe thead th {\n",
       "        text-align: right;\n",
       "    }\n",
       "</style>\n",
       "<table border=\"1\" class=\"dataframe\">\n",
       "  <thead>\n",
       "    <tr style=\"text-align: right;\">\n",
       "      <th></th>\n",
       "      <th>text</th>\n",
       "      <th>len</th>\n",
       "      <th>word_count</th>\n",
       "    </tr>\n",
       "  </thead>\n",
       "  <tbody>\n",
       "    <tr>\n",
       "      <th>0</th>\n",
       "      <td>데이터</td>\n",
       "      <td>3</td>\n",
       "      <td>1</td>\n",
       "    </tr>\n",
       "    <tr>\n",
       "      <th>1</th>\n",
       "      <td>AI</td>\n",
       "      <td>2</td>\n",
       "      <td>1</td>\n",
       "    </tr>\n",
       "    <tr>\n",
       "      <th>2</th>\n",
       "      <td>Python 공부</td>\n",
       "      <td>9</td>\n",
       "      <td>2</td>\n",
       "    </tr>\n",
       "  </tbody>\n",
       "</table>\n",
       "</div>"
      ],
      "text/plain": [
       "        text  len  word_count\n",
       "0        데이터    3           1\n",
       "1         AI    2           1\n",
       "2  Python 공부    9           2"
      ]
     },
     "metadata": {},
     "output_type": "display_data"
    }
   ],
   "source": [
    "def word_count(text):\n",
    "    return len(text.split())\n",
    "\n",
    "df['word_count'] = df['text'].apply(word_count)\n",
    "display(df)"
   ]
  },
  {
   "cell_type": "markdown",
   "id": "394687a0",
   "metadata": {},
   "source": [
    "## 2. `lambda` 함수\n",
    "\n",
    "### 🔹 개념\n",
    "\n",
    "`lambda`는 한 줄짜리 익명 함수(이름 없는 함수)를 만들 때 사용합니다.\n",
    "`def`를 쓰지 않고 간단한 계산식이나 변환식에 자주 사용됩니다.\n"
   ]
  },
  {
   "cell_type": "code",
   "execution_count": 35,
   "id": "4f29f71b",
   "metadata": {},
   "outputs": [
    {
     "name": "stdout",
     "output_type": "stream",
     "text": [
      "        text  len  word_count\n",
      "0        데이터    3           1\n",
      "1         AI    2           1\n",
      "2  Python 공부    9           2\n"
     ]
    }
   ],
   "source": [
    "df[\"len\"] = df[\"text\"].apply(lambda x: len(x))\n",
    "print(df)"
   ]
  },
  {
   "cell_type": "markdown",
   "id": "97284f77",
   "metadata": {},
   "source": [
    "## 3. 리스트 컴프리헨션 (List Comprehension)\n",
    "\n",
    "### 🔹 개념\n",
    "\n",
    "반복문(`for`)을 한 줄로 간결하게 표현하는 파이썬 문법.\n",
    "\n",
    "> \"리스트를 생성하는 짧은 문법\"\n",
    "### 🔹 기본 구조\n",
    "\n",
    "```python\n",
    "[표현식 for 변수 in 리스트]\n",
    "\n",
    "```\n",
    "\n",
    "필터를 추가하고 싶을 때:\n",
    "\n",
    "```python\n",
    "[표현식 for 변수 in 리스트 if 조건식]\n",
    "\n",
    "```"
   ]
  },
  {
   "cell_type": "code",
   "execution_count": 36,
   "id": "576f0d01",
   "metadata": {},
   "outputs": [
    {
     "name": "stdout",
     "output_type": "stream",
     "text": [
      "['data', 'science', 'ai']\n"
     ]
    }
   ],
   "source": [
    "words = ['Data', 'Science', 'AI']\n",
    "lower_words = [w.lower() for w in words]\n",
    "print(lower_words)"
   ]
  },
  {
   "cell_type": "code",
   "execution_count": 68,
   "id": "57567192",
   "metadata": {},
   "outputs": [
    {
     "name": "stdout",
     "output_type": "stream",
     "text": [
      "[['데이터', '분석', '너무', '좋아요'], ['오늘의', '날씨는', '맑음']]\n"
     ]
    }
   ],
   "source": [
    "import re\n",
    "sample = [\"데이터!! 분석 너무 좋아요 💕\", \"   오늘의 날씨는 맑음!   \"]\n",
    "\n",
    "# 람다\n",
    "clean = lambda x : re.sub(r'[^ㄱ-ㅎ가-힣a-zA-Z09]',' ',x).split()\n",
    "cleaned = [clean(t) for t in sample]\n",
    "print(cleaned)\n"
   ]
  },
  {
   "cell_type": "code",
   "execution_count": 41,
   "id": "0e2b415e",
   "metadata": {},
   "outputs": [
    {
     "name": "stdout",
     "output_type": "stream",
     "text": [
      "[2, 4]\n"
     ]
    }
   ],
   "source": [
    "# 조건을 포함한 리스트\n",
    "\n",
    "nums = [1,2,3,4,5]\n",
    "even = [n for n in nums if n %2 ==0]\n",
    "\n",
    "print(even)"
   ]
  },
  {
   "cell_type": "markdown",
   "id": "e2b4107f",
   "metadata": {},
   "source": [
    "## **실습**\n",
    "\n",
    "- 쿠팡 리뷰 분석"
   ]
  },
  {
   "cell_type": "code",
   "execution_count": 51,
   "id": "81bd77d8",
   "metadata": {},
   "outputs": [],
   "source": [
    "df = pd.DataFrame({\n",
    "    \"review\" : [\n",
    "        \"하루 한포 보장균수 20억 충분한 유산균!\",\n",
    "        \"믿을 수 있는 브랜드!\",\n",
    "        \"아연함유로 면역도 챙길 수 있어요!\",\n",
    "        \"모유 유래 원료 함유!\",\n",
    "        \"이런분께 추천 1. 임신 중 배변활동이 원활하지 않은 분 2. 복부불편감과 변비로 불편하신 분 3. 면역기능이 필요하신 임산부 및 수유부\",\n",
    "        \"벌써 만삭을 향해가는 와이프를 위해 주문했어요.\",\n",
    "        \" 요즘 화장실도 자주 못가고<br>더부룩 하다고 하더라구요. 임산부는 유산균이 필수인데 뒤늦게라도 챙겨보려고 급히 주문했습니다!\",\n",
    "        \"하나씩 휴대하기도 좋게 되어있어서 여행이나 외출할때 주머니에 쏙쏙 챙겨다니기 좋았답니다.\" ,\n",
    "        \"알약 타입이 아닌 분말형이라서 물 없이 그냥 톡 털어넣기에도 장소제약도 없고 부담이 없더라구용 ㅎㅎ\",\n",
    "        \"아연도 들어있어서 더 건강해지는 느낌이에요 ㅎㅎ\",\n",
    "        \"믿고 먹을 수 있었습니다!\" ,\n",
    "        \"앞으로 꾸준히 이걸로 정착해서 변비탈출 하려고 해요 ㅎㅎ만족합니다!!\",\n",
    "    ]\n",
    "})\n",
    "\n"
   ]
  },
  {
   "cell_type": "code",
   "execution_count": 64,
   "id": "450eb997",
   "metadata": {},
   "outputs": [],
   "source": [
    "import re\n",
    "\n",
    "clean = lambda x: re.sub(r'[^ㄱ-ㅎ가-힣a-zA-Z0-9\\s]', ' ', x).split()\n",
    "\n",
    "df[\"tokens\"] = df[\"review\"].apply(clean)\n",
    "df[\"word_count\"] = df[\"tokens\"].apply(len)\n",
    "df[\"vocab_count\"] = df[\"tokens\"].apply(lambda x: len(set(x)))\n"
   ]
  },
  {
   "cell_type": "code",
   "execution_count": 67,
   "id": "b38e70e0",
   "metadata": {},
   "outputs": [
    {
     "data": {
      "text/html": [
       "<div>\n",
       "<style scoped>\n",
       "    .dataframe tbody tr th:only-of-type {\n",
       "        vertical-align: middle;\n",
       "    }\n",
       "\n",
       "    .dataframe tbody tr th {\n",
       "        vertical-align: top;\n",
       "    }\n",
       "\n",
       "    .dataframe thead th {\n",
       "        text-align: right;\n",
       "    }\n",
       "</style>\n",
       "<table border=\"1\" class=\"dataframe\">\n",
       "  <thead>\n",
       "    <tr style=\"text-align: right;\">\n",
       "      <th></th>\n",
       "      <th>review</th>\n",
       "      <th>tokens</th>\n",
       "      <th>word_count</th>\n",
       "      <th>vocab_count</th>\n",
       "    </tr>\n",
       "  </thead>\n",
       "  <tbody>\n",
       "    <tr>\n",
       "      <th>0</th>\n",
       "      <td>하루 한포 보장균수 20억 충분한 유산균!</td>\n",
       "      <td>[하루, 한포, 보장균수, 20억, 충분한, 유산균]</td>\n",
       "      <td>6</td>\n",
       "      <td>6</td>\n",
       "    </tr>\n",
       "    <tr>\n",
       "      <th>1</th>\n",
       "      <td>믿을 수 있는 브랜드!</td>\n",
       "      <td>[믿을, 수, 있는, 브랜드]</td>\n",
       "      <td>4</td>\n",
       "      <td>4</td>\n",
       "    </tr>\n",
       "    <tr>\n",
       "      <th>2</th>\n",
       "      <td>아연함유로 면역도 챙길 수 있어요!</td>\n",
       "      <td>[아연함유로, 면역도, 챙길, 수, 있어요]</td>\n",
       "      <td>5</td>\n",
       "      <td>5</td>\n",
       "    </tr>\n",
       "    <tr>\n",
       "      <th>3</th>\n",
       "      <td>모유 유래 원료 함유!</td>\n",
       "      <td>[모유, 유래, 원료, 함유]</td>\n",
       "      <td>4</td>\n",
       "      <td>4</td>\n",
       "    </tr>\n",
       "    <tr>\n",
       "      <th>4</th>\n",
       "      <td>이런분께 추천 1. 임신 중 배변활동이 원활하지 않은 분 2. 복부불편감과 변비로 ...</td>\n",
       "      <td>[이런분께, 추천, 1, 임신, 중, 배변활동이, 원활하지, 않은, 분, 2, 복부...</td>\n",
       "      <td>20</td>\n",
       "      <td>19</td>\n",
       "    </tr>\n",
       "    <tr>\n",
       "      <th>5</th>\n",
       "      <td>벌써 만삭을 향해가는 와이프를 위해 주문했어요.</td>\n",
       "      <td>[벌써, 만삭을, 향해가는, 와이프를, 위해, 주문했어요]</td>\n",
       "      <td>6</td>\n",
       "      <td>6</td>\n",
       "    </tr>\n",
       "    <tr>\n",
       "      <th>6</th>\n",
       "      <td>요즘 화장실도 자주 못가고&lt;br&gt;더부룩 하다고 하더라구요. 임산부는 유산균이 필수...</td>\n",
       "      <td>[요즘, 화장실도, 자주, 못가고, br, 더부룩, 하다고, 하더라구요, 임산부는,...</td>\n",
       "      <td>15</td>\n",
       "      <td>15</td>\n",
       "    </tr>\n",
       "    <tr>\n",
       "      <th>7</th>\n",
       "      <td>하나씩 휴대하기도 좋게 되어있어서 여행이나 외출할때 주머니에 쏙쏙 챙겨다니기 좋았답니다.</td>\n",
       "      <td>[하나씩, 휴대하기도, 좋게, 되어있어서, 여행이나, 외출할때, 주머니에, 쏙쏙, ...</td>\n",
       "      <td>10</td>\n",
       "      <td>10</td>\n",
       "    </tr>\n",
       "    <tr>\n",
       "      <th>8</th>\n",
       "      <td>알약 타입이 아닌 분말형이라서 물 없이 그냥 톡 털어넣기에도 장소제약도 없고 부담이...</td>\n",
       "      <td>[알약, 타입이, 아닌, 분말형이라서, 물, 없이, 그냥, 톡, 털어넣기에도, 장소...</td>\n",
       "      <td>14</td>\n",
       "      <td>14</td>\n",
       "    </tr>\n",
       "    <tr>\n",
       "      <th>9</th>\n",
       "      <td>아연도 들어있어서 더 건강해지는 느낌이에요 ㅎㅎ</td>\n",
       "      <td>[아연도, 들어있어서, 더, 건강해지는, 느낌이에요, ㅎㅎ]</td>\n",
       "      <td>6</td>\n",
       "      <td>6</td>\n",
       "    </tr>\n",
       "    <tr>\n",
       "      <th>10</th>\n",
       "      <td>믿고 먹을 수 있었습니다!</td>\n",
       "      <td>[믿고, 먹을, 수, 있었습니다]</td>\n",
       "      <td>4</td>\n",
       "      <td>4</td>\n",
       "    </tr>\n",
       "    <tr>\n",
       "      <th>11</th>\n",
       "      <td>앞으로 꾸준히 이걸로 정착해서 변비탈출 하려고 해요 ㅎㅎ만족합니다!!</td>\n",
       "      <td>[앞으로, 꾸준히, 이걸로, 정착해서, 변비탈출, 하려고, 해요, ㅎㅎ만족합니다]</td>\n",
       "      <td>8</td>\n",
       "      <td>8</td>\n",
       "    </tr>\n",
       "  </tbody>\n",
       "</table>\n",
       "</div>"
      ],
      "text/plain": [
       "                                               review  \\\n",
       "0                             하루 한포 보장균수 20억 충분한 유산균!   \n",
       "1                                        믿을 수 있는 브랜드!   \n",
       "2                                 아연함유로 면역도 챙길 수 있어요!   \n",
       "3                                        모유 유래 원료 함유!   \n",
       "4   이런분께 추천 1. 임신 중 배변활동이 원활하지 않은 분 2. 복부불편감과 변비로 ...   \n",
       "5                          벌써 만삭을 향해가는 와이프를 위해 주문했어요.   \n",
       "6    요즘 화장실도 자주 못가고<br>더부룩 하다고 하더라구요. 임산부는 유산균이 필수...   \n",
       "7   하나씩 휴대하기도 좋게 되어있어서 여행이나 외출할때 주머니에 쏙쏙 챙겨다니기 좋았답니다.   \n",
       "8   알약 타입이 아닌 분말형이라서 물 없이 그냥 톡 털어넣기에도 장소제약도 없고 부담이...   \n",
       "9                          아연도 들어있어서 더 건강해지는 느낌이에요 ㅎㅎ   \n",
       "10                                     믿고 먹을 수 있었습니다!   \n",
       "11             앞으로 꾸준히 이걸로 정착해서 변비탈출 하려고 해요 ㅎㅎ만족합니다!!   \n",
       "\n",
       "                                               tokens  word_count  vocab_count  \n",
       "0                       [하루, 한포, 보장균수, 20억, 충분한, 유산균]           6            6  \n",
       "1                                    [믿을, 수, 있는, 브랜드]           4            4  \n",
       "2                            [아연함유로, 면역도, 챙길, 수, 있어요]           5            5  \n",
       "3                                    [모유, 유래, 원료, 함유]           4            4  \n",
       "4   [이런분께, 추천, 1, 임신, 중, 배변활동이, 원활하지, 않은, 분, 2, 복부...          20           19  \n",
       "5                    [벌써, 만삭을, 향해가는, 와이프를, 위해, 주문했어요]           6            6  \n",
       "6   [요즘, 화장실도, 자주, 못가고, br, 더부룩, 하다고, 하더라구요, 임산부는,...          15           15  \n",
       "7   [하나씩, 휴대하기도, 좋게, 되어있어서, 여행이나, 외출할때, 주머니에, 쏙쏙, ...          10           10  \n",
       "8   [알약, 타입이, 아닌, 분말형이라서, 물, 없이, 그냥, 톡, 털어넣기에도, 장소...          14           14  \n",
       "9                   [아연도, 들어있어서, 더, 건강해지는, 느낌이에요, ㅎㅎ]           6            6  \n",
       "10                                 [믿고, 먹을, 수, 있었습니다]           4            4  \n",
       "11      [앞으로, 꾸준히, 이걸로, 정착해서, 변비탈출, 하려고, 해요, ㅎㅎ만족합니다]           8            8  "
      ]
     },
     "metadata": {},
     "output_type": "display_data"
    }
   ],
   "source": [
    "display(df)"
   ]
  },
  {
   "cell_type": "markdown",
   "id": "56e415fe",
   "metadata": {},
   "source": [
    "## **텍스트데이터 전처리 실습**"
   ]
  },
  {
   "cell_type": "code",
   "execution_count": 71,
   "id": "2b079182",
   "metadata": {},
   "outputs": [
    {
     "name": "stdout",
     "output_type": "stream",
     "text": [
      "문자 수: 26\n",
      "토큰 리스트: ['오늘은', '파이썬', '텍스트', '분석을', '배우는', '첫날입니다.']\n",
      "토큰 수: 6\n",
      "어휘 크기: 6\n",
      "가장 긴 토큰: 첫날입니다. | 길이: 6\n"
     ]
    }
   ],
   "source": [
    "# (1) 기본 문장 실습\n",
    "s = \"오늘은 파이썬 텍스트 분석을 배우는 첫날입니다.\"\n",
    "tokens = s.split()\n",
    "vocab = set(tokens)\n",
    "longest = max(tokens, key=len)\n",
    "\n",
    "print(\"문자 수:\", len(s))\n",
    "print(\"토큰 리스트:\", tokens)\n",
    "print(\"토큰 수:\", len(tokens))\n",
    "print(\"어휘 크기:\", len(vocab))\n",
    "print(\"가장 긴 토큰:\", longest, \"| 길이:\", len(longest))\n"
   ]
  },
  {
   "cell_type": "code",
   "execution_count": 72,
   "id": "1ae1d456",
   "metadata": {},
   "outputs": [
    {
     "name": "stdout",
     "output_type": "stream",
     "text": [
      "Before: 와우!!! 파이썬 너무 재밌어요 😊😊  1234\n",
      "After : 와우 파이썬 너무 재밌어요 1234\n"
     ]
    }
   ],
   "source": [
    "import re\n",
    "\n",
    "# (1) 텍스트 정제 함수\n",
    "def clean_text(text):\n",
    "    text = str(text).lower()                            # 소문자 변환\n",
    "    text = re.sub(r\"[^ㄱ-ㅎ가-힣a-z0-9 ]\", \"\", text)     # 한글·영문·숫자 외 제거\n",
    "    text = re.sub(r\"\\s+\", \" \", text).strip()             # 공백 정리\n",
    "    return text\n",
    "\n",
    "# (2) 테스트\n",
    "s = \"와우!!! 파이썬 너무 재밌어요 😊😊  1234\"\n",
    "print(\"Before:\", s)\n",
    "print(\"After :\", clean_text(s))\n"
   ]
  },
  {
   "cell_type": "code",
   "execution_count": 70,
   "id": "2ead2140",
   "metadata": {},
   "outputs": [
    {
     "name": "stdout",
     "output_type": "stream",
     "text": [
      "✅ 데이터 로드 완료: (149993, 3)\n",
      "        id                           review  rating\n",
      "0  9324809       배우들의 인생연기가 돋보였던... 최고의 드라마       1\n",
      "1  9305425              아 혜리 보고싶다 ... 여군좀 ㅠ       0\n",
      "2  5239110  눈이 팅팅..... 정말 ,..... 대박이다......       1\n",
      "3  9148159                 캐슬린 터너의 보디는 볼만했다       0\n",
      "4  6144938                         진짜 최고였다.       1\n"
     ]
    }
   ],
   "source": [
    "import pandas as pd\n",
    "import numpy as np\n",
    "\n",
    "# 데이터 경로\n",
    "path = \"nsmc_train.csv\"\n",
    "\n",
    "# 인코딩 문제 대비 (UTF-8 → CP949 순차 시도)\n",
    "try:\n",
    "    df = pd.read_csv(path, encoding=\"utf-8\")\n",
    "except:\n",
    "    df = pd.read_csv(path, encoding=\"cp949\")\n",
    "\n",
    "print(\"✅ 데이터 로드 완료:\", df.shape)\n",
    "print(df.head())"
   ]
  },
  {
   "cell_type": "code",
   "execution_count": 73,
   "id": "f75a8edf",
   "metadata": {},
   "outputs": [
    {
     "name": "stdout",
     "output_type": "stream",
     "text": [
      "✅ 결측치 제거 후: (149993, 3)\n",
      "        id                           review  rating\n",
      "0  9324809       배우들의 인생연기가 돋보였던... 최고의 드라마       1\n",
      "1  9305425              아 혜리 보고싶다 ... 여군좀 ㅠ       0\n",
      "2  5239110  눈이 팅팅..... 정말 ,..... 대박이다......       1\n"
     ]
    }
   ],
   "source": [
    "# 텍스트 컬럼 자동 탐색\n",
    "text_col = 'review'\n",
    "for c in df.columns:\n",
    "    if 'review' in c.lower() or 'document' in c.lower() or 'text' in c.lower():\n",
    "        text_col = c\n",
    "        break\n",
    "if text_col is None:\n",
    "    text_col = df.columns[0]\n",
    "\n",
    "# 결측치 제거\n",
    "df = df.dropna(subset=[text_col]).copy()\n",
    "df[text_col] = df[text_col].astype(str).str.strip()\n",
    "\n",
    "print(\"✅ 결측치 제거 후:\", df.shape)\n",
    "print(df.head(3))\n"
   ]
  },
  {
   "cell_type": "code",
   "execution_count": 74,
   "id": "bf7e5c27",
   "metadata": {},
   "outputs": [
    {
     "name": "stdout",
     "output_type": "stream",
     "text": [
      "                            review                  cleaned\n",
      "0       배우들의 인생연기가 돋보였던... 최고의 드라마  배우들의 인생연기가 돋보였던 최고의 드라마\n",
      "1              아 혜리 보고싶다 ... 여군좀 ㅠ            아 혜리 보고싶다 여군좀\n",
      "2  눈이 팅팅..... 정말 ,..... 대박이다......            눈이 팅팅 정말 대박이다\n",
      "3                 캐슬린 터너의 보디는 볼만했다         캐슬린 터너의 보디는 볼만했다\n",
      "4                         진짜 최고였다.                  진짜 최고였다\n"
     ]
    }
   ],
   "source": [
    "# clean_text 함수 재사용\n",
    "df[\"cleaned\"] = df[text_col].apply(clean_text)\n",
    "print(df[[\"review\", \"cleaned\"]].head(5))\n"
   ]
  },
  {
   "cell_type": "code",
   "execution_count": 75,
   "id": "1ac53d4b",
   "metadata": {},
   "outputs": [
    {
     "name": "stdout",
     "output_type": "stream",
     "text": [
      "✅ 기본 통계\n",
      "            char_len    token_count     vocab_size\n",
      "count  149993.000000  149993.000000  149993.000000\n",
      "mean       32.608622       7.519078       7.405852\n",
      "std        28.234004       6.493032       6.312439\n",
      "min         0.000000       0.000000       0.000000\n",
      "25%        14.000000       3.000000       3.000000\n",
      "50%        24.000000       6.000000       6.000000\n",
      "75%        39.000000       9.000000       9.000000\n",
      "max       140.000000      42.000000      40.000000\n"
     ]
    }
   ],
   "source": [
    "# 토큰화 및 통계 계산\n",
    "df[\"tokens\"] = df[\"cleaned\"].apply(lambda x: x.split())\n",
    "df[\"token_count\"] = df[\"tokens\"].apply(len)\n",
    "df[\"vocab_size\"] = df[\"tokens\"].apply(lambda x: len(set(x)))\n",
    "df[\"char_len\"] = df[\"cleaned\"].apply(len)\n",
    "\n",
    "# 간단한 통계 요약\n",
    "print(\"✅ 기본 통계\")\n",
    "print(df[[\"char_len\", \"token_count\", \"vocab_size\"]].describe())\n"
   ]
  },
  {
   "cell_type": "code",
   "execution_count": 76,
   "id": "eeaf8af1",
   "metadata": {},
   "outputs": [
    {
     "name": "stdout",
     "output_type": "stream",
     "text": [
      "💾 전처리된 데이터 저장 완료: nsmc_train_cleaned.csv\n"
     ]
    }
   ],
   "source": [
    "# 결과 파일 저장\n",
    "save_path = \"nsmc_train_cleaned.csv\"\n",
    "df[[\"cleaned\", \"token_count\", \"vocab_size\", \"char_len\"]].to_csv(save_path, index=False, encoding=\"utf-8-sig\")\n",
    "print(\"💾 전처리된 데이터 저장 완료:\", save_path)\n"
   ]
  },
  {
   "cell_type": "markdown",
   "id": "739e78da",
   "metadata": {},
   "source": [
    "### 추가 과제(선택)\n",
    "\n",
    "1. `token_count`가 30개 이상인 리뷰만 필터링해 새로운 CSV로 저장\n",
    "2. `vocab_size` 평균보다 높은 리뷰만 추출해보기\n",
    "3. 전체 데이터에서 가장 자주 등장하는 단어 Top 20 출력"
   ]
  },
  {
   "cell_type": "code",
   "execution_count": 77,
   "id": "631d58bb",
   "metadata": {},
   "outputs": [
    {
     "name": "stdout",
     "output_type": "stream",
     "text": [
      "✅ token_count ≥ 30인 리뷰 수: 2628\n",
      "                                               cleaned  token_count\n",
      "46   이거 내용의 80프로가 거짓과 과장입니다 예를 들어 하나면 얘기하자면 이소룡이 영춘...           32\n",
      "98   차라리 잔잔한 목소리로 더빙을 했으면 다큐라도 보는 느낌으로 봤을텐데이건 뭐 뽀로로...           30\n",
      "473  와 진짜 재미없다 연기 대사 연출 모조리 최악 머 이런 영화가 다 있지 평점에 속아...           36\n",
      "596  꼬리에 꼬리를 무는 복수극이라는 시나리오가 상당히 독특하면서도 흥미롭다 잔인한 장면...           31\n",
      "642  아주 지루하고 재미도 없는 그냥 조조 일생의 다큐를 보는 느낌 관우가 죽고 나서 조...           31\n"
     ]
    }
   ],
   "source": [
    "tc_30 = df[df[\"token_count\"] >= 30]\n",
    "print(f\"✅ token_count ≥ 30인 리뷰 수: {len(tc_30)}\")\n",
    "print(tc_30[[\"cleaned\", \"token_count\"]].head(5))\n"
   ]
  },
  {
   "cell_type": "code",
   "execution_count": 78,
   "id": "0011520c",
   "metadata": {},
   "outputs": [
    {
     "name": "stdout",
     "output_type": "stream",
     "text": [
      "✅ vocab_size 평균: 7.41\n",
      "✅ 평균 초과 리뷰 수: 51888\n",
      "                                          cleaned  vocab_size\n",
      "5              오지호 연기 징챠 잘 한다 그리고 전효성 살인사건 빨리 풀었음          10\n",
      "7           상실의 시대와 맞물려 창백하게 흘러가는 청춘의 공허함 리뷰참조하세요           8\n",
      "11            너무 재밌고 감동 그루 츤데레 그리고 미니언들 너무너무너무귀엽다           8\n",
      "12                  중국산 짝퉁 냄새가 풀풀 그나마 린즈링 때문에 참는다           8\n",
      "13  잔인하다 근데 그뿐이다 자꾸 코믹요소를 집어넣으려고 하는 의도가 보이는건 무었일까          10\n"
     ]
    }
   ],
   "source": [
    "vocab_mean = df[\"vocab_size\"].mean()\n",
    "df_vocab_rich = df[df[\"vocab_size\"] > vocab_mean]\n",
    "\n",
    "print(f\"✅ vocab_size 평균: {vocab_mean:.2f}\")\n",
    "print(f\"✅ 평균 초과 리뷰 수: {len(df_vocab_rich)}\")\n",
    "print(df_vocab_rich[[\"cleaned\", \"vocab_size\"]].head(5))"
   ]
  },
  {
   "cell_type": "code",
   "execution_count": 79,
   "id": "74b13e2a",
   "metadata": {},
   "outputs": [
    {
     "name": "stdout",
     "output_type": "stream",
     "text": [
      "✅ 단어 Top 20 (word, count)\n",
      "영화              17865\n",
      "너무              8423\n",
      "정말              7959\n",
      "진짜              6372\n",
      "이               5113\n",
      "왜               3342\n",
      "더               3295\n",
      "이런              3274\n",
      "그냥              3250\n",
      "수               2878\n",
      "영화를             2869\n",
      "잘               2695\n",
      "다               2661\n",
      "보고              2636\n",
      "좀               2524\n",
      "영화는             2492\n",
      "영화가             2431\n",
      "그               2417\n",
      "본               2320\n",
      "최고의             2282\n"
     ]
    }
   ],
   "source": [
    "# 전체 토큰 모으기\n",
    "all_tokens = []\n",
    "for ts in df[\"tokens\"]:\n",
    "    # 빈 문자열만 제외 (도메인 불용어는 아직 배우지 않았으므로 생략)\n",
    "    all_tokens.extend([t for t in ts if t != \"\"])\n",
    "\n",
    "# 직접 빈도 세기(딕셔너리)\n",
    "freq = {}\n",
    "for w in all_tokens:\n",
    "    if w in freq:\n",
    "        freq[w] += 1\n",
    "    else:\n",
    "        freq[w] = 1\n",
    "\n",
    "# 딕셔너리 → (단어, 빈도) 리스트로 변환 후, 빈도 기준 내림차순 정렬\n",
    "items = list(freq.items())\n",
    "items.sort(key=lambda x: x[1], reverse=True)\n",
    "\n",
    "top20 = items[:20]\n",
    "\n",
    "print(\"✅ 단어 Top 20 (word, count)\")\n",
    "for w, c in top20:\n",
    "    print(f\"{w:<15} {c}\")"
   ]
  },
  {
   "cell_type": "code",
   "execution_count": null,
   "id": "28f677cd",
   "metadata": {},
   "outputs": [],
   "source": []
  }
 ],
 "metadata": {
  "kernelspec": {
   "display_name": "base",
   "language": "python",
   "name": "python3"
  },
  "language_info": {
   "codemirror_mode": {
    "name": "ipython",
    "version": 3
   },
   "file_extension": ".py",
   "mimetype": "text/x-python",
   "name": "python",
   "nbconvert_exporter": "python",
   "pygments_lexer": "ipython3",
   "version": "3.13.5"
  }
 },
 "nbformat": 4,
 "nbformat_minor": 5
}
