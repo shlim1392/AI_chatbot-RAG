{
 "cells": [
  {
   "cell_type": "code",
   "execution_count": 23,
   "id": "a6775bd3",
   "metadata": {},
   "outputs": [],
   "source": [
    "# =================== \n",
    "# 1. 딥러닝 라이브러리 불러오기 \n",
    "\n",
    "import pandas as pd\n",
    "# 토크나이저 - 문장은 단어화\n",
    "from tensorflow.keras.preprocessing.text import Tokenizer\n",
    "# pad는 모든 문장을 동일한 길이로 맞추는 기능\n",
    "from tensorflow.keras.preprocessing.sequence import pad_sequences\n",
    "# Sequential -> 딥러닝 모델을 레고처럼 구축\n",
    "from tensorflow.keras.models import Sequential\n",
    "# Embedding -> 단어 -> 가중치화 / Dense 기본 딥러닝 뉴런 구조 / Pooling \n",
    "from tensorflow.keras.layers import Embedding, Dense, GlobalAveragePooling1D, Dropout, LSTM\n",
    "# train_test_split -> 데이터를 80:20으로 분할\n",
    "from sklearn.model_selection import train_test_split\n"
   ]
  },
  {
   "cell_type": "code",
   "execution_count": 8,
   "id": "9448c303",
   "metadata": {},
   "outputs": [],
   "source": [
    "# 데이터 로드\n",
    "data = pd.read_csv('nsmc_train.csv', encoding='utf-8').dropna()\n",
    "X, y = data['review'], data['rating']\n"
   ]
  },
  {
   "cell_type": "code",
   "execution_count": 9,
   "id": "8246f038",
   "metadata": {},
   "outputs": [],
   "source": [
    "# 데이터 분할\n",
    "X_train, X_test, y_train, y_test = train_test_split(X, y, test_size=0.2, random_state=42)\n"
   ]
  },
  {
   "cell_type": "code",
   "execution_count": 14,
   "id": "810d4f7f",
   "metadata": {},
   "outputs": [
    {
     "name": "stdout",
     "output_type": "stream",
     "text": [
      "x트레인 :\n",
      "\n",
      " 42645     두개는 줄려고 했는데 알바가 많아서. 아후 볼거없어서 채널 돌려도 다시 다른데로 돌...\n",
      "104177                                       이렇게까지재미없을수가...\n",
      "39788        평점 너무한거아닌가?? 그냥 영화는영화일뿐.. 충분히 웃으며 즐길수 있는영화인데..\n",
      "49687                                       개~~~~노~~~~잼~~~~\n",
      "47122                                        액션은 조금 봐 줄만 해ㅋ\n",
      "                                ...                        \n",
      "119879                                          짱 재밌습니다.^^^\n",
      "103694    난 완전잼있게 봤는데 평점이 왜이러지?? 마지막 부분 보면서 넘 웃어서 배아플 정도...\n",
      "131932    그렇게 풋풋했던 사랑이 차갑게식어버렸다니 믿을수 없었다. 하지만 영화후반부에서 그것...\n",
      "146867                  찬미예수님♥원장수녀님의사랑그리고삶그리고깨달음저희도받고싶습니다.♥\n",
      "121958                             6.25 전쟁에서 AK-47이 왜나와 -ㅅ-\n",
      "Name: review, Length: 119994, dtype: object\n",
      "\n",
      "y트레인 : \n",
      "\n",
      "42645     0\n",
      "104177    0\n",
      "39788     1\n",
      "49687     0\n",
      "47122     0\n",
      "         ..\n",
      "119879    1\n",
      "103694    1\n",
      "131932    1\n",
      "146867    1\n",
      "121958    0\n",
      "Name: rating, Length: 119994, dtype: int64\n",
      "\n",
      "x테스트 : \n",
      "\n",
      "64257     진짜 죽고싶은 사람만 보세요 정상인이라면 평점 10점은 절대 안나올듯 ~\n",
      "65513                         영웅이 되고싶겟지만 그저 현실 도피.\n",
      "111644                        역시 제인오스틴 소설은 감동을 준다.\n",
      "112563                            평이 너무낮다 괜차늠 볼만했어\n",
      "34217                         CSI쇼 특유의 전개와 뉴욕시의 만남\n",
      "                            ...                   \n",
      "52121                             진짜 이건 좀 아니라고 생각함\n",
      "111866       영화 좋네요..^^ 마음도 짠하고.. 주연 배우들도 너무 멋집니다!\n",
      "93473                            이런판타지없다 스케일스토리다최고\n",
      "96427                                그다지 쿨해 보이진 않다\n",
      "17518                                  가족영환지 조폭영환지\n",
      "Name: review, Length: 29999, dtype: object\n",
      "\n",
      "y테스트 : \n",
      "\n",
      "64257     진짜 죽고싶은 사람만 보세요 정상인이라면 평점 10점은 절대 안나올듯 ~\n",
      "65513                         영웅이 되고싶겟지만 그저 현실 도피.\n",
      "111644                        역시 제인오스틴 소설은 감동을 준다.\n",
      "112563                            평이 너무낮다 괜차늠 볼만했어\n",
      "34217                         CSI쇼 특유의 전개와 뉴욕시의 만남\n",
      "                            ...                   \n",
      "52121                             진짜 이건 좀 아니라고 생각함\n",
      "111866       영화 좋네요..^^ 마음도 짠하고.. 주연 배우들도 너무 멋집니다!\n",
      "93473                            이런판타지없다 스케일스토리다최고\n",
      "96427                                그다지 쿨해 보이진 않다\n",
      "17518                                  가족영환지 조폭영환지\n",
      "Name: review, Length: 29999, dtype: object\n",
      "\n"
     ]
    }
   ],
   "source": [
    "print(f\"x트레인 :\\n\\n {X_train}\\n\")\n",
    "print(f\"y트레인 : \\n\\n{y_train}\\n\")\n",
    "print(f\"x테스트 : \\n\\n{X_test}\\n\")\n",
    "print(f\"y테스트 : \\n\\n{X_test}\\n\")"
   ]
  },
  {
   "cell_type": "code",
   "execution_count": 16,
   "id": "01a426c3",
   "metadata": {},
   "outputs": [],
   "source": [
    "# 토큰화 및 패딩\n",
    "tokenizer = Tokenizer(num_words=5000)\n",
    "tokenizer.fit_on_texts(X_train)\n",
    "X_train_seq = pad_sequences(tokenizer.texts_to_sequences(X_train), maxlen=50)\n",
    "X_test_seq = pad_sequences(tokenizer.texts_to_sequences(X_test), maxlen=50)\n"
   ]
  },
  {
   "cell_type": "code",
   "execution_count": null,
   "id": "a8984576",
   "metadata": {},
   "outputs": [
    {
     "name": "stdout",
     "output_type": "stream",
     "text": [
      "[[   0    0    0 ... 1561 1853   43]\n",
      " [   0    0    0 ...    0    0    0]\n",
      " [   0    0    0 ...    6  390 3691]\n",
      " ...\n",
      " [   0    0    0 ...  693 3510 4019]\n",
      " [   0    0    0 ...    0    0  585]\n",
      " [   0    0    0 ...    0  986 2143]]\n"
     ]
    }
   ],
   "source": [
    "# 단어 빈도수로 카운팅이 먼저됨\n",
    "print(X_train_seq)"
   ]
  },
  {
   "cell_type": "code",
   "execution_count": 26,
   "id": "12998728",
   "metadata": {},
   "outputs": [],
   "source": [
    "# 모델 구성\n",
    "model = Sequential([\n",
    "    Embedding(5000, 64, input_length=50),\n",
    "    LSTM(64, dropout=0.2, recurrent_dropout=0.2),\n",
    "    Dense(32, activation='relu'),\n",
    "    Dropout(0.5),\n",
    "    Dense(1, activation='sigmoid')\n",
    "])\n",
    "\n",
    "# 모델 컴파일\n",
    "# 모델 컴파일을 변경할 때 // 다른 유형의 딥러닝(다중분류/회귀)모델을 사용할 떄\n",
    "model.compile(optimizer='adam', loss='binary_crossentropy', metrics=['accuracy'])"
   ]
  },
  {
   "cell_type": "code",
   "execution_count": 38,
   "id": "c127a8bc",
   "metadata": {},
   "outputs": [
    {
     "name": "stdout",
     "output_type": "stream",
     "text": [
      "Epoch 1/10\n",
      "\u001b[1m750/750\u001b[0m \u001b[32m━━━━━━━━━━━━━━━━━━━━\u001b[0m\u001b[37m\u001b[0m \u001b[1m15s\u001b[0m 20ms/step - accuracy: 0.8486 - loss: 0.2741 - val_accuracy: 0.7618 - val_loss: 0.6856\n",
      "Epoch 2/10\n",
      "\u001b[1m750/750\u001b[0m \u001b[32m━━━━━━━━━━━━━━━━━━━━\u001b[0m\u001b[37m\u001b[0m \u001b[1m15s\u001b[0m 21ms/step - accuracy: 0.8522 - loss: 0.2666 - val_accuracy: 0.7600 - val_loss: 0.6958\n",
      "Epoch 3/10\n",
      "\u001b[1m750/750\u001b[0m \u001b[32m━━━━━━━━━━━━━━━━━━━━\u001b[0m\u001b[37m\u001b[0m \u001b[1m15s\u001b[0m 21ms/step - accuracy: 0.8544 - loss: 0.2608 - val_accuracy: 0.7626 - val_loss: 0.7544\n",
      "Epoch 4/10\n",
      "\u001b[1m750/750\u001b[0m \u001b[32m━━━━━━━━━━━━━━━━━━━━\u001b[0m\u001b[37m\u001b[0m \u001b[1m14s\u001b[0m 19ms/step - accuracy: 0.8566 - loss: 0.2554 - val_accuracy: 0.7626 - val_loss: 0.8022\n"
     ]
    }
   ],
   "source": [
    "# 학습\n",
    "from tensorflow.keras.callbacks import EarlyStopping\n",
    "\n",
    "early_stop = EarlyStopping(monitor='val_loss', patience=3)\n",
    "\n",
    "history = model.fit(\n",
    "    X_train_seq, \n",
    "    y_train, \n",
    "    epochs=10, \n",
    "    batch_size=128, \n",
    "    validation_split=0.2, \n",
    "    callbacks=[early_stop]\n",
    ")\n",
    "\n",
    "# 정상범위 : accuraccy와 val_accuracy가 5%내외일떄 과적합문제는 없음"
   ]
  },
  {
   "cell_type": "code",
   "execution_count": 39,
   "id": "11b1fb2d",
   "metadata": {},
   "outputs": [
    {
     "name": "stdout",
     "output_type": "stream",
     "text": [
      "\u001b[1m938/938\u001b[0m \u001b[32m━━━━━━━━━━━━━━━━━━━━\u001b[0m\u001b[37m\u001b[0m \u001b[1m3s\u001b[0m 3ms/step - accuracy: 0.7570 - loss: 0.8149\n",
      "loss : 0.8149213790893555, accuracy: 0.7570252418518066\n"
     ]
    }
   ],
   "source": [
    "#평가\n",
    "loss, accuracy = model.evaluate(X_test_seq, y_test)\n",
    "print(f\"loss : {loss}, accuracy: {accuracy}\")"
   ]
  },
  {
   "cell_type": "code",
   "execution_count": 40,
   "id": "79d3643c",
   "metadata": {},
   "outputs": [
    {
     "name": "stdout",
     "output_type": "stream",
     "text": [
      "\u001b[1m1/1\u001b[0m \u001b[32m━━━━━━━━━━━━━━━━━━━━\u001b[0m\u001b[37m\u001b[0m \u001b[1m0s\u001b[0m 32ms/step\n",
      "정말 재미있어요! → 긍정 (0.997)\n",
      "\u001b[1m1/1\u001b[0m \u001b[32m━━━━━━━━━━━━━━━━━━━━\u001b[0m\u001b[37m\u001b[0m \u001b[1m0s\u001b[0m 32ms/step\n",
      "별로 였어요 → 부정 (0.019)\n",
      "\u001b[1m1/1\u001b[0m \u001b[32m━━━━━━━━━━━━━━━━━━━━\u001b[0m\u001b[37m\u001b[0m \u001b[1m0s\u001b[0m 47ms/step\n",
      "완전 재밌다 → 긍정 (0.992)\n",
      "\u001b[1m1/1\u001b[0m \u001b[32m━━━━━━━━━━━━━━━━━━━━\u001b[0m\u001b[37m\u001b[0m \u001b[1m0s\u001b[0m 25ms/step\n",
      "흠...이건 좀.. → 부정 (0.032)\n",
      "\u001b[1m1/1\u001b[0m \u001b[32m━━━━━━━━━━━━━━━━━━━━\u001b[0m\u001b[37m\u001b[0m \u001b[1m0s\u001b[0m 28ms/step\n",
      "이게 뭐야 → 부정 (0.052)\n",
      "\u001b[1m1/1\u001b[0m \u001b[32m━━━━━━━━━━━━━━━━━━━━\u001b[0m\u001b[37m\u001b[0m \u001b[1m0s\u001b[0m 24ms/step\n",
      "개꿀잼 → 긍정 (0.997)\n"
     ]
    }
   ],
   "source": [
    "# 예측 테스트\n",
    "test_text = [\"정말 재미있어요!\", \"별로 였어요\", \"완전 재밌다\", \"흠...이건 좀..\", \"이게 뭐야\", \"개꿀잼\"]\n",
    "for text in test_text:\n",
    "    seq = pad_sequences(tokenizer.texts_to_sequences([text]), maxlen=50)\n",
    "    pred = model.predict(seq)[0][0]\n",
    "    print(f\"{text} → {'긍정' if pred > 0.8 else '부정'} ({pred:.3f})\")"
   ]
  },
  {
   "cell_type": "code",
   "execution_count": 41,
   "id": "dfbb7a85",
   "metadata": {},
   "outputs": [
    {
     "data": {
      "image/png": "[encoded data removed]",
      "text/plain": [
       "<Figure size 1200x400 with 2 Axes>"
      ]
     },
     "metadata": {},
     "output_type": "display_data"
    },
    {
     "name": "stdout",
     "output_type": "stream",
     "text": [
      "그래프 저장 완료: training_history.png\n"
     ]
    }
   ],
   "source": [
    "import matplotlib.pyplot as plt      # 시각화 라이브러리\n",
    "import matplotlib                    # matplotlib 기본 설정용\n",
    "import koreanize_matplotlib           # 한글 깨짐 방지\n",
    "\n",
    "\n",
    "# 결과 시각화\n",
    "fig, axes = plt.subplots(1, 2, figsize=(12, 4))\n",
    "\n",
    "# 정확도 그래프\n",
    "axes[0].plot(history.history['accuracy'], label='Train Accuracy', marker='o')\n",
    "axes[0].plot(history.history['val_accuracy'], label='Val Accuracy', marker='s')\n",
    "axes[0].set_title('Model Accuracy')\n",
    "axes[0].set_xlabel('Epoch')\n",
    "axes[0].set_ylabel('Accuracy')\n",
    "axes[0].legend()\n",
    "axes[0].grid(True)\n",
    "\n",
    "# 손실 그래프\n",
    "axes[1].plot(history.history['loss'], label='Train Loss', marker='o')\n",
    "axes[1].plot(history.history['val_loss'], label='Val Loss', marker='s')\n",
    "axes[1].set_title('Model Loss')\n",
    "axes[1].set_xlabel('Epoch')\n",
    "axes[1].set_ylabel('Loss')\n",
    "axes[1].legend()\n",
    "axes[1].grid(True)\n",
    "\n",
    "plt.tight_layout()\n",
    "plt.savefig('training_history.png', dpi=150)\n",
    "plt.show()\n",
    "print(\"그래프 저장 완료: training_history.png\")"
   ]
  },
  {
   "cell_type": "code",
   "execution_count": null,
   "id": "a5a1e222",
   "metadata": {},
   "outputs": [],
   "source": []
  }
 ],
 "metadata": {
  "kernelspec": {
   "display_name": "base",
   "language": "python",
   "name": "python3"
  },
  "language_info": {
   "codemirror_mode": {
    "name": "ipython",
    "version": 3
   },
   "file_extension": ".py",
   "mimetype": "text/x-python",
   "name": "python",
   "nbconvert_exporter": "python",
   "pygments_lexer": "ipython3",
   "version": "3.13.5"
  }
 },
 "nbformat": 4,
 "nbformat_minor": 5
}
