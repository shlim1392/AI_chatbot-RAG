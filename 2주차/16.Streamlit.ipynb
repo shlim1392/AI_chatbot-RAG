{
 "cells": [
  {
   "cell_type": "code",
   "execution_count": 1,
   "id": "e592080a",
   "metadata": {},
   "outputs": [
    {
     "name": "stdout",
     "output_type": "stream",
     "text": [
      "Note: you may need to restart the kernel to use updated packages.\n"
     ]
    }
   ],
   "source": [
    "pip install streamlit -q"
   ]
  },
  {
   "cell_type": "code",
   "execution_count": 1,
   "id": "8c7c89cf",
   "metadata": {},
   "outputs": [
    {
     "name": "stderr",
     "output_type": "stream",
     "text": [
      "2025-10-23 13:41:35.773 WARNING streamlit.runtime.scriptrunner_utils.script_run_context: Thread 'MainThread': missing ScriptRunContext! This warning can be ignored when running in bare mode.\n",
      "2025-10-23 13:41:36.113 \n",
      "  \u001b[33m\u001b[1mWarning:\u001b[0m to view this Streamlit app on a browser, run it with the following\n",
      "  command:\n",
      "\n",
      "    streamlit run c:\\Users\\shlim\\miniconda3\\Lib\\site-packages\\ipykernel_launcher.py [ARGUMENTS]\n",
      "2025-10-23 13:41:36.114 Thread 'MainThread': missing ScriptRunContext! This warning can be ignored when running in bare mode.\n",
      "2025-10-23 13:41:36.115 Thread 'MainThread': missing ScriptRunContext! This warning can be ignored when running in bare mode.\n",
      "2025-10-23 13:41:36.115 Thread 'MainThread': missing ScriptRunContext! This warning can be ignored when running in bare mode.\n",
      "2025-10-23 13:41:36.115 Thread 'MainThread': missing ScriptRunContext! This warning can be ignored when running in bare mode.\n",
      "2025-10-23 13:41:36.116 Thread 'MainThread': missing ScriptRunContext! This warning can be ignored when running in bare mode.\n",
      "2025-10-23 13:41:36.116 Thread 'MainThread': missing ScriptRunContext! This warning can be ignored when running in bare mode.\n",
      "2025-10-23 13:41:36.117 Thread 'MainThread': missing ScriptRunContext! This warning can be ignored when running in bare mode.\n",
      "2025-10-23 13:41:36.118 Thread 'MainThread': missing ScriptRunContext! This warning can be ignored when running in bare mode.\n",
      "2025-10-23 13:41:36.118 Thread 'MainThread': missing ScriptRunContext! This warning can be ignored when running in bare mode.\n",
      "2025-10-23 13:41:36.119 Thread 'MainThread': missing ScriptRunContext! This warning can be ignored when running in bare mode.\n",
      "2025-10-23 13:41:36.119 Thread 'MainThread': missing ScriptRunContext! This warning can be ignored when running in bare mode.\n"
     ]
    }
   ],
   "source": [
    "import streamlit as st\n",
    "\n",
    "st.title(\"Hello Streamlit-er 👋\")\n",
    "st.markdown(\n",
    "    \"\"\" \n",
    "   안녕하세요. \n",
    "\n",
    "    **There's :rainbow[so much] you can build!**\n",
    "\n",
    "    스트림릿에  오신걸 환영 합니다. \n",
    "    \"\"\"\n",
    ")\n",
    "\n",
    "if st.button(\"Send balloons!\"):\n",
    "    st.balloons()\n"
   ]
  },
  {
   "cell_type": "code",
   "execution_count": 12,
   "id": "c4a530d8",
   "metadata": {},
   "outputs": [
    {
     "name": "stderr",
     "output_type": "stream",
     "text": [
      "'wget'��(��) ���� �Ǵ� �ܺ� ����, ������ �� �ִ� ���α׷�, �Ǵ�\n",
      "��ġ ������ �ƴմϴ�.\n"
     ]
    }
   ],
   "source": [
    "!wget -q -O - ipv4.icanhazip.com"
   ]
  },
  {
   "cell_type": "code",
   "execution_count": 13,
   "id": "e8793254",
   "metadata": {},
   "outputs": [
    {
     "name": "stderr",
     "output_type": "stream",
     "text": [
      "Usage: streamlit run [OPTIONS] TARGET [ARGS]...\n",
      "Try 'streamlit run --help' for help.\n",
      "\n",
      "Error: Invalid value: File does not exist: app.py\n",
      "'npx'��(��) ���� �Ǵ� �ܺ� ����, ������ �� �ִ� ���α׷�, �Ǵ�\n",
      "��ġ ������ �ƴմϴ�.\n"
     ]
    }
   ],
   "source": [
    "!streamlit run app.py & npx localtunnel --port 8501"
   ]
  },
  {
   "cell_type": "code",
   "execution_count": 14,
   "id": "7e29a2d9",
   "metadata": {},
   "outputs": [
    {
     "name": "stdout",
     "output_type": "stream",
     "text": [
      "Collecting pyngrok\n",
      "  Downloading pyngrok-7.4.0-py3-none-any.whl.metadata (8.1 kB)\n",
      "Requirement already satisfied: PyYAML>=5.1 in c:\\users\\shlim\\miniconda3\\lib\\site-packages (from pyngrok) (6.0.2)\n",
      "Downloading pyngrok-7.4.0-py3-none-any.whl (25 kB)\n",
      "Installing collected packages: pyngrok\n",
      "Successfully installed pyngrok-7.4.0\n",
      "Note: you may need to restart the kernel to use updated packages.\n"
     ]
    }
   ],
   "source": [
    "pip install pyngrok"
   ]
  },
  {
   "cell_type": "code",
   "execution_count": 8,
   "id": "a9be04ba",
   "metadata": {},
   "outputs": [
    {
     "name": "stdout",
     "output_type": "stream",
     "text": [
      "Authtoken saved to configuration file: C:\\Users\\shlim\\AppData\\Local/ngrok/ngrok.yml\n"
     ]
    }
   ],
   "source": [
    "!ngrok config add-authtoken \"34S5uFljql1NVNUBN6lQS7XUIq0_43VyFEjHSaSXWi7RhuqQp\""
   ]
  },
  {
   "cell_type": "code",
   "execution_count": 14,
   "id": "bab34c80",
   "metadata": {},
   "outputs": [
    {
     "name": "stdout",
     "output_type": "stream",
     "text": [
      "Overwriting app2.py\n"
     ]
    }
   ],
   "source": [
    "%%writefile app2.py\n",
    "\n",
    "import streamlit as st\n",
    "\n",
    "# 1) 제목과 설명\n",
    "st.title(\"나의 첫 스트림릿 어플리케이션\")\n",
    "st.subheader(\"Python으로 웹앱 만들기\")\n",
    "st.write(\"streamlit으로 간단한게 어플리케이션을 만들수 있습니다.\")\n",
    "\n",
    "# 2) 구분선\n",
    "st.markdown(\"---\")\n",
    "st.divider()\n",
    "\n",
    "# 3) 사용자 입력\n",
    "name = st.text_input(\"이름을 입력해주세요\")\n",
    "#    챗봇 입력창\n",
    "st.chat_input(\"질문을 입력해주세요\")\n",
    "\n",
    "# 4) 버튼 / 이벤트\n",
    "if st.button(\"인사하기\"): \n",
    "    st.success(f\"안녕하세요 {name}님 streamlit에 오신것을 환영합니다\")\n",
    "    \n",
    "# 5) 슬라이더(상태조절)\n",
    "age = st.slider(\"나이를 선택해 주세요: \", 0, 100, 25)\n",
    "st.info(f\"선택한 나이 : {age}세 입니다\")\n",
    "\n",
    "# 6) 선택박스\n",
    "hobby = st.selectbox(\"취미를 선택해주세요\", [\"독서\", \"운동\", \"영화감상\", \"코딩\"])\n",
    "st.write(f\"취미 : {hobby}\")"
   ]
  },
  {
   "cell_type": "code",
   "execution_count": null,
   "id": "52600a25",
   "metadata": {},
   "outputs": [
    {
     "name": "stdout",
     "output_type": "stream",
     "text": [
      "NgrokTunnel: \"https://faultlessly-sixpenny-ginette.ngrok-free.dev\" -> \"http://localhost:8080\"\n"
     ]
    },
    {
     "name": "stderr",
     "output_type": "stream",
     "text": [
      "t=2025-10-23T14:13:54+0900 lvl=warn msg=\"failed to open private leg\" id=2875558133d5 privaddr=localhost:8080 err=\"dial tcp [::1]:8080: connectex: No connection could be made because the target machine actively refused it.\"\n",
      "t=2025-10-23T14:13:55+0900 lvl=warn msg=\"failed to open private leg\" id=bea88b8304ef privaddr=localhost:8080 err=\"dial tcp [::1]:8080: connectex: No connection could be made because the target machine actively refused it.\"\n"
     ]
    }
   ],
   "source": [
    "import os\n",
    "from pyngrok import ngrok \n",
    "\n",
    "# 기존에 터널(열려있는 사이트) 종료\n",
    "ngrok.kill()\n",
    "\n",
    "# streamlit 백그라운드 실행\n",
    "os.system(\"streamlit run app2.py &>/dev/null &\")\n",
    "\n",
    "# ngrok 터널 생성\n",
    "public_url = ngrok.connect(8080)\n",
    "\n",
    "print(public_url)"
   ]
  },
  {
   "cell_type": "code",
   "execution_count": 16,
   "id": "2eacf123",
   "metadata": {},
   "outputs": [
    {
     "name": "stderr",
     "output_type": "stream",
     "text": [
      "Usage: streamlit run [OPTIONS] TARGET [ARGS]...\n",
      "Try 'streamlit run --help' for help.\n",
      "\n",
      "Error: Invalid value: File does not exist: app.py\n"
     ]
    }
   ],
   "source": [
    "!streamlit run app.py --server.port 8501"
   ]
  },
  {
   "cell_type": "code",
   "execution_count": 19,
   "id": "1f2d5b02",
   "metadata": {},
   "outputs": [],
   "source": [
    "from pyngrok import ngrok\n",
    "ngrok.kill()"
   ]
  },
  {
   "cell_type": "code",
   "execution_count": null,
   "id": "cc0d37df",
   "metadata": {},
   "outputs": [],
   "source": [
    "st.title(\"🤖 간단한 대화형 챗봇\")\n",
    "\n",
    "# 대화 기록 저장\n",
    "if \"messages\" not in st.session_state:\n",
    "    st.session_state.messages = []\n",
    "\n",
    "# 기존 메시지 출력\n",
    "for msg in st.session_state.messages:\n",
    "    st.chat_message(msg[\"role\"]).write(msg[\"content\"])\n",
    "\n",
    "# 입력창 (하단 고정)\n",
    "if prompt := st.chat_input(\"메시지를 입력하세요:\"):\n",
    "    # 사용자 입력 출력\n",
    "    st.chat_message(\"user\").write(prompt)\n",
    "    st.session_state.messages.append({\"role\": \"user\", \"content\": prompt})\n",
    "\n",
    "    # 간단한 규칙 기반 응답\n",
    "    if \"안녕\" in prompt:\n",
    "        response = \"안녕하세요! 👋 만나서 반가워요.\"\n",
    "    elif \"날씨\" in prompt:\n",
    "        response = \"오늘은 맑고 화창하네요 ☀️\"\n",
    "    elif \"이름\" in prompt:\n",
    "        response = \"저는 Streamlit 챗봇이에요 🤖\"\n",
    "    else:\n",
    "        response = \"음... 그건 아직 잘 모르겠어요 😅\"\n",
    "\n",
    "    # 챗봇 응답 출력\n",
    "    st.chat_message(\"assistant\").write(response)\n",
    "    st.session_state.messages.append({\"role\": \"assistant\", \"content\": response})"
   ]
  }
 ],
 "metadata": {
  "kernelspec": {
   "display_name": "base",
   "language": "python",
   "name": "python3"
  },
  "language_info": {
   "codemirror_mode": {
    "name": "ipython",
    "version": 3
   },
   "file_extension": ".py",
   "mimetype": "text/x-python",
   "name": "python",
   "nbconvert_exporter": "python",
   "pygments_lexer": "ipython3",
   "version": "3.13.5"
  }
 },
 "nbformat": 4,
 "nbformat_minor": 5
}
